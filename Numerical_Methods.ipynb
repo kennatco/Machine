{
 "cells": [
  {
   "cell_type": "markdown",
   "metadata": {
    "colab_type": "text",
    "id": "zJhYW9FBeO9f"
   },
   "source": [
    "**Finite differences in options pricing**"
   ]
  },
  {
   "cell_type": "markdown",
   "metadata": {
    "colab_type": "text",
    "id": "EpQyTYgceqC4"
   },
   "source": [
    "Finite difference methods for option pricing are numerical methods used in mathematical finance for the valuation of options. They were first applied to option pricing by Eduardo Schwartz in 1977.  They are used to price options by approximating the (continuous-time) differential equation that describes how an option price evolves over time by a set of (discrete-time) difference equations. The discrete difference equations may then be solved iteratively to calculate a price for the option. The approach arises since the evolution of the option value can be modelled via a partial differential equation (PDE), as a function of (at least) time and price of underlying; e.g. Black–Scholes PDE. Once in this form, a finite difference model can be derived, and the valuation obtained.\n",
    "\n",
    "Finite difference schemes are very much similar to trinomial tree options pricing, where each node is dependent on three other nodes with an up movement, a down movement, and a flat movement. The motivation behind the finite differencing is the application of the Black-Scholes Partial Differential Equation (PDE) framework (involving functions and their partial derivatives) whose price $S (t )$ is a function of $f (S,t )$ , with $r$ as the risk-free rate, $t$ as the time to maturity, and $\\sigma$ as the volatility\n",
    "of the underlying security:  \\\\\n",
    "${\\displaystyle{\\frac {\\partial f}{\\partial t}}+{\\frac {1}{2}}\\sigma ^{2}S^{2}{\\frac {\\partial ^{2}f}{\\partial S^{2}}}+rS{\\frac {\\partial f}{\\partial S}}-rf=0}$\n",
    "\n",
    "where $f$ is the price of the option as a function of stock price $S$ and time $t$, $r$ is the risk-free interest rate, and ${\\displaystyle \\sigma }$  is the volatility of the stock."
   ]
  },
  {
   "cell_type": "markdown",
   "metadata": {
    "colab_type": "text",
    "id": "p00jYNgXglqb"
   },
   "source": [
    "The finite difference technique tends to converge faster than lattices and\n",
    "approximates complex exotic options very well. To solve a PDE by finite differences working backward in time, a discrete-time grid of size $M$ by $N$ is set up to reflect asset prices over a course of time, such that $S$ and $t$ take on the following values at each point on the grid:"
   ]
  },
  {
   "cell_type": "code",
   "execution_count": 1,
   "metadata": {
    "colab": {},
    "colab_type": "code",
    "id": "dy-EHjxieFfD"
   },
   "outputs": [],
   "source": [
    "\"\"\" Shared attributes and functions of FD \"\"\"\n",
    "import numpy as np\n",
    "class FiniteDifferences(object):\n",
    "    def __init__(self, S0, K, r, T, sigma, Smax, M, N, is_call=True):\n",
    "      self.S0 = S0\n",
    "      self.K = K\n",
    "      self.r = r\n",
    "      self.T = T\n",
    "      self.sigma = sigma\n",
    "      self.Smax = Smax\n",
    "      self.M, self.N = int(M), int(N) # Ensure M&N are integers\n",
    "      self.is_call = is_call\n",
    "      self.dS = Smax / float(self.M)\n",
    "      self.dt = T / float(self.N)\n",
    "      self.i_values = np.arange(self.M)\n",
    "      self.j_values = np.arange(self.N)\n",
    "      self.grid = np.zeros(shape=(self.M+1, self.N+1))\n",
    "      self.boundary_conds = np.linspace(0, Smax, self.M+1)\n",
    "    def _setup_boundary_conditions_(self):\n",
    "      pass\n",
    "    def _setup_coefficients_(self):\n",
    "      pass\n",
    "    def _traverse_grid_(self):\n",
    "      #\"\"\" Iterate the grid backwards in time \"\"\"\n",
    "      pass\n",
    "    def _interpolate_(self):\n",
    "    #\"\"\"\n",
    "    #Use piecewise linear interpolation on the initial\n",
    "    #grid column to get the closest price at S0.\n",
    "    #\"\"\"\n",
    "      return np.interp(self.S0, self.boundary_conds, self.grid[:, 0])\n",
    "    def price(self):\n",
    "      self._setup_boundary_conditions_()\n",
    "      self._setup_coefficients_()\n",
    "      self._traverse_grid_()\n",
    "      return self._interpolate_()"
   ]
  },
  {
   "cell_type": "markdown",
   "metadata": {
    "colab_type": "text",
    "id": "IZVAvOs0L1f5"
   },
   "source": [
    "From the above;\n",
    "\n",
    "_setup_boundary_conditions_: This method sets up the boundary conditions of the grid structure as a NumPy two-dimensional array.\n",
    "\n",
    "_setup_coefficients_: This method sets up the necessary coefficients used for traversing the grid structure\n",
    "\n",
    "_traverse_grid_: This method iterates the grid structure backward in time,\n",
    "storing the calculated values toward the first column of the grid\n",
    "\n",
    "_interpolate_: Using the final calculated values on the first column of the\n",
    "grid, this method will interpolate these values to find the option price that\n",
    "closely infers the initial stock price, $S_0$\n"
   ]
  },
  {
   "cell_type": "markdown",
   "metadata": {
    "colab_type": "text",
    "id": "qmIADogWStpM"
   },
   "source": [
    "The Python implementation of finite differences by the explicit method is given in the following FDExplicitEu class, which inherits from the FiniteDifferences\n",
    "class and overrides the required implementation methods."
   ]
  },
  {
   "cell_type": "code",
   "execution_count": 2,
   "metadata": {
    "colab": {},
    "colab_type": "code",
    "id": "vQT1Rj7mSNJU"
   },
   "outputs": [],
   "source": [
    "\"\"\" Explicit method of Finite Differences \"\"\"\n",
    "import numpy as np\n",
    "class FDExplicitEu(FiniteDifferences):\n",
    "  def _setup_boundary_conditions_(self):\n",
    "    if self.is_call:\n",
    "     self.grid[:, -1] = np.maximum(\n",
    "     self.boundary_conds - self.K, 0)\n",
    "     self.grid[-1, :-1] = (self.Smax - self.K) * np.exp(-self.r *self.dt *\n",
    "                                                      (self.N-self.j_values))\n",
    "    else:\n",
    "      self.grid[:, -1] = np.maximum(self.K-self.boundary_conds, 0)\n",
    "      self.grid[0, :-1] = (self.K - self.Smax) * np.exp(-self.r *self.dt * \n",
    "                                                       (self.N-self.j_values))\n",
    "     \n",
    "  def _setup_coefficients_(self):\n",
    "    self.a = 0.5*self.dt*((self.sigma**2) * (self.i_values**2) - \n",
    "                          self.r*self.i_values)\n",
    "    self.b = 1 - self.dt*((self.sigma**2) * (self.i_values**2) + self.r)\n",
    "    self.c = 0.5*self.dt*((self.sigma**2) * (self.i_values**2) + self.r*\n",
    "                                                          self.i_values)\n",
    "  def _traverse_grid_(self):\n",
    "    for j in reversed(self.j_values):\n",
    "      for i in range(self.M)[2:]:\n",
    "        self.grid[i,j] = self.a[i]*self.grid[i-1,j+1] + self.b[i]* self.grid[i,j+1] + self.c[i]*self.grid[i+1,j+1]\n"
   ]
  },
  {
   "cell_type": "markdown",
   "metadata": {
    "colab_type": "text",
    "id": "u-KKw6kRueaO"
   },
   "source": [
    "On completion of traversing the grid structure, the first column contains the present value of the initial asset prices at $t=0$. The interp function of NumPy is used to perform a linear interpolation to approximate the option value.  \\\\\n",
    "\n",
    "Besides using linear interpolation as the most common choice for the interpolation method, the other methods such as the spline or cubic may be used to approximate the option value. Consider the example of an European put option. The underlying stock price is $\\$10$ with a volatility of 20 percent. The strike price of the put option is $\\$10$ with an expiration time of $0.5$ years. The risk-free rate is $5$ percent. We can price the option using the explicit method with a Smax value of 10, an M value of 30, and N value of 100:"
   ]
  },
  {
   "cell_type": "code",
   "execution_count": 3,
   "metadata": {
    "colab": {
     "base_uri": "https://localhost:8080/",
     "height": 35
    },
    "colab_type": "code",
    "id": "q0c7n82h9vHb",
    "outputId": "cf489b4a-3820-4db5-cf7c-647416e8bd18"
   },
   "outputs": [
    {
     "name": "stdout",
     "output_type": "stream",
     "text": [
      "0.4263717421812661\n"
     ]
    }
   ],
   "source": [
    "#from FDExplicitEu import FDExplicitEu\n",
    "option = FDExplicitEu(10, 10, 0.05, 6./12., 0.2, 20, 30, 100, False)\n",
    "print(option.price())\n"
   ]
  },
  {
   "cell_type": "markdown",
   "metadata": {
    "colab_type": "text",
    "id": "xLxCWcigi0t0"
   },
   "source": [
    "What happens when other values of M and N are chosen improperly?"
   ]
  },
  {
   "cell_type": "code",
   "execution_count": 170,
   "metadata": {
    "colab": {
     "base_uri": "https://localhost:8080/",
     "height": 35
    },
    "colab_type": "code",
    "id": "VD-w_WqF_Klv",
    "outputId": "fb834e17-e177-4779-cbf3-3640b2d8b9af"
   },
   "outputs": [
    {
     "name": "stdout",
     "output_type": "stream",
     "text": [
      "0.5682304812680767 11\n"
     ]
    }
   ],
   "source": [
    "import numpy as np\n",
    "import matplotlib.pyplot as plt\n",
    "\n",
    "M = np.random.choice([1, 11, 21, 31, 41, 51, 61, 71, 81, 91, 101])\n",
    "option_e = FDExplicitEu(10, 10, 0.05, 6./12., 0.2, 20, M, 100, False)\n",
    "print(option_e.price(), M)"
   ]
  },
  {
   "cell_type": "code",
   "execution_count": 207,
   "metadata": {
    "colab": {
     "base_uri": "https://localhost:8080/",
     "height": 295
    },
    "colab_type": "code",
    "id": "s6Ue254UTEnt",
    "outputId": "ec00c5ae-f415-4927-d7f6-b086ba4121ef"
   },
   "outputs": [
    {
     "data": {
      "image/png": "[encoded data removed]",
      "text/plain": [
       "<Figure size 432x288 with 1 Axes>"
      ]
     },
     "metadata": {
      "needs_background": "light",
      "tags": []
     },
     "output_type": "display_data"
    }
   ],
   "source": [
    "import pandas as pd\n",
    "M = pd.DataFrame([1,11,21,31,41,51,61,71,81,91])\n",
    "put_price_em = pd.DataFrame([-4.8765495601416635, 0.5682304812680767, 0.4738916307914912, \n",
    "                  0.4566735368510726, 0.4506164408858425, 0.4462367375126475, \n",
    "                  0.4452971850946051, 0.44468460709777424, 0.4442631002830333, \n",
    "                  0.4439607061673019])\n",
    "plt.plot(M, put_price_em)\n",
    "plt.title('Put Price - Explicit Method')\n",
    "plt.xlabel('M')\n",
    "plt.ylabel('Put Price')\n",
    "plt.show()\n"
   ]
  },
  {
   "cell_type": "code",
   "execution_count": 205,
   "metadata": {
    "colab": {
     "base_uri": "https://localhost:8080/",
     "height": 35
    },
    "colab_type": "code",
    "id": "4nzmPkReXQFT",
    "outputId": "16ab9cb1-cf4a-48f6-9853-18b8723e4e8c"
   },
   "outputs": [
    {
     "name": "stdout",
     "output_type": "stream",
     "text": [
      "0.425701406437394 810\n"
     ]
    }
   ],
   "source": [
    "N = np.random.choice([10, 110, 210, 310, 410, 510, 610, 710, 810, 910, 1010])\n",
    "option_e = FDExplicitEu(10, 10, 0.05, 6./12., 0.2, 20, 30, N, False)\n",
    "print(option_e.price(), N) "
   ]
  },
  {
   "cell_type": "code",
   "execution_count": 208,
   "metadata": {
    "colab": {
     "base_uri": "https://localhost:8080/",
     "height": 295
    },
    "colab_type": "code",
    "id": "g5T-bhKJXpyK",
    "outputId": "9c15cae4-03a6-44be-a784-7bed5a3e0f5d"
   },
   "outputs": [
    {
     "data": {
      "image/png": "[encoded data removed]",
      "text/plain": [
       "<Figure size 432x288 with 1 Axes>"
      ]
     },
     "metadata": {
      "needs_background": "light",
      "tags": []
     },
     "output_type": "display_data"
    }
   ],
   "source": [
    "N = pd.DataFrame([10,110,210,310,410,510,610,710,810,910,1010])\n",
    "put_price_en = pd.DataFrame([0.43322509391778047, 0.4263022482234592, 0.42597123377105883, \n",
    "                  0.4258537407200049, 0.42579355394884466, 0.4257569673776529, \n",
    "                  0.42573237535929703, 0.4257147101516322, 0.425701406437394, \n",
    "                  0.4256910264455501, 0.42568270178943834])\n",
    "plt.plot(N, put_price_en)\n",
    "plt.title('Put Price - Explicit Method')\n",
    "plt.xlabel('N')\n",
    "plt.ylabel('Put Price')\n",
    "plt.show()\n"
   ]
  },
  {
   "cell_type": "markdown",
   "metadata": {
    "colab_type": "text",
    "id": "7rPx8_D1jSkU"
   },
   "source": [
    "It appears that the explicit method of the finite difference scheme suffers from\n",
    "instability problems."
   ]
  },
  {
   "cell_type": "markdown",
   "metadata": {
    "colab_type": "text",
    "id": "lNvaZCIVcHoT"
   },
   "source": [
    "Implicit Scheme"
   ]
  },
  {
   "cell_type": "code",
   "execution_count": 45,
   "metadata": {
    "colab": {},
    "colab_type": "code",
    "id": "KiAljzf_RCVi"
   },
   "outputs": [],
   "source": [
    "\"\"\"\n",
    "Price a European option by the implicit method\n",
    "of finite differences.\n",
    "\"\"\"\n",
    "import numpy as np\n",
    "import scipy.linalg as linalg\n",
    "#from FDExplicitEu import FDExplicitEu\n",
    "class FDImplicitEu(FDExplicitEu):\n",
    "  def _setup_coefficients_(self):\n",
    "    self.a = 0.5*(self.r*self.dt*self.i_values -(self.sigma**2)*self.dt*(self.i_values**2))\n",
    "    self.b = 1 + (self.sigma**2)*self.dt*(self.i_values**2) + self.r*self.dt\n",
    "    self.c = -0.5*(self.r * self.dt*self.i_values + (self.sigma**2)*self.dt*(self.i_values**2))\n",
    "    self.coeffs = np.diag(self.a[2:self.M], -1) + np.diag(self.b[1:self.M]) + np.diag(self.c[1:self.M-1], 1)\n",
    " \n",
    "  def _traverse_grid_(self):\n",
    "    \"\"\" Solve using linear systems of equations \"\"\"\n",
    "    P, L, U = linalg.lu(self.coeffs)\n",
    "    aux = np.zeros(self.M-1)\n",
    "    for j in reversed(range(self.N)):\n",
    "      aux[0] = np.dot(-self.a[1], self.grid[0, j])\n",
    "      x1 = linalg.solve(L, self.grid[1:self.M, j+1]+aux)\n",
    "      x2 = linalg.solve(U, x1)\n",
    "      self.grid[1:self.M, j] = x2   "
   ]
  },
  {
   "cell_type": "markdown",
   "metadata": {
    "colab_type": "text",
    "id": "AhfkItDydmQ3"
   },
   "source": [
    "Using the same example as with the explicit scheme, we can price an European put option using the implicit scheme:"
   ]
  },
  {
   "cell_type": "code",
   "execution_count": 46,
   "metadata": {
    "colab": {
     "base_uri": "https://localhost:8080/",
     "height": 35
    },
    "colab_type": "code",
    "id": "IQyHNYwLRBLp",
    "outputId": "d8490148-4902-42a2-ad74-06b5f6c88cc6"
   },
   "outputs": [
    {
     "name": "stdout",
     "output_type": "stream",
     "text": [
      "0.42484132969633526\n"
     ]
    }
   ],
   "source": [
    "#from FDImplicitEu import FDImplicitEu\n",
    "option1 = FDImplicitEu(10, 10, 0.05, 6./12., 0.2, 20, 30,100, False)\n",
    "print(option1.price())"
   ]
  },
  {
   "cell_type": "markdown",
   "metadata": {
    "colab_type": "text",
    "id": "a2ut7HYEHtvA"
   },
   "source": [
    "With varying number of M;"
   ]
  },
  {
   "cell_type": "code",
   "execution_count": 116,
   "metadata": {
    "colab": {
     "base_uri": "https://localhost:8080/",
     "height": 35
    },
    "colab_type": "code",
    "id": "TN7mOhySfFMj",
    "outputId": "bdc56285-4759-4a37-bf03-4a17976dd4f7"
   },
   "outputs": [
    {
     "name": "stdout",
     "output_type": "stream",
     "text": [
      "0.44332870112491646 81\n"
     ]
    }
   ],
   "source": [
    "#for M in np.arange(1,100,10):   \n",
    "M = np.random.choice([1, 11, 21, 31, 41, 51, 61, 71, 81, 91, 101])\n",
    "option_i = FDImplicitEu(10, 10, 0.05, 6./12., 0.2, 20, M, 100, False)\n",
    "print(option_i.price(), M)"
   ]
  },
  {
   "cell_type": "code",
   "execution_count": 209,
   "metadata": {
    "colab": {
     "base_uri": "https://localhost:8080/",
     "height": 295
    },
    "colab_type": "code",
    "id": "GL6L52mrQrgJ",
    "outputId": "a86bd65c-baac-490c-d46b-e1e091503767"
   },
   "outputs": [
    {
     "data": {
      "image/png": "[encoded data removed]",
      "text/plain": [
       "<Figure size 432x288 with 1 Axes>"
      ]
     },
     "metadata": {
      "needs_background": "light",
      "tags": []
     },
     "output_type": "display_data"
    }
   ],
   "source": [
    "import pandas as pd\n",
    "M = pd.DataFrame([11,21,31,41,51,61,71,81,91,101])\n",
    "put_price_im = pd.DataFrame([0.5678114865545101, 0.47282429451933866, 0.4554223849368295, \n",
    "                  0.4493107673832888, 0.4464559712909301, 0.44489373111521846, \n",
    "                  0.44394635113150305, 0.44332870112491646, 0.4429037183626483, \n",
    "                  0.4425988374806681])\n",
    "plt.plot(M, put_price_im)\n",
    "plt.title('Put Price - Implicit Method')\n",
    "plt.xlabel('M')\n",
    "plt.ylabel('Put Price')\n",
    "plt.show()"
   ]
  },
  {
   "cell_type": "markdown",
   "metadata": {
    "colab_type": "text",
    "id": "oRZeq4ypHyCK"
   },
   "source": [
    "With varying N;"
   ]
  },
  {
   "cell_type": "code",
   "execution_count": 149,
   "metadata": {
    "colab": {
     "base_uri": "https://localhost:8080/",
     "height": 35
    },
    "colab_type": "code",
    "id": "9o4Pw4YYHrW_",
    "outputId": "6d97fcc2-d11b-410f-9a02-de72755ecab3"
   },
   "outputs": [
    {
     "name": "stdout",
     "output_type": "stream",
     "text": [
      "0.42548148870952207 610\n"
     ]
    }
   ],
   "source": [
    "#for N in np.arange(10,1000,100): \n",
    "N = np.random.choice([10, 110, 210, 310, 410, 510, 610, 710, 810, 910, 1010])\n",
    "option_i = FDImplicitEu(10, 10, 0.05, 6./12., 0.2, 20, 30, N, False)\n",
    "print(option_i.price(), N)    "
   ]
  },
  {
   "cell_type": "markdown",
   "metadata": {
    "colab_type": "text",
    "id": "o6sGtdORfTY8"
   },
   "source": [
    "Given the current parameters and input data, it is observed that there are no stability issues with the implicit scheme."
   ]
  },
  {
   "cell_type": "code",
   "execution_count": 210,
   "metadata": {
    "colab": {
     "base_uri": "https://localhost:8080/",
     "height": 295
    },
    "colab_type": "code",
    "id": "Je_QSJBMTg2y",
    "outputId": "cdbc07f1-a085-448c-9ec8-15be176c607c"
   },
   "outputs": [
    {
     "data": {
      "image/png": "[encoded data removed]",
      "text/plain": [
       "<Figure size 432x288 with 1 Axes>"
      ]
     },
     "metadata": {
      "needs_background": "light",
      "tags": []
     },
     "output_type": "display_data"
    }
   ],
   "source": [
    "N = pd.DataFrame([10,110,210,310,410,510,610,710,810,910,1010])\n",
    "put_price_in = pd.DataFrame([0.4179171641776067, 0.4249109647825227, 0.4252424674051111, \n",
    "                  0.4253600604379406, 0.4254202835354404, 0.42545688725801606, \n",
    "                  0.42548148870952207, 0.42549915965368373, 0.4255124671143255, \n",
    "                  0.425522849686862, 0.425531176195869])\n",
    "plt.plot(N, put_price_in)\n",
    "plt.title('Put Price - Implicit Method')\n",
    "plt.xlabel('N')\n",
    "plt.ylabel('Put Price')\n",
    "plt.show()"
   ]
  },
  {
   "cell_type": "markdown",
   "metadata": {
    "colab_type": "text",
    "id": "X2DKXniLqKrR"
   },
   "source": [
    "The Crank-Nicolson Scheme"
   ]
  },
  {
   "cell_type": "code",
   "execution_count": 56,
   "metadata": {
    "colab": {},
    "colab_type": "code",
    "id": "IwTcssvTfbs2"
   },
   "outputs": [],
   "source": [
    "\"\"\" Crank-Nicolson method of Finite Differences \"\"\"\n",
    "import numpy as np\n",
    "import scipy.linalg as linalg\n",
    "#from FDExplicitEu import FDExplicitEu\n",
    "\n",
    "class FDCnEu(FDExplicitEu):\n",
    "  def _setup_coefficients_(self):\n",
    "    self.alpha = 0.25*self.dt*((self.sigma**2)*(self.i_values**2) - self.r*self.i_values)\n",
    "    self.beta = -self.dt*0.5*((self.sigma**2)*(self.i_values**2) + self.r)\n",
    "    self.gamma = 0.25*self.dt*((self.sigma**2)*(self.i_values**2) + self.r*self.i_values)\n",
    "    self.M1 = -np.diag(self.alpha[2:self.M], -1) + np.diag(1-self.beta[1:self.M]) - np.diag(self.gamma[1:self.M-1], 1)\n",
    "    self.M2 = np.diag(self.alpha[2:self.M], -1) + np.diag(1+self.beta[1:self.M]) + np.diag(self.gamma[1:self.M-1], 1)\n",
    "\n",
    "  def _traverse_grid_(self):\n",
    "    \"\"\" Solve using linear systems of equations \"\"\"\n",
    "    P, L, U = linalg.lu(self.M1)\n",
    "    for j in reversed(range(self.N)):\n",
    "      x1 = linalg.solve(L, np.dot(self.M2,self.grid[1:self.M, j+1]))\n",
    "      x2 = linalg.solve(U, x1)\n",
    "      self.grid[1:self.M, j] = x2"
   ]
  },
  {
   "cell_type": "markdown",
   "metadata": {
    "colab_type": "text",
    "id": "Ni90uw4ZrSQV"
   },
   "source": [
    "Using the same examples as with the explicit and implicit methods, we can price\n",
    "an European put option using the Crank-Nicolson method for different time\n",
    "point intervals:"
   ]
  },
  {
   "cell_type": "code",
   "execution_count": 75,
   "metadata": {
    "colab": {
     "base_uri": "https://localhost:8080/",
     "height": 35
    },
    "colab_type": "code",
    "id": "8SXnkdJZrQw7",
    "outputId": "1ad57b5e-3f4d-4032-b81c-6d1d3c79aa97"
   },
   "outputs": [
    {
     "name": "stdout",
     "output_type": "stream",
     "text": [
      "0.4256090855864528\n"
     ]
    }
   ],
   "source": [
    "#from FDCnEu import FDCnEu\n",
    "option = FDCnEu(10, 10, 0.05, 6./12., 0.2, 20, 30, 100, False)\n",
    "print(option.price())"
   ]
  },
  {
   "cell_type": "markdown",
   "metadata": {
    "colab_type": "text",
    "id": "LsmRH82aIuOi"
   },
   "source": [
    "With varying M;"
   ]
  },
  {
   "cell_type": "code",
   "execution_count": 255,
   "metadata": {
    "colab": {
     "base_uri": "https://localhost:8080/",
     "height": 35
    },
    "colab_type": "code",
    "id": "jGPmdeg3IZcu",
    "outputId": "597ae5c6-87b1-4290-99dc-cc69abe32693"
   },
   "outputs": [
    {
     "name": "stdout",
     "output_type": "stream",
     "text": [
      "0.44462299536647204 71\n"
     ]
    }
   ],
   "source": [
    "M = np.random.choice([11, 21, 31, 41, 51, 61, 71, 81, 91, 101])\n",
    "option_c = FDCnEu(10, 10, 0.05, 6./12., 0.2, 20, M, 100, False)\n",
    "print(option_c.price(), M)"
   ]
  },
  {
   "cell_type": "code",
   "execution_count": 292,
   "metadata": {
    "colab": {
     "base_uri": "https://localhost:8080/",
     "height": 295
    },
    "colab_type": "code",
    "id": "GyYC1PaDaBUt",
    "outputId": "407ca404-ff49-461f-8e4b-6fc638992a39"
   },
   "outputs": [
    {
     "data": {
      "image/png": "[encoded data removed]",
      "text/plain": [
       "<Figure size 432x288 with 1 Axes>"
      ]
     },
     "metadata": {
      "needs_background": "light",
      "tags": []
     },
     "output_type": "display_data"
    }
   ],
   "source": [
    "M = pd.DataFrame([11,21,31,41,51,61,71,81,91,101])\n",
    "put_price_cm = pd.DataFrame([0.5680216778317226, 0.47335761195478576, 0.45604863883867874, \n",
    "                  0.4499646050332209, 0.4471220797986385, 0.44556642385610057, \n",
    "                  0.44506642385610057, 0.44462299536647204, 0.4435846771535273, \n",
    "                  0.44328105134745965])\n",
    "plt.plot(M, put_price_cm)\n",
    "plt.title('Put Price - Crank-Nicolson Method')\n",
    "plt.xlabel('M')\n",
    "plt.ylabel('Put Price')\n",
    "plt.show()\n"
   ]
  },
  {
   "cell_type": "markdown",
   "metadata": {
    "colab_type": "text",
    "id": "PYJT8316IxIT"
   },
   "source": [
    "With varying N;"
   ]
  },
  {
   "cell_type": "code",
   "execution_count": 279,
   "metadata": {
    "colab": {
     "base_uri": "https://localhost:8080/",
     "height": 35
    },
    "colab_type": "code",
    "id": "omDGZdD0roop",
    "outputId": "a14e8d8b-64b8-4f78-fbbb-6513b1bb2932"
   },
   "outputs": [
    {
     "name": "stdout",
     "output_type": "stream",
     "text": [
      "0.4256069639935148 1010\n"
     ]
    }
   ],
   "source": [
    "#for N in np.arange(10, 1000, 100):\n",
    "N = np.random.choice([10, 110, 210, 310, 410, 510, 610, 710, 810, 910, 1010])\n",
    "option_c = FDCnEu(10, 10, 0.05, 6./12., 0.2, 20, 30, N, False)\n",
    "print(option_c.price(), N)  "
   ]
  },
  {
   "cell_type": "code",
   "execution_count": 281,
   "metadata": {
    "colab": {
     "base_uri": "https://localhost:8080/",
     "height": 295
    },
    "colab_type": "code",
    "id": "e6D9JM36cAew",
    "outputId": "e71970e5-5faa-42e4-86c9-18e4b3c600cd"
   },
   "outputs": [
    {
     "data": {
      "image/png": "[encoded data removed]",
      "text/plain": [
       "<Figure size 432x288 with 1 Axes>"
      ]
     },
     "metadata": {
      "needs_background": "light",
      "tags": []
     },
     "output_type": "display_data"
    }
   ],
   "source": [
    "N = pd.DataFrame([10,210,310,410,510,610,710,810,910,1010])\n",
    "put_price_cn = pd.DataFrame([0.42581984791153044, 0.42560742886211833, 0.42560716595611875, \n",
    "                  0.42560707045573276, 0.4256070253693765, 0.42560700057319917, \n",
    "                  0.42560698549448167, 0.42560697564703315, 0.425606968863713, \n",
    "                  0.4256069639935148])\n",
    "plt.plot(N, put_price_cn)\n",
    "plt.title('Put Price - Crank-Nicolson Method')\n",
    "plt.xlabel('N')\n",
    "plt.ylabel('Put Price')\n",
    "plt.show()"
   ]
  },
  {
   "cell_type": "markdown",
   "metadata": {
    "colab_type": "text",
    "id": "IOvDEtMfrx_A"
   },
   "source": [
    "From the observed values, the Crank-Nicolson method not only avoids the instability issue seen in the explicit scheme, but also converges faster than both the explicit and implicit methods. The implicit method requires more iterations, or bigger values of $N$, to produce values close to those of the Crank-Nicolson method."
   ]
  },
  {
   "cell_type": "code",
   "execution_count": 293,
   "metadata": {
    "colab": {
     "base_uri": "https://localhost:8080/",
     "height": 350
    },
    "colab_type": "code",
    "id": "ZUdUI6ddNklM",
    "outputId": "d8796bef-0fab-467b-e181-2f39f679a1fd"
   },
   "outputs": [
    {
     "data": {
      "image/png": "[encoded data removed]",
      "text/plain": [
       "<Figure size 864x360 with 1 Axes>"
      ]
     },
     "metadata": {
      "needs_background": "light",
      "tags": []
     },
     "output_type": "display_data"
    }
   ],
   "source": [
    "fig, ax = plt.subplots(figsize=(12,5))\n",
    "plt.plot(M, put_price_cm, lw=2, color='red', ls='dashed', label='Crank-Nicolson')\n",
    "plt.plot(M, put_price_im, lw=2, color='blue', ls='dashed', label='Implicit')\n",
    "plt.plot(M, put_price_em, lw=2, color='green', ls='dashed', label='Explicit')\n",
    "plt.title('Put Prices Across the 3 Approaches')\n",
    "plt.xlabel('M')\n",
    "plt.ylabel('Put Price')\n",
    "plt.legend()\n",
    "plt.show()"
   ]
  },
  {
   "cell_type": "code",
   "execution_count": 289,
   "metadata": {
    "colab": {
     "base_uri": "https://localhost:8080/",
     "height": 350
    },
    "colab_type": "code",
    "id": "EaAh8iOggiPm",
    "outputId": "45a4d8ad-61e8-4f0d-b520-4b4413abefd2"
   },
   "outputs": [
    {
     "data": {
      "image/png": "[encoded data removed]",
      "text/plain": [
       "<Figure size 864x360 with 1 Axes>"
      ]
     },
     "metadata": {
      "needs_background": "light",
      "tags": []
     },
     "output_type": "display_data"
    }
   ],
   "source": [
    "fig, ax = plt.subplots(figsize=(12,5))\n",
    "plt.plot(put_price_cn, lw=2, color='red', ls='dashed', label='Crank-Nicolson')\n",
    "plt.plot(put_price_in, lw=2, color='blue', ls='dashed', label='Implicit')\n",
    "plt.plot(put_price_en, lw=2, color='green', ls='dashed', label='Explicit')\n",
    "plt.title('Put Prices Across the 3 Approaches')\n",
    "plt.xlabel('N')\n",
    "plt.ylabel('Put Price')\n",
    "plt.legend()\n",
    "plt.show()"
   ]
  },
  {
   "cell_type": "markdown",
   "metadata": {
    "colab_type": "text",
    "id": "18Pdhl7Pw80b"
   },
   "source": [
    "Analytical solution;"
   ]
  },
  {
   "cell_type": "code",
   "execution_count": 303,
   "metadata": {
    "colab": {
     "base_uri": "https://localhost:8080/",
     "height": 35
    },
    "colab_type": "code",
    "id": "kHHmQgLykKGT",
    "outputId": "ca8dd913-eb4f-4bd1-ffcd-b6d16a65f60b"
   },
   "outputs": [
    {
     "data": {
      "text/plain": [
       "0.441971978051388"
      ]
     },
     "execution_count": 303,
     "metadata": {
      "tags": []
     },
     "output_type": "execute_result"
    }
   ],
   "source": [
    "import math\n",
    "import matplotlib.pyplot as plt\n",
    "import scipy.stats\n",
    "\n",
    "def d1(S, K, r, sigma, T):\n",
    " return (math.log(S/float(K))+(r+sigma**2/2)*T)/(sigma*math.sqrt(T))\n",
    "\n",
    "def d2(S, K, r, sigma, T):\n",
    " return d1(S, K, r, sigma,T)-(sigma*math.sqrt(T))\n",
    "\n",
    "def PutOption(S, K, r, sigma, T):\n",
    " return (K * math.exp(-r*T) * scipy.stats.norm.cdf(-d2(S, K, r,sigma, T)))-(S * scipy.stats.norm.cdf(-d1(S, K, r, sigma, T))) \n",
    "\n",
    "PutOption(10, 10, 0.05, 0.20, 0.5)"
   ]
  }
 ],
 "metadata": {
  "colab": {
   "collapsed_sections": [],
   "name": "Numerical_Methods.ipynb",
   "provenance": []
  },
  "kernelspec": {
   "display_name": "Python 3 (ipykernel)",
   "language": "python",
   "name": "python3"
  },
  "language_info": {
   "codemirror_mode": {
    "name": "ipython",
    "version": 3
   },
   "file_extension": ".py",
   "mimetype": "text/x-python",
   "name": "python",
   "nbconvert_exporter": "python",
   "pygments_lexer": "ipython3",
   "version": "3.10.4"
  }
 },
 "nbformat": 4,
 "nbformat_minor": 1
}
