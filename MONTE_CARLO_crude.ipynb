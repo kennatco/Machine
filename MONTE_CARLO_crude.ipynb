{
 "cells": [
  {
   "cell_type": "code",
   "execution_count": 67,
   "metadata": {},
   "outputs": [],
   "source": [
    "import numpy as np\n",
    "import math as m\n",
    "import statistics as S"
   ]
  },
  {
   "cell_type": "code",
   "execution_count": 86,
   "metadata": {},
   "outputs": [],
   "source": [
    "np.random.seed(1)\n",
    "def sim_stocks(S0, r,sigma,steps =252,T=1):\n",
    "    nSims = 1000\n",
    "    sim_steps = 500\n",
    "    dt = 1/nSims\n",
    "    div = 0\n",
    "    mu = (r-div-0.5*sigma*sigma)*dt\n",
    "    sigma = sigma*m.sqrt(dt)\n",
    "    St = np.zeros(shape=(sim_steps,nSims))\n",
    "    St[0,] = S0\n",
    "    for i in range(1,sim_steps):\n",
    "            for j in range(0,nSims):\n",
    "                e = np.random.randn(1)\n",
    "                St[i,j] = St[i-1,j]*m.exp(mu+sigma*e)\n",
    "    return(St)\n",
    "\n",
    "sim_stocks = np.vectorize(sim_stocks)\n",
    "sim_stocks = sim_stocks(100,0.05,sigma=0.2,steps = 252,T=1)"
   ]
  },
  {
   "cell_type": "code",
   "execution_count": 87,
   "metadata": {},
   "outputs": [
    {
     "data": {
      "text/html": [
       "<div>\n",
       "<style scoped>\n",
       "    .dataframe tbody tr th:only-of-type {\n",
       "        vertical-align: middle;\n",
       "    }\n",
       "\n",
       "    .dataframe tbody tr th {\n",
       "        vertical-align: top;\n",
       "    }\n",
       "\n",
       "    .dataframe thead th {\n",
       "        text-align: right;\n",
       "    }\n",
       "</style>\n",
       "<table border=\"1\" class=\"dataframe\">\n",
       "  <thead>\n",
       "    <tr style=\"text-align: right;\">\n",
       "      <th></th>\n",
       "      <th>0</th>\n",
       "      <th>1</th>\n",
       "      <th>2</th>\n",
       "      <th>3</th>\n",
       "      <th>4</th>\n",
       "      <th>5</th>\n",
       "      <th>6</th>\n",
       "      <th>7</th>\n",
       "      <th>8</th>\n",
       "      <th>9</th>\n",
       "      <th>...</th>\n",
       "      <th>990</th>\n",
       "      <th>991</th>\n",
       "      <th>992</th>\n",
       "      <th>993</th>\n",
       "      <th>994</th>\n",
       "      <th>995</th>\n",
       "      <th>996</th>\n",
       "      <th>997</th>\n",
       "      <th>998</th>\n",
       "      <th>999</th>\n",
       "    </tr>\n",
       "  </thead>\n",
       "  <tbody>\n",
       "    <tr>\n",
       "      <th>0</th>\n",
       "      <td>100.000000</td>\n",
       "      <td>100.000000</td>\n",
       "      <td>100.000000</td>\n",
       "      <td>100.000000</td>\n",
       "      <td>100.000000</td>\n",
       "      <td>100.000000</td>\n",
       "      <td>100.000000</td>\n",
       "      <td>100.000000</td>\n",
       "      <td>100.000000</td>\n",
       "      <td>100.000000</td>\n",
       "      <td>...</td>\n",
       "      <td>100.000000</td>\n",
       "      <td>100.000000</td>\n",
       "      <td>100.000000</td>\n",
       "      <td>100.000000</td>\n",
       "      <td>100.000000</td>\n",
       "      <td>100.000000</td>\n",
       "      <td>100.000000</td>\n",
       "      <td>100.000000</td>\n",
       "      <td>100.000000</td>\n",
       "      <td>100.000000</td>\n",
       "    </tr>\n",
       "    <tr>\n",
       "      <th>1</th>\n",
       "      <td>100.677774</td>\n",
       "      <td>99.838364</td>\n",
       "      <td>101.048298</td>\n",
       "      <td>101.317627</td>\n",
       "      <td>100.103025</td>\n",
       "      <td>98.889246</td>\n",
       "      <td>100.411637</td>\n",
       "      <td>100.693586</td>\n",
       "      <td>100.484102</td>\n",
       "      <td>98.785091</td>\n",
       "      <td>...</td>\n",
       "      <td>99.945988</td>\n",
       "      <td>100.260195</td>\n",
       "      <td>99.843042</td>\n",
       "      <td>99.700096</td>\n",
       "      <td>98.809867</td>\n",
       "      <td>99.236307</td>\n",
       "      <td>99.828289</td>\n",
       "      <td>100.377391</td>\n",
       "      <td>98.946566</td>\n",
       "      <td>100.394419</td>\n",
       "    </tr>\n",
       "    <tr>\n",
       "      <th>2</th>\n",
       "      <td>101.115020</td>\n",
       "      <td>98.644573</td>\n",
       "      <td>100.713757</td>\n",
       "      <td>101.026388</td>\n",
       "      <td>100.682663</td>\n",
       "      <td>98.418444</td>\n",
       "      <td>100.595034</td>\n",
       "      <td>101.464073</td>\n",
       "      <td>100.202852</td>\n",
       "      <td>98.707872</td>\n",
       "      <td>...</td>\n",
       "      <td>100.428358</td>\n",
       "      <td>100.191757</td>\n",
       "      <td>99.828745</td>\n",
       "      <td>99.619346</td>\n",
       "      <td>100.460178</td>\n",
       "      <td>99.240118</td>\n",
       "      <td>99.649925</td>\n",
       "      <td>101.039162</td>\n",
       "      <td>98.897542</td>\n",
       "      <td>99.829835</td>\n",
       "    </tr>\n",
       "    <tr>\n",
       "      <th>3</th>\n",
       "      <td>100.788023</td>\n",
       "      <td>99.930745</td>\n",
       "      <td>100.624105</td>\n",
       "      <td>100.290895</td>\n",
       "      <td>101.508205</td>\n",
       "      <td>98.302488</td>\n",
       "      <td>100.277523</td>\n",
       "      <td>101.504105</td>\n",
       "      <td>99.961988</td>\n",
       "      <td>97.663594</td>\n",
       "      <td>...</td>\n",
       "      <td>100.950146</td>\n",
       "      <td>100.682213</td>\n",
       "      <td>100.520115</td>\n",
       "      <td>100.127591</td>\n",
       "      <td>100.043104</td>\n",
       "      <td>99.679135</td>\n",
       "      <td>100.424301</td>\n",
       "      <td>100.748255</td>\n",
       "      <td>99.442271</td>\n",
       "      <td>99.021584</td>\n",
       "    </tr>\n",
       "    <tr>\n",
       "      <th>4</th>\n",
       "      <td>100.714331</td>\n",
       "      <td>100.560674</td>\n",
       "      <td>101.184189</td>\n",
       "      <td>100.352360</td>\n",
       "      <td>102.046639</td>\n",
       "      <td>96.750238</td>\n",
       "      <td>100.167580</td>\n",
       "      <td>101.902139</td>\n",
       "      <td>100.257156</td>\n",
       "      <td>96.500990</td>\n",
       "      <td>...</td>\n",
       "      <td>101.029337</td>\n",
       "      <td>100.279636</td>\n",
       "      <td>101.368359</td>\n",
       "      <td>100.279740</td>\n",
       "      <td>99.373259</td>\n",
       "      <td>100.248232</td>\n",
       "      <td>101.213025</td>\n",
       "      <td>100.861721</td>\n",
       "      <td>99.649679</td>\n",
       "      <td>98.200564</td>\n",
       "    </tr>\n",
       "  </tbody>\n",
       "</table>\n",
       "<p>5 rows × 1000 columns</p>\n",
       "</div>"
      ],
      "text/plain": [
       "          0           1           2           3           4           5    \\\n",
       "0  100.000000  100.000000  100.000000  100.000000  100.000000  100.000000   \n",
       "1  100.677774   99.838364  101.048298  101.317627  100.103025   98.889246   \n",
       "2  101.115020   98.644573  100.713757  101.026388  100.682663   98.418444   \n",
       "3  100.788023   99.930745  100.624105  100.290895  101.508205   98.302488   \n",
       "4  100.714331  100.560674  101.184189  100.352360  102.046639   96.750238   \n",
       "\n",
       "          6           7           8           9    ...         990  \\\n",
       "0  100.000000  100.000000  100.000000  100.000000  ...  100.000000   \n",
       "1  100.411637  100.693586  100.484102   98.785091  ...   99.945988   \n",
       "2  100.595034  101.464073  100.202852   98.707872  ...  100.428358   \n",
       "3  100.277523  101.504105   99.961988   97.663594  ...  100.950146   \n",
       "4  100.167580  101.902139  100.257156   96.500990  ...  101.029337   \n",
       "\n",
       "          991         992         993         994         995         996  \\\n",
       "0  100.000000  100.000000  100.000000  100.000000  100.000000  100.000000   \n",
       "1  100.260195   99.843042   99.700096   98.809867   99.236307   99.828289   \n",
       "2  100.191757   99.828745   99.619346  100.460178   99.240118   99.649925   \n",
       "3  100.682213  100.520115  100.127591  100.043104   99.679135  100.424301   \n",
       "4  100.279636  101.368359  100.279740   99.373259  100.248232  101.213025   \n",
       "\n",
       "          997         998         999  \n",
       "0  100.000000  100.000000  100.000000  \n",
       "1  100.377391   98.946566  100.394419  \n",
       "2  101.039162   98.897542   99.829835  \n",
       "3  100.748255   99.442271   99.021584  \n",
       "4  100.861721   99.649679   98.200564  \n",
       "\n",
       "[5 rows x 1000 columns]"
      ]
     },
     "execution_count": 87,
     "metadata": {},
     "output_type": "execute_result"
    }
   ],
   "source": [
    "import pandas as pd\n",
    "pd.DataFrame(sim_stocks).head()"
   ]
  },
  {
   "cell_type": "code",
   "execution_count": 88,
   "metadata": {},
   "outputs": [
    {
     "data": {
      "image/png": "[encoded data removed]",
      "text/plain": [
       "<Figure size 432x288 with 1 Axes>"
      ]
     },
     "metadata": {
      "needs_background": "light"
     },
     "output_type": "display_data"
    }
   ],
   "source": [
    "import matplotlib.pyplot as plt\n",
    "plt.plot(pd.DataFrame(sim_stocks).head())\n",
    "plt.title(\"Monte Carlo Simulations\")\n",
    "plt.xlabel(\"Number of Simulations\")\n",
    "plt.ylabel(\"Simulated Stock Prices\")\n",
    "plt.show()"
   ]
  },
  {
   "cell_type": "code",
   "execution_count": 90,
   "metadata": {},
   "outputs": [
    {
     "name": "stdout",
     "output_type": "stream",
     "text": [
      "4.378740635931716 0.047645686442271414\n"
     ]
    }
   ],
   "source": [
    "K=100\n",
    "r=0.05\n",
    "T=1\n",
    "Nt=T*252 #number of trading days until maturity\n",
    "sim_stocks = pd.DataFrame(sim_stocks)\n",
    "prices = []\n",
    "Y = []\n",
    "steps=252\n",
    "sim_steps = 20\n",
    "for i in range(0,sim_steps):\n",
    "    prices.append(np.mean(sim_stocks [i])) # Taking the arithmetic mean\n",
    "    Y.append(max(prices[i]-K,0)*m.exp(-r*T))\n",
    "arithmetic_opt_price  = np.mean(Y)\n",
    "error=S.stdev(Y)/m.sqrt(10000)\n",
    "print(arithmetic_opt_price,error)"
   ]
  },
  {
   "cell_type": "code",
   "execution_count": 72,
   "metadata": {},
   "outputs": [
    {
     "name": "stdout",
     "output_type": "stream",
     "text": [
      "8.92081070971276 0.11036954542435023\n"
     ]
    }
   ],
   "source": [
    "K=90\n",
    "r=0.05\n",
    "T=1\n",
    "Nt=T*252 #number of trading days until maturity\n",
    "sim_stocks = pd.DataFrame(sim_stocks)\n",
    "prices = []\n",
    "Y = []\n",
    "steps=252\n",
    "sim_steps = 20\n",
    "for i in range(0,sim_steps):\n",
    "    prices.append(np.mean(sim_stocks [i])) # Taking the arithmetic mean\n",
    "    Y.append(max(prices[i]-K,0)*m.exp(-r*T))\n",
    "arithmetic_opt_price  = np.mean(Y)\n",
    "error=S.stdev(Y)/m.sqrt(10000)\n",
    "print(arithmetic_opt_price,error)"
   ]
  },
  {
   "cell_type": "code",
   "execution_count": 73,
   "metadata": {},
   "outputs": [
    {
     "name": "stdout",
     "output_type": "stream",
     "text": [
      "1.7719919410875704 0.05216980822238398\n"
     ]
    }
   ],
   "source": [
    "K=110\n",
    "r=0.05\n",
    "T=1\n",
    "Nt=T*252 #number of trading days until maturity\n",
    "sim_stocks = pd.DataFrame(sim_stocks)\n",
    "prices = []\n",
    "Y = []\n",
    "steps=252\n",
    "sim_steps = 20\n",
    "for i in range(0,sim_steps):\n",
    "    prices.append(np.mean(sim_stocks [i])) # Taking the arithmetic mean\n",
    "    Y.append(max(prices[i]-K,0)*m.exp(-r*T))\n",
    "arithmetic_opt_price  = np.mean(Y)\n",
    "error=S.stdev(Y)/m.sqrt(10000)\n",
    "print(arithmetic_opt_price,error)"
   ]
  },
  {
   "cell_type": "code",
   "execution_count": 74,
   "metadata": {},
   "outputs": [
    {
     "name": "stdout",
     "output_type": "stream",
     "text": [
      "7.060839037492539 0.10964856406749349\n"
     ]
    }
   ],
   "source": [
    "K=100\n",
    "r=0.05\n",
    "T=1\n",
    "Nt=T*252 #number of trading days until maturity\n",
    "sim_stocks = pd.DataFrame(sim_stocks)\n",
    "prices = []\n",
    "Y = []\n",
    "steps=252\n",
    "sim_steps = 50\n",
    "for i in range(0,sim_steps):\n",
    "    prices.append(np.mean(sim_stocks [i])) # Taking the arithmetic mean\n",
    "    Y.append(max(prices[i]-K,0)*m.exp(-r*T))\n",
    "arithmetic_opt_price  = np.mean(Y)\n",
    "error=S.stdev(Y)/m.sqrt(10000)\n",
    "print(arithmetic_opt_price,error)"
   ]
  },
  {
   "cell_type": "code",
   "execution_count": 75,
   "metadata": {},
   "outputs": [
    {
     "name": "stdout",
     "output_type": "stream",
     "text": [
      "13.27547943898965 0.13572619974839356\n"
     ]
    }
   ],
   "source": [
    "K=90\n",
    "r=0.05\n",
    "T=1\n",
    "Nt=T*252 #number of trading days until maturity\n",
    "sim_stocks = pd.DataFrame(sim_stocks)\n",
    "prices = []\n",
    "Y = []\n",
    "steps=252\n",
    "sim_steps = 50\n",
    "for i in range(0,sim_steps):\n",
    "    prices.append(np.mean(sim_stocks [i])) # Taking the arithmetic mean\n",
    "    Y.append(max(prices[i]-K,0)*m.exp(-r*T))\n",
    "arithmetic_opt_price  = np.mean(Y)\n",
    "error=S.stdev(Y)/m.sqrt(10000)\n",
    "print(arithmetic_opt_price,error)"
   ]
  },
  {
   "cell_type": "code",
   "execution_count": 76,
   "metadata": {},
   "outputs": [
    {
     "name": "stdout",
     "output_type": "stream",
     "text": [
      "3.3283513346542946 0.08003020806013772\n"
     ]
    }
   ],
   "source": [
    "K=110\n",
    "r=0.05\n",
    "T=1\n",
    "Nt=T*252 #number of trading days until maturity\n",
    "sim_stocks = pd.DataFrame(sim_stocks)\n",
    "prices = []\n",
    "Y = []\n",
    "steps=252\n",
    "sim_steps = 50\n",
    "for i in range(0,sim_steps):\n",
    "    prices.append(np.mean(sim_stocks [i])) # Taking the arithmetic mean\n",
    "    Y.append(max(prices[i]-K,0)*m.exp(-r*T))\n",
    "arithmetic_opt_price  = np.mean(Y)\n",
    "error=S.stdev(Y)/m.sqrt(10000)\n",
    "print(arithmetic_opt_price,error)"
   ]
  },
  {
   "cell_type": "code",
   "execution_count": 77,
   "metadata": {},
   "outputs": [
    {
     "name": "stdout",
     "output_type": "stream",
     "text": [
      "4.447056408368494 0.08358156966061468\n"
     ]
    }
   ],
   "source": [
    "K=110\n",
    "r=0.05\n",
    "T=1\n",
    "Nt=T*252 #number of trading days until maturity\n",
    "sim_stocks = pd.DataFrame(sim_stocks)\n",
    "prices = []\n",
    "Y = []\n",
    "steps=252\n",
    "sim_steps = 100\n",
    "for i in range(0,sim_steps):\n",
    "    prices.append(np.mean(sim_stocks [i])) # Taking the arithmetic mean\n",
    "    Y.append(max(prices[i]-K,0)*m.exp(-r*T))\n",
    "arithmetic_opt_price  = np.mean(Y)\n",
    "error=S.stdev(Y)/m.sqrt(10000)\n",
    "print(arithmetic_opt_price,error)"
   ]
  },
  {
   "cell_type": "code",
   "execution_count": 78,
   "metadata": {},
   "outputs": [
    {
     "name": "stdout",
     "output_type": "stream",
     "text": [
      "8.800945466816398 0.11621926701106194\n"
     ]
    }
   ],
   "source": [
    "K=100\n",
    "r=0.05\n",
    "T=1\n",
    "Nt=T*252 #number of trading days until maturity\n",
    "sim_stocks = pd.DataFrame(sim_stocks)\n",
    "prices = []\n",
    "Y = []\n",
    "steps=252\n",
    "sim_steps = 100\n",
    "for i in range(0,sim_steps):\n",
    "    prices.append(np.mean(sim_stocks [i])) # Taking the arithmetic mean\n",
    "    Y.append(max(prices[i]-K,0)*m.exp(-r*T))\n",
    "arithmetic_opt_price  = np.mean(Y)\n",
    "error=S.stdev(Y)/m.sqrt(10000)\n",
    "print(arithmetic_opt_price,error)"
   ]
  },
  {
   "cell_type": "code",
   "execution_count": 79,
   "metadata": {},
   "outputs": [
    {
     "name": "stdout",
     "output_type": "stream",
     "text": [
      "15.186950548551646 0.1439865412020302\n"
     ]
    }
   ],
   "source": [
    "K=90\n",
    "r=0.05\n",
    "T=1\n",
    "Nt=T*252 #number of trading days until maturity\n",
    "sim_stocks = pd.DataFrame(sim_stocks)\n",
    "prices = []\n",
    "Y = []\n",
    "steps=252\n",
    "sim_steps = 100\n",
    "for i in range(0,sim_steps):\n",
    "    prices.append(np.mean(sim_stocks [i])) # Taking the arithmetic mean\n",
    "    Y.append(max(prices[i]-K,0)*m.exp(-r*T))\n",
    "arithmetic_opt_price  = np.mean(Y)\n",
    "error=S.stdev(Y)/m.sqrt(10000)\n",
    "print(arithmetic_opt_price,error)"
   ]
  },
  {
   "cell_type": "code",
   "execution_count": 80,
   "metadata": {},
   "outputs": [
    {
     "name": "stdout",
     "output_type": "stream",
     "text": [
      "9.67234184491417 0.1286264291268521\n"
     ]
    }
   ],
   "source": [
    "K=100\n",
    "r=0.05\n",
    "T=1\n",
    "Nt=T*252 #number of trading days until maturity\n",
    "sim_stocks = pd.DataFrame(sim_stocks)\n",
    "prices = []\n",
    "Y = []\n",
    "steps=252\n",
    "sim_steps = 200\n",
    "for i in range(0,sim_steps):\n",
    "    prices.append(np.mean(sim_stocks [i])) # Taking the arithmetic mean\n",
    "    Y.append(max(prices[i]-K,0)*m.exp(-r*T))\n",
    "arithmetic_opt_price  = np.mean(Y)\n",
    "error=S.stdev(Y)/m.sqrt(10000)\n",
    "print(arithmetic_opt_price,error)"
   ]
  },
  {
   "cell_type": "code",
   "execution_count": 81,
   "metadata": {},
   "outputs": [
    {
     "name": "stdout",
     "output_type": "stream",
     "text": [
      "15.948664584001838 0.15683137949061338\n"
     ]
    }
   ],
   "source": [
    "K=90\n",
    "r=0.05\n",
    "T=1\n",
    "Nt=T*252 #number of trading days until maturity\n",
    "sim_stocks = pd.DataFrame(sim_stocks)\n",
    "prices = []\n",
    "Y = []\n",
    "steps=252\n",
    "sim_steps = 200\n",
    "for i in range(0,sim_steps):\n",
    "    prices.append(np.mean(sim_stocks [i])) # Taking the arithmetic mean\n",
    "    Y.append(max(prices[i]-K,0)*m.exp(-r*T))\n",
    "arithmetic_opt_price  = np.mean(Y)\n",
    "error=S.stdev(Y)/m.sqrt(10000)\n",
    "print(arithmetic_opt_price,error)"
   ]
  },
  {
   "cell_type": "code",
   "execution_count": 82,
   "metadata": {},
   "outputs": [
    {
     "name": "stdout",
     "output_type": "stream",
     "text": [
      "5.196272002453917 0.09676037921423535\n"
     ]
    }
   ],
   "source": [
    "K=110\n",
    "r=0.05\n",
    "T=1\n",
    "Nt=T*252 #number of trading days until maturity\n",
    "sim_stocks = pd.DataFrame(sim_stocks)\n",
    "prices = []\n",
    "Y = []\n",
    "steps=252\n",
    "sim_steps = 200\n",
    "for i in range(0,sim_steps):\n",
    "    prices.append(np.mean(sim_stocks [i])) # Taking the arithmetic mean\n",
    "    Y.append(max(prices[i]-K,0)*m.exp(-r*T))\n",
    "arithmetic_opt_price  = np.mean(Y)\n",
    "error=S.stdev(Y)/m.sqrt(10000)\n",
    "print(arithmetic_opt_price,error)"
   ]
  },
  {
   "cell_type": "code",
   "execution_count": 83,
   "metadata": {},
   "outputs": [
    {
     "name": "stdout",
     "output_type": "stream",
     "text": [
      "9.196503264122082 0.1245853280003456\n"
     ]
    }
   ],
   "source": [
    "K=100\n",
    "r=0.05\n",
    "T=1\n",
    "Nt=T*252 #number of trading days until maturity\n",
    "sim_stocks = pd.DataFrame(sim_stocks)\n",
    "prices = []\n",
    "Y = []\n",
    "steps=252\n",
    "sim_steps = 500\n",
    "for i in range(0,sim_steps):\n",
    "    prices.append(np.mean(sim_stocks [i])) # Taking the arithmetic mean\n",
    "    Y.append(max(prices[i]-K,0)*m.exp(-r*T))\n",
    "arithmetic_opt_price  = np.mean(Y)\n",
    "error=S.stdev(Y)/m.sqrt(10000)\n",
    "print(arithmetic_opt_price,error)"
   ]
  },
  {
   "cell_type": "code",
   "execution_count": 84,
   "metadata": {},
   "outputs": [
    {
     "name": "stdout",
     "output_type": "stream",
     "text": [
      "15.490313563416766 0.15239969201177045\n"
     ]
    }
   ],
   "source": [
    "K=90\n",
    "r=0.05\n",
    "T=1\n",
    "Nt=T*252 #number of trading days until maturity\n",
    "sim_stocks = pd.DataFrame(sim_stocks)\n",
    "prices = []\n",
    "Y = []\n",
    "steps=252\n",
    "sim_steps = 500\n",
    "for i in range(0,sim_steps):\n",
    "    prices.append(np.mean(sim_stocks [i])) # Taking the arithmetic mean\n",
    "    Y.append(max(prices[i]-K,0)*m.exp(-r*T))\n",
    "arithmetic_opt_price  = np.mean(Y)\n",
    "error=S.stdev(Y)/m.sqrt(10000)\n",
    "print(arithmetic_opt_price,error)"
   ]
  },
  {
   "cell_type": "code",
   "execution_count": 85,
   "metadata": {},
   "outputs": [
    {
     "name": "stdout",
     "output_type": "stream",
     "text": [
      "4.762757816028848 0.09351036111974607\n"
     ]
    }
   ],
   "source": [
    "K=110\n",
    "r=0.05\n",
    "T=1\n",
    "Nt=T*252 #number of trading days until maturity\n",
    "sim_stocks = pd.DataFrame(sim_stocks)\n",
    "prices = []\n",
    "Y = []\n",
    "steps=252\n",
    "sim_steps = 500\n",
    "for i in range(0,sim_steps):\n",
    "    prices.append(np.mean(sim_stocks [i])) # Taking the arithmetic mean\n",
    "    Y.append(max(prices[i]-K,0)*m.exp(-r*T))\n",
    "arithmetic_opt_price  = np.mean(Y)\n",
    "error=S.stdev(Y)/m.sqrt(10000)\n",
    "print(arithmetic_opt_price,error)"
   ]
  },
  {
   "cell_type": "code",
   "execution_count": null,
   "metadata": {},
   "outputs": [],
   "source": []
  },
  {
   "cell_type": "code",
   "execution_count": null,
   "metadata": {},
   "outputs": [],
   "source": []
  },
  {
   "cell_type": "code",
   "execution_count": null,
   "metadata": {},
   "outputs": [],
   "source": []
  }
 ],
 "metadata": {
  "kernelspec": {
   "display_name": "Python 3 (ipykernel)",
   "language": "python",
   "name": "python3"
  },
  "language_info": {
   "codemirror_mode": {
    "name": "ipython",
    "version": 3
   },
   "file_extension": ".py",
   "mimetype": "text/x-python",
   "name": "python",
   "nbconvert_exporter": "python",
   "pygments_lexer": "ipython3",
   "version": "3.10.4"
  }
 },
 "nbformat": 4,
 "nbformat_minor": 2
}
