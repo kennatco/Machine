{
 "cells": [
  {
   "cell_type": "code",
   "execution_count": 11,
   "metadata": {},
   "outputs": [],
   "source": [
    "import numpy as np\n",
    "from scipy.special import erf\n",
    "\n",
    "\n",
    "class AsianOptionMC_MC(object):\n",
    "    \"\"\" Class for Asian options pricing using control variate\n",
    "    S0 : float : initial stock/index level\n",
    "    strike : float : strike price\n",
    "    T : float : time to maturity (in year fractions)\n",
    "    M : int : grid or granularity for time (in number of total points)\n",
    "    r : float : constant risk-free short rate\n",
    "    div :    float : dividend yield\n",
    "    sigma :  float : volatility factor in diffusion term \n",
    "    \n",
    "    Unitest (doctest):\n",
    "    >>> myAsianCall = AsianOptionMC_MC('call', 4., 4., 1., 100., .03, 0, .25, 10000)\n",
    "    >>> myAsianCall.value\n",
    "    (0.26141622329842962, 0.25359138249114327, 0.26924106410571597)\n",
    "    >>> myAsianCall.value_with_control_variate\n",
    "    (0.25813771282805958, 0.25771678775128265, 0.25855863790483652)\n",
    "    \n",
    "    \"\"\"\n",
    "\n",
    "    def __init__(self, option_type, S0, strike, T, M, r, div, sigma, simulations):\n",
    "        try:\n",
    "            self.option_type = option_type\n",
    "            assert isinstance(option_type, str)\n",
    "            self.S0 = float(S0)\n",
    "            self.strike = float(strike)\n",
    "            self.T = float(T)\n",
    "            self.M = int(M)\n",
    "            self.r = float(r)\n",
    "            self.div = float(div)\n",
    "            self.sigma = float(sigma)\n",
    "            self.simulations = int(simulations)\n",
    "        except ValueError:\n",
    "            print('Error passing Options parameters')\n",
    "\n",
    "        if option_type != 'call' and option_type != 'put':\n",
    "            raise ValueError(\"Error: option type not valid. Enter 'call' or 'put'\")\n",
    "        if S0 < 0 or strike < 0 or T <= 0 or r < 0 or div < 0 or sigma < 0:\n",
    "            raise ValueError('Error: Negative inputs not allowed')\n",
    "\n",
    "        self.time_unit = self.T / float(self.M)\n",
    "        self.discount = np.exp(- self.r * self.T)\n",
    "\n",
    "    @property\n",
    "    def GeometricAsianOption(self):\n",
    "        sigsqT = ((self.sigma ** 2 * self.T * (self.M + 1) * (2 * self.M + 1))\n",
    "                  / (6 * self.M * self.M))\n",
    "        muT = (0.5 * sigsqT + (self.r - 0.5 * self.sigma ** 2)\n",
    "               * self.T * (self.M + 1) / (2 * self.M))\n",
    "        d1 = ((np.log(self.S0 / self.strike) + (muT + 0.5 * sigsqT))\n",
    "              / np.sqrt(sigsqT))\n",
    "        d2 = d1 - np.sqrt(sigsqT)\n",
    "        N1 = 0.5 * (1 + erf(d1 / np.sqrt(2)))\n",
    "        N2 = 0.5 * (1 + erf(d2 / np.sqrt(2)))\n",
    "        geometric_value = self.discount * (self.S0 * np.exp(muT) * N1 - self.strike * N2)\n",
    "        return geometric_value\n",
    "\n",
    "    @property\n",
    "    def price_path(self, seed = 100):\n",
    "        np.random.seed(seed)\n",
    "        price_path = (self.S0 *\n",
    "                      np.cumprod (np.exp ((self.r - 0.5 * self.sigma ** 2) * self.time_unit +\n",
    "                                    self.sigma * np.sqrt(self.time_unit) \n",
    "                                          * np.random.randn(self.simulations, self.M)), 1))\n",
    "        return price_path\n",
    "\n",
    "    @property\n",
    "    def MCPayoff(self): \n",
    "        if self.option_type == 'call':\n",
    "            MCpayoff = self.discount \\\n",
    "                              * np.maximum(np.mean(self.price_path,1)-self.strike, 0)\n",
    "        else:\n",
    "            MCpayoff = self.discount \\\n",
    "                              * np.maximum(self.strike - np.mean(self.price_path,1), 0)\n",
    "        return MCpayoff\n",
    "    \n",
    "    @property \n",
    "    def value(self):\n",
    "        MCvalue = np.mean(self.MCPayoff)\n",
    "        MCValue_std = np.std(self.MCPayoff)\n",
    "        upper_bound = MCvalue + 1.96 * MCValue_std/np.sqrt(self.simulations)\n",
    "        lower_bound = MCvalue - 1.96 * MCValue_std/np.sqrt(self.simulations)\n",
    "        return MCvalue, lower_bound, upper_bound\n",
    "    \n",
    "    @property\n",
    "    def value_with_control_variate(self):\n",
    "        \n",
    "        geometric_average = np.exp( (1/float(self.M)) * np.sum(np.log(self.price_path), 1) )\n",
    "        if self.option_type == 'call':\n",
    "            MCpayoff_geometric = self.discount * np.maximum(geometric_average - self.strike, 0)\n",
    "        else:\n",
    "            MCpayoff_geometric = self.discount * np.maximum(self.strike - geometric_average, 0)\n",
    "        value_with_CV = self.MCPayoff + self.GeometricAsianOption - MCpayoff_geometric        \n",
    "        value_with_control_variate = np.mean(value_with_CV , 0)\n",
    "        value_with_control_variate_std = np.std(value_with_CV, 0)\n",
    "        upper_bound_CV = value_with_control_variate + 1.96 * value_with_control_variate_std/np.sqrt(self.simulations)\n",
    "        lower_bound_CV = value_with_control_variate - 1.96 * value_with_con\n",
    "        return value_with_control_variate, lower_bound_CV, upper_bound_CV"
   ]
  },
  {
   "cell_type": "code",
   "execution_count": 16,
   "metadata": {},
   "outputs": [
    {
     "data": {
      "text/plain": [
       "12.511769674099114"
      ]
     },
     "execution_count": 16,
     "metadata": {},
     "output_type": "execute_result"
    }
   ],
   "source": [
    "myAsianCall = AsianOptionMC_MC('call', 100, 90, 1., 20, .05, 0, .2, 10000)\n",
    "#myAsianCall.value\n",
    "myAsianCall.GeometricAsianOption"
   ]
  },
  {
   "cell_type": "code",
   "execution_count": 17,
   "metadata": {},
   "outputs": [
    {
     "data": {
      "text/plain": [
       "array([[ 92.61196039,  94.18335135,  99.31620572, ..., 109.78074063,\n",
       "        107.81222849, 102.70680508],\n",
       "       [107.67024259, 115.52834675, 114.40577388, ..., 120.91340933,\n",
       "        113.96765209, 108.01806779],\n",
       "       [ 97.74109808,  95.0060504 ,  95.17979627, ...,  80.25550991,\n",
       "         80.09032785,  77.08163803],\n",
       "       ...,\n",
       "       [ 99.67969329,  99.41297511, 101.99846723, ..., 108.36675499,\n",
       "        106.92473343, 119.28812703],\n",
       "       [ 98.20816194,  97.29161876,  93.07208788, ..., 102.30911223,\n",
       "        104.58587084,  95.04753385],\n",
       "       [108.77030454, 102.01740195,  99.07225241, ...,  89.39081399,\n",
       "         86.66417562,  90.06160401]])"
      ]
     },
     "execution_count": 17,
     "metadata": {},
     "output_type": "execute_result"
    }
   ],
   "source": [
    "myAsianCall.price_path"
   ]
  },
  {
   "cell_type": "code",
   "execution_count": 18,
   "metadata": {},
   "outputs": [
    {
     "data": {
      "text/plain": [
       "array([11.97223329, 27.91916493,  0.        , ..., 14.71282527,\n",
       "        5.29406117,  5.66561159])"
      ]
     },
     "execution_count": 18,
     "metadata": {},
     "output_type": "execute_result"
    }
   ],
   "source": [
    "myAsianCall.MCPayoff"
   ]
  },
  {
   "cell_type": "code",
   "execution_count": null,
   "metadata": {},
   "outputs": [],
   "source": []
  }
 ],
 "metadata": {
  "kernelspec": {
   "display_name": "Python 3 (ipykernel)",
   "language": "python",
   "name": "python3"
  },
  "language_info": {
   "codemirror_mode": {
    "name": "ipython",
    "version": 3
   },
   "file_extension": ".py",
   "mimetype": "text/x-python",
   "name": "python",
   "nbconvert_exporter": "python",
   "pygments_lexer": "ipython3",
   "version": "3.10.4"
  }
 },
 "nbformat": 4,
 "nbformat_minor": 2
}
