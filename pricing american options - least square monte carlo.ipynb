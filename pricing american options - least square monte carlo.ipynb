{
 "cells": [
  {
   "cell_type": "code",
   "execution_count": 65,
   "metadata": {},
   "outputs": [],
   "source": [
    "import numpy as np"
   ]
  },
  {
   "cell_type": "code",
   "execution_count": 66,
   "metadata": {},
   "outputs": [],
   "source": [
    "import numpy as np\n",
    "\n",
    "class AmericanOptionsLSMC(object):\n",
    "    \"\"\" Class for American options pricing using Longstaff-Schwartz (2001):\n",
    "    \"Valuing American Options by Simulation: A Simple Least-Squares Approach.\"\n",
    "    Review of Financial Studies, Vol. 14, 113-147.\n",
    "    S0 : float : initial stock/index level\n",
    "    strike : float : strike price\n",
    "    T : float : time to maturity (in year fractions)\n",
    "    M : int : grid or granularity for time (in number of total points)\n",
    "    r : float : constant risk-free short rate\n",
    "    div :    float : dividend yield\n",
    "    sigma :  float : volatility factor in diffusion term \n",
    "    \n",
    "    Unitest(doctest): \n",
    "    >>> AmericanPUT = AmericanOptionsLSMC('put', 36., 40., 1., 50, 0.06, 0.06, 0.2, 10000  )\n",
    "    >>> AmericanPUT.price\n",
    "    4.4731177017712209\n",
    "    \"\"\"\n",
    "\n",
    "    def __init__(self, option_type, S0, strike, T, M, r, div, sigma, simulations):\n",
    "        try:\n",
    "            self.option_type = option_type\n",
    "            assert isinstance(option_type, str)\n",
    "            self.S0 = float(S0)\n",
    "            self.strike = float(strike)\n",
    "            assert T > 0\n",
    "            self.T = float(T)\n",
    "            assert M > 0\n",
    "            self.M = int(M)\n",
    "            assert r >= 0\n",
    "            self.r = float(r)\n",
    "            assert div >= 0\n",
    "            self.div = float(div)\n",
    "            assert sigma > 0\n",
    "            self.sigma = float(sigma)\n",
    "            assert simulations > 0\n",
    "            self.simulations = int(simulations)\n",
    "        except ValueError:\n",
    "            print('Error passing Options parameters')\n",
    "\n",
    "\n",
    "        if option_type != 'call' and option_type != 'put':\n",
    "            raise ValueError(\"Error: option type not valid. Enter 'call' or 'put'\")\n",
    "        if S0 < 0 or strike < 0 or T <= 0 or r < 0 or div < 0 or sigma < 0:\n",
    "            raise ValueError('Error: Negative inputs not allowed')\n",
    "\n",
    "        self.time_unit = self.T / float(self.M)\n",
    "        self.discount = np.exp(-self.r * self.time_unit)\n",
    "\n",
    "    @property\n",
    "    def MCprice_matrix(self, seed = 123):\n",
    "        \"\"\" Returns MC price matrix rows: time columns: price-path simulation \"\"\"\n",
    "        np.random.seed(seed)\n",
    "        MCprice_matrix = np.zeros((self.M + 1, self.simulations), dtype=np.float64)\n",
    "        MCprice_matrix[0,:] = self.S0\n",
    "        for t in range(1, self.M + 1):\n",
    "            brownian = np.random.standard_normal( self.simulations)\n",
    "            #brownian = np.concatenate((brownian, -brownian))\n",
    "            MCprice_matrix[t, :] = (MCprice_matrix[t - 1, :]\n",
    "                                  * np.exp((self.r - self.sigma ** 2 / 2.) * self.time_unit\n",
    "                                  + self.sigma * brownian * np.sqrt(self.time_unit)))\n",
    "        return MCprice_matrix\n",
    "\n",
    "    @property\n",
    "    def MCpayoff(self):\n",
    "        \"\"\"Returns the inner-value of American Option\"\"\"\n",
    "        if self.option_type == 'call':\n",
    "            payoff = np.maximum(self.MCprice_matrix - self.strike,\n",
    "                           np.zeros((self.M + 1, self.simulations),dtype=np.float64))\n",
    "        else:\n",
    "            payoff = np.maximum(self.strike - self.MCprice_matrix,\n",
    "                            np.zeros((self.M + 1, self.simulations),\n",
    "                            dtype=np.float64))\n",
    "        return payoff\n",
    "\n",
    "    @property\n",
    "    def value_vector(self):\n",
    "        value_matrix = np.zeros_like(self.MCpayoff)\n",
    "        value_matrix[-1, :] = self.MCpayoff[-1, :]\n",
    "        for t in range(self.M - 1, 0 , -1):\n",
    "            regression = np.polyfit(self.MCprice_matrix[t, :], value_matrix[t + 1, :] * self.discount, 5)\n",
    "            continuation_value = np.polyval(regression, self.MCprice_matrix[t, :])\n",
    "            value_matrix[t, :] = np.where(self.MCpayoff[t, :] > continuation_value,\n",
    "                                          self.MCpayoff[t, :],\n",
    "                                          value_matrix[t + 1, :] * self.discount)\n",
    "\n",
    "        return value_matrix[1,:] * self.discount\n",
    "\n",
    "\n",
    "    @property\n",
    "    def price(self): return np.sum(self.value_vector) / float(self.simulations)\n",
    "    \n",
    "    @property\n",
    "    def delta(self):\n",
    "        diff = self.S0 * 0.01\n",
    "        myCall_1 = AmericanOptionsLSMC(self.option_type, self.S0 + diff, \n",
    "                                       self.strike, self.T, self.M, \n",
    "                                       self.r, self.div, self.sigma, self.simulations)\n",
    "        myCall_2 = AmericanOptionsLSMC(self.option_type, self.S0 - diff, \n",
    "                                       self.strike, self.T, self.M, \n",
    "                                       self.r, self.div, self.sigma, self.simulations)\n",
    "        return (myCall_1.price - myCall_2.price) / float(2. * diff)\n",
    "    \n",
    "    @property\n",
    "    def gamma(self):\n",
    "        diff = self.S0 * 0.01\n",
    "        myCall_1 = AmericanOptionsLSMC(self.option_type, self.S0 + diff, \n",
    "                                       self.strike, self.T, self.M, \n",
    "                                       self.r, self.div, self.sigma, self.simulations)\n",
    "        myCall_2 = AmericanOptionsLSMC(self.option_type, self.S0 - diff, \n",
    "                                       self.strike, self.T, self.M, \n",
    "                                       self.r, self.div, self.sigma, self.simulations)\n",
    "        return (myCall_1.delta - myCall_2.delta) / float(2. * diff)\n",
    "    \n",
    "    @property\n",
    "    def vega(self):\n",
    "        diff = self.sigma * 0.01\n",
    "        myCall_1 = AmericanOptionsLSMC(self.option_type, self.S0, \n",
    "                                       self.strike, self.T, self.M, \n",
    "                                       self.r, self.div, self.sigma + diff, \n",
    "                                       self.simulations)\n",
    "        myCall_2 = AmericanOptionsLSMC(self.option_type, self.S0,\n",
    "                                       self.strike, self.T, self.M, \n",
    "                                       self.r, self.div, self.sigma - diff, \n",
    "                                       self.simulations)\n",
    "        return (myCall_1.price - myCall_2.price) / float(2. * diff)    \n",
    "    \n",
    "    @property\n",
    "    def rho(self):        \n",
    "        diff = self.r * 0.01\n",
    "        if (self.r - diff) < 0:        \n",
    "            myCall_1 = AmericanOptionsLSMC(self.option_type, self.S0, \n",
    "                                       self.strike, self.T, self.M, \n",
    "                                       self.r + diff, self.div, self.sigma, \n",
    "                                       self.simulations)\n",
    "            myCall_2 = AmericanOptionsLSMC(self.option_type, self.S0, \n",
    "                                       self.strike, self.T, self.M, \n",
    "                                       self.r, self.div, self.sigma, \n",
    "                                       self.simulations)\n",
    "            return (myCall_1.price - myCall_2.price) / float(diff)\n",
    "        else:\n",
    "            myCall_1 = AmericanOptionsLSMC(self.option_type, self.S0, \n",
    "                                       self.strike, self.T, self.M, \n",
    "                                       self.r + diff, self.div, self.sigma, \n",
    "                                       self.simulations)\n",
    "            myCall_2 = AmericanOptionsLSMC(self.option_type, self.S0, \n",
    "                                       self.strike, self.T, self.M, \n",
    "                                       self.r - diff, self.div, self.sigma, \n",
    "                                       self.simulations)\n",
    "            return (myCall_1.price - myCall_2.price) / float(2. * diff)\n",
    "    \n",
    "    @property\n",
    "    def theta(self): \n",
    "        diff = 1 / 252.\n",
    "        myCall_1 = AmericanOptionsLSMC(self.option_type, self.S0, \n",
    "                                       self.strike, self.T + diff, self.M, \n",
    "                                       self.r, self.div, self.sigma, \n",
    "                                       self.simulations)\n",
    "        myCall_2 = AmericanOptionsLSMC(self.option_type, self.S0, \n",
    "                                       self.strike, self.T - diff, self.M, \n",
    "                                       self.r, self.div, self.sigma, \n",
    "                                       self.simulations)\n",
    "        return (myCall_2.price - myCall_1.price) / float(2. * diff)"
   ]
  },
  {
   "cell_type": "code",
   "execution_count": 46,
   "metadata": {},
   "outputs": [
    {
     "name": "stdout",
     "output_type": "stream",
     "text": [
      "Price:  6.770025557647687\n"
     ]
    }
   ],
   "source": [
    "AmericanPUT = AmericanOptionsLSMC('put', 36., 40., 1., 7, 0.06, 0.06, 0.2, 7 )\n",
    "print( 'Price: ', AmericanPUT.price)"
   ]
  },
  {
   "cell_type": "code",
   "execution_count": 47,
   "metadata": {},
   "outputs": [
    {
     "data": {
      "text/plain": [
       "array([[36.        , 36.        , 36.        , 36.        , 36.        ,\n",
       "        36.        , 36.        ],\n",
       "       [33.35365176, 39.04151056, 36.98914118, 32.30971783, 34.65684165,\n",
       "        41.02042413, 30.13820138],\n",
       "       [32.47461811, 43.20842612, 34.84185026, 30.86933706, 34.60679731,\n",
       "        46.17889321, 28.88179166],\n",
       "       [31.58275384, 42.05237818, 41.40021954, 36.62690718, 37.5496382 ,\n",
       "        47.8193357 , 30.71236865],\n",
       "       [35.55263385, 39.40480785, 45.50784781, 33.50561228, 35.98738811,\n",
       "        51.50686313, 27.72630599],\n",
       "       [35.37977495, 37.13127381, 44.89273906, 27.2723615 , 31.65726035,\n",
       "        49.13264115, 29.91037747],\n",
       "       [35.11853274, 37.35209462, 47.56109526, 25.66431172, 32.52867517,\n",
       "        46.49561014, 26.39884451],\n",
       "       [34.29138061, 39.23145791, 49.07375217, 25.7883119 , 39.20021041,\n",
       "        48.24467281, 28.58894241]])"
      ]
     },
     "execution_count": 47,
     "metadata": {},
     "output_type": "execute_result"
    }
   ],
   "source": [
    "AmericanPUT.MCprice_matrix"
   ]
  },
  {
   "cell_type": "code",
   "execution_count": 50,
   "metadata": {},
   "outputs": [
    {
     "data": {
      "text/plain": [
       "array([[ 4.        ,  4.        ,  4.        ,  4.        ,  4.        ,\n",
       "         4.        ,  4.        ],\n",
       "       [ 6.64634824,  0.95848944,  3.01085882,  7.69028217,  5.34315835,\n",
       "         0.        ,  9.86179862],\n",
       "       [ 7.52538189,  0.        ,  5.15814974,  9.13066294,  5.39320269,\n",
       "         0.        , 11.11820834],\n",
       "       [ 8.41724616,  0.        ,  0.        ,  3.37309282,  2.4503618 ,\n",
       "         0.        ,  9.28763135],\n",
       "       [ 4.44736615,  0.59519215,  0.        ,  6.49438772,  4.01261189,\n",
       "         0.        , 12.27369401],\n",
       "       [ 4.62022505,  2.86872619,  0.        , 12.7276385 ,  8.34273965,\n",
       "         0.        , 10.08962253],\n",
       "       [ 4.88146726,  2.64790538,  0.        , 14.33568828,  7.47132483,\n",
       "         0.        , 13.60115549],\n",
       "       [ 5.70861939,  0.76854209,  0.        , 14.2116881 ,  0.79978959,\n",
       "         0.        , 11.41105759]])"
      ]
     },
     "execution_count": 50,
     "metadata": {},
     "output_type": "execute_result"
    }
   ],
   "source": [
    "AmericanPUT.MCpayoff"
   ]
  },
  {
   "cell_type": "code",
   "execution_count": 52,
   "metadata": {},
   "outputs": [
    {
     "data": {
      "text/plain": [
       "array([ 8.20356183,  2.51516984,  5.07047794, 13.38406382,  5.29755557,\n",
       "        0.        , 12.91934991])"
      ]
     },
     "execution_count": 52,
     "metadata": {},
     "output_type": "execute_result"
    }
   ],
   "source": [
    "AmericanPUT.value_vector"
   ]
  },
  {
   "cell_type": "code",
   "execution_count": null,
   "metadata": {},
   "outputs": [],
   "source": []
  }
 ],
 "metadata": {
  "kernelspec": {
   "display_name": "Python 3 (ipykernel)",
   "language": "python",
   "name": "python3"
  },
  "language_info": {
   "codemirror_mode": {
    "name": "ipython",
    "version": 3
   },
   "file_extension": ".py",
   "mimetype": "text/x-python",
   "name": "python",
   "nbconvert_exporter": "python",
   "pygments_lexer": "ipython3",
   "version": "3.10.4"
  }
 },
 "nbformat": 4,
 "nbformat_minor": 2
}
