{
 "cells": [
  {
   "cell_type": "code",
   "execution_count": 2,
   "id": "91eed1f4",
   "metadata": {},
   "outputs": [
    {
     "name": "stdout",
     "output_type": "stream",
     "text": [
      "(100, 18)\n",
      "1.0    803\n",
      "0.0    669\n",
      "0.5     28\n",
      "dtype: int64\n"
     ]
    }
   ],
   "source": [
    "import pandas as pd\n",
    "# Read in the csv file\n",
    "votes = pd.read_csv(\"114_congress.csv\")\n",
    "\n",
    "# As you can see, there are 100 senators, and they voted on 15 bills (we subtract 3 because the first 3 columns aren't bills).\n",
    "print(votes.shape)\n",
    "\n",
    "# We have more \"Yes\" votes than \"No\" votes overall\n",
    "print(pd.value_counts(votes.iloc[:,3:].values.ravel()))"
   ]
  },
  {
   "cell_type": "code",
   "execution_count": null,
   "id": "b27dd3ca",
   "metadata": {},
   "outputs": [],
   "source": []
  },
  {
   "cell_type": "code",
   "execution_count": 3,
   "id": "2e9f736c",
   "metadata": {},
   "outputs": [
    {
     "name": "stdout",
     "output_type": "stream",
     "text": [
      "party   D  I   R\n",
      "row_0           \n",
      "0      41  2   0\n",
      "1       3  0  54\n"
     ]
    }
   ],
   "source": [
    "import pandas as pd\n",
    "\n",
    "# The kmeans algorithm is implemented in the scikits-learn library\n",
    "from sklearn.cluster import KMeans\n",
    "\n",
    "# Create a kmeans model on our data, using 2 clusters. random_state helps ensure that the algorithm returns the same results each time.\n",
    "kmeans_model = KMeans(n_clusters=2, random_state=1).fit(votes.iloc[:, 3:])\n",
    "\n",
    "# These are our fitted labels for clusters -- the first cluster has label 0, and the second has label 1.\n",
    "labels = kmeans_model.labels_\n",
    "\n",
    "# The clustering looks pretty good!\n",
    "# It's separated everyone into parties just based on voting history\n",
    "print(pd.crosstab(labels, votes[\"party\"]))"
   ]
  },
  {
   "cell_type": "code",
   "execution_count": 4,
   "id": "e48c1fd7",
   "metadata": {},
   "outputs": [
    {
     "name": "stdout",
     "output_type": "stream",
     "text": [
      "42    Heitkamp\n",
      "56     Manchin\n",
      "74        Reid\n",
      "Name: name, dtype: object\n"
     ]
    }
   ],
   "source": [
    "# Let's call these types of voters \"oddballs\" (why not?)\n",
    "# There aren't any republican oddballs\n",
    "democratic_oddballs = votes[(labels == 1) & (votes[\"party\"] == \"D\")]\n",
    "\n",
    "# It looks like Reid has abstained a lot, which changed his cluster.\n",
    "# Manchin seems like a genuine oddball voter.\n",
    "print(democratic_oddballs[\"name\"])"
   ]
  },
  {
   "cell_type": "code",
   "execution_count": 7,
   "id": "6bf74bb3",
   "metadata": {},
   "outputs": [
    {
     "data": {
      "image/png": "[encoded data removed]",
      "text/plain": [
       "<Figure size 432x288 with 1 Axes>"
      ]
     },
     "metadata": {
      "needs_background": "light"
     },
     "output_type": "display_data"
    }
   ],
   "source": [
    "import matplotlib.pyplot as plt\n",
    "from sklearn.decomposition import PCA\n",
    "pca_2 = PCA(2)\n",
    "\n",
    "# Turn the vote data into two columns with PCA\n",
    "plot_columns = pca_2.fit_transform(votes.iloc[:,3:18])\n",
    "\n",
    "# Plot senators based on the two dimensions, and shade by cluster label\n",
    "# You can see the plot by clicking \"plots\" to the bottom right\n",
    "plt.scatter(x=plot_columns[:,0], y=plot_columns[:,1])#, #c=votes[\"labels\"])\n",
    "plt.show()"
   ]
  },
  {
   "cell_type": "code",
   "execution_count": 9,
   "id": "d36f17c6",
   "metadata": {},
   "outputs": [
    {
     "name": "stdout",
     "output_type": "stream",
     "text": [
      "party   D  I   R\n",
      "row_0           \n",
      "0       6  0   0\n",
      "1       0  0  52\n",
      "2      31  1   0\n",
      "3       0  0   2\n",
      "4       7  1   0\n"
     ]
    }
   ],
   "source": [
    "import pandas as pd\n",
    "from sklearn.cluster import KMeans\n",
    "kmeans_model = KMeans(n_clusters=5, random_state=1).fit(votes.iloc[:, 3:])\n",
    "labels = kmeans_model.labels_\n",
    "\n",
    "# The republicans are still pretty solid, but it looks like there are two democratic \"factions\"\n",
    "print(pd.crosstab(labels, votes[\"party\"]))"
   ]
  },
  {
   "cell_type": "code",
   "execution_count": null,
   "id": "6905dc00",
   "metadata": {},
   "outputs": [],
   "source": []
  }
 ],
 "metadata": {
  "kernelspec": {
   "display_name": "Python 3 (ipykernel)",
   "language": "python",
   "name": "python3"
  },
  "language_info": {
   "codemirror_mode": {
    "name": "ipython",
    "version": 3
   },
   "file_extension": ".py",
   "mimetype": "text/x-python",
   "name": "python",
   "nbconvert_exporter": "python",
   "pygments_lexer": "ipython3",
   "version": "3.10.4"
  }
 },
 "nbformat": 4,
 "nbformat_minor": 5
}
