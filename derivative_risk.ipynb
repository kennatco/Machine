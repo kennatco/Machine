{
 "cells": [
  {
   "cell_type": "code",
   "execution_count": 35,
   "metadata": {},
   "outputs": [],
   "source": [
    "import pandas as pd\n",
    "import numpy as np\n",
    "import numpy as np\n",
    "import math as m\n",
    "import scipy.stats as stats\n",
    "from scipy.stats import norm\n",
    "import matplotlib.pyplot as plt\n",
    "from scipy.sparse import csc_matrix\n",
    "from scipy.stats import bernoulli\n",
    "from scipy.optimize import fsolve\n",
    "\n",
    "\n",
    "df = pd.read_csv('12st.csv')\n",
    "rt= pd.read_csv('rt.csv')"
   ]
  },
  {
   "cell_type": "code",
   "execution_count": 2,
   "metadata": {},
   "outputs": [
    {
     "data": {
      "text/html": [
       "<div>\n",
       "<style scoped>\n",
       "    .dataframe tbody tr th:only-of-type {\n",
       "        vertical-align: middle;\n",
       "    }\n",
       "\n",
       "    .dataframe tbody tr th {\n",
       "        vertical-align: top;\n",
       "    }\n",
       "\n",
       "    .dataframe thead th {\n",
       "        text-align: right;\n",
       "    }\n",
       "</style>\n",
       "<table border=\"1\" class=\"dataframe\">\n",
       "  <thead>\n",
       "    <tr style=\"text-align: right;\">\n",
       "      <th></th>\n",
       "      <th>sp</th>\n",
       "      <th>fl</th>\n",
       "      <th>nflx</th>\n",
       "      <th>hd</th>\n",
       "      <th>ebay</th>\n",
       "      <th>hd.1</th>\n",
       "      <th>hdq</th>\n",
       "      <th>imax</th>\n",
       "      <th>nke</th>\n",
       "      <th>hsbc</th>\n",
       "      <th>appl</th>\n",
       "      <th>adbe</th>\n",
       "    </tr>\n",
       "  </thead>\n",
       "  <tbody>\n",
       "    <tr>\n",
       "      <th>0</th>\n",
       "      <td>-0.016085</td>\n",
       "      <td>-0.010752</td>\n",
       "      <td>-0.006240</td>\n",
       "      <td>-0.005374</td>\n",
       "      <td>-0.004036</td>\n",
       "      <td>-0.029658</td>\n",
       "      <td>-0.029658</td>\n",
       "      <td>-0.014354</td>\n",
       "      <td>-0.007214</td>\n",
       "      <td>-0.000725</td>\n",
       "      <td>0.001295</td>\n",
       "      <td>-0.014748</td>\n",
       "    </tr>\n",
       "    <tr>\n",
       "      <th>1</th>\n",
       "      <td>0.007527</td>\n",
       "      <td>-0.001458</td>\n",
       "      <td>0.009902</td>\n",
       "      <td>0.002442</td>\n",
       "      <td>-0.007768</td>\n",
       "      <td>0.004651</td>\n",
       "      <td>0.004651</td>\n",
       "      <td>0.008091</td>\n",
       "      <td>-0.001375</td>\n",
       "      <td>-0.011364</td>\n",
       "      <td>0.005777</td>\n",
       "      <td>0.016803</td>\n",
       "    </tr>\n",
       "    <tr>\n",
       "      <th>2</th>\n",
       "      <td>0.009220</td>\n",
       "      <td>0.003717</td>\n",
       "      <td>-0.002630</td>\n",
       "      <td>0.012330</td>\n",
       "      <td>-0.004084</td>\n",
       "      <td>-0.002645</td>\n",
       "      <td>-0.002645</td>\n",
       "      <td>-0.001605</td>\n",
       "      <td>0.018486</td>\n",
       "      <td>-0.007826</td>\n",
       "      <td>0.002658</td>\n",
       "      <td>0.004559</td>\n",
       "    </tr>\n",
       "    <tr>\n",
       "      <th>3</th>\n",
       "      <td>-0.009459</td>\n",
       "      <td>-0.007009</td>\n",
       "      <td>0.011029</td>\n",
       "      <td>-0.002042</td>\n",
       "      <td>0.003418</td>\n",
       "      <td>0.003979</td>\n",
       "      <td>0.003979</td>\n",
       "      <td>0.003215</td>\n",
       "      <td>0.009848</td>\n",
       "      <td>-0.001232</td>\n",
       "      <td>0.000941</td>\n",
       "      <td>-0.002458</td>\n",
       "    </tr>\n",
       "    <tr>\n",
       "      <th>4</th>\n",
       "      <td>0.007233</td>\n",
       "      <td>-0.039292</td>\n",
       "      <td>-0.007273</td>\n",
       "      <td>-0.010232</td>\n",
       "      <td>0.006131</td>\n",
       "      <td>0.000000</td>\n",
       "      <td>0.000000</td>\n",
       "      <td>-0.014423</td>\n",
       "      <td>-0.003059</td>\n",
       "      <td>-0.004442</td>\n",
       "      <td>-0.006578</td>\n",
       "      <td>-0.007487</td>\n",
       "    </tr>\n",
       "  </tbody>\n",
       "</table>\n",
       "</div>"
      ],
      "text/plain": [
       "         sp        fl      nflx        hd      ebay      hd.1       hdq  \\\n",
       "0 -0.016085 -0.010752 -0.006240 -0.005374 -0.004036 -0.029658 -0.029658   \n",
       "1  0.007527 -0.001458  0.009902  0.002442 -0.007768  0.004651  0.004651   \n",
       "2  0.009220  0.003717 -0.002630  0.012330 -0.004084 -0.002645 -0.002645   \n",
       "3 -0.009459 -0.007009  0.011029 -0.002042  0.003418  0.003979  0.003979   \n",
       "4  0.007233 -0.039292 -0.007273 -0.010232  0.006131  0.000000  0.000000   \n",
       "\n",
       "       imax       nke      hsbc      appl      adbe  \n",
       "0 -0.014354 -0.007214 -0.000725  0.001295 -0.014748  \n",
       "1  0.008091 -0.001375 -0.011364  0.005777  0.016803  \n",
       "2 -0.001605  0.018486 -0.007826  0.002658  0.004559  \n",
       "3  0.003215  0.009848 -0.001232  0.000941 -0.002458  \n",
       "4 -0.014423 -0.003059 -0.004442 -0.006578 -0.007487  "
      ]
     },
     "execution_count": 2,
     "metadata": {},
     "output_type": "execute_result"
    }
   ],
   "source": [
    "rt.head()"
   ]
  },
  {
   "cell_type": "code",
   "execution_count": 3,
   "metadata": {},
   "outputs": [
    {
     "data": {
      "text/html": [
       "<div>\n",
       "<style scoped>\n",
       "    .dataframe tbody tr th:only-of-type {\n",
       "        vertical-align: middle;\n",
       "    }\n",
       "\n",
       "    .dataframe tbody tr th {\n",
       "        vertical-align: top;\n",
       "    }\n",
       "\n",
       "    .dataframe thead th {\n",
       "        text-align: right;\n",
       "    }\n",
       "</style>\n",
       "<table border=\"1\" class=\"dataframe\">\n",
       "  <thead>\n",
       "    <tr style=\"text-align: right;\">\n",
       "      <th></th>\n",
       "      <th>sp</th>\n",
       "      <th>fl</th>\n",
       "      <th>nflx</th>\n",
       "      <th>hd</th>\n",
       "      <th>ebay</th>\n",
       "      <th>hd.1</th>\n",
       "      <th>hdq</th>\n",
       "      <th>imax</th>\n",
       "      <th>nke</th>\n",
       "      <th>hsbc</th>\n",
       "      <th>appl</th>\n",
       "      <th>adbe</th>\n",
       "    </tr>\n",
       "  </thead>\n",
       "  <tbody>\n",
       "    <tr>\n",
       "      <th>sp</th>\n",
       "      <td>1.501812e-04</td>\n",
       "      <td>0.000004</td>\n",
       "      <td>-6.373995e-07</td>\n",
       "      <td>-9.466429e-07</td>\n",
       "      <td>-0.000013</td>\n",
       "      <td>-0.000005</td>\n",
       "      <td>-0.000005</td>\n",
       "      <td>-0.000009</td>\n",
       "      <td>-0.000003</td>\n",
       "      <td>-0.000004</td>\n",
       "      <td>-0.000011</td>\n",
       "      <td>-4.085995e-07</td>\n",
       "    </tr>\n",
       "    <tr>\n",
       "      <th>fl</th>\n",
       "      <td>3.764692e-06</td>\n",
       "      <td>0.000992</td>\n",
       "      <td>5.311666e-05</td>\n",
       "      <td>1.834455e-04</td>\n",
       "      <td>0.000114</td>\n",
       "      <td>0.000227</td>\n",
       "      <td>0.000227</td>\n",
       "      <td>0.000241</td>\n",
       "      <td>0.000263</td>\n",
       "      <td>0.000184</td>\n",
       "      <td>0.000129</td>\n",
       "      <td>1.030860e-04</td>\n",
       "    </tr>\n",
       "    <tr>\n",
       "      <th>nflx</th>\n",
       "      <td>-6.373995e-07</td>\n",
       "      <td>0.000053</td>\n",
       "      <td>5.786089e-04</td>\n",
       "      <td>1.349951e-04</td>\n",
       "      <td>0.000140</td>\n",
       "      <td>0.000146</td>\n",
       "      <td>0.000146</td>\n",
       "      <td>0.000108</td>\n",
       "      <td>0.000127</td>\n",
       "      <td>0.000057</td>\n",
       "      <td>0.000220</td>\n",
       "      <td>2.929254e-04</td>\n",
       "    </tr>\n",
       "    <tr>\n",
       "      <th>hd</th>\n",
       "      <td>-9.466429e-07</td>\n",
       "      <td>0.000183</td>\n",
       "      <td>1.349951e-04</td>\n",
       "      <td>2.621177e-04</td>\n",
       "      <td>0.000115</td>\n",
       "      <td>0.000189</td>\n",
       "      <td>0.000189</td>\n",
       "      <td>0.000120</td>\n",
       "      <td>0.000156</td>\n",
       "      <td>0.000098</td>\n",
       "      <td>0.000169</td>\n",
       "      <td>1.747116e-04</td>\n",
       "    </tr>\n",
       "    <tr>\n",
       "      <th>ebay</th>\n",
       "      <td>-1.326582e-05</td>\n",
       "      <td>0.000114</td>\n",
       "      <td>1.399777e-04</td>\n",
       "      <td>1.154690e-04</td>\n",
       "      <td>0.000349</td>\n",
       "      <td>0.000124</td>\n",
       "      <td>0.000124</td>\n",
       "      <td>0.000060</td>\n",
       "      <td>0.000106</td>\n",
       "      <td>0.000059</td>\n",
       "      <td>0.000144</td>\n",
       "      <td>1.504959e-04</td>\n",
       "    </tr>\n",
       "    <tr>\n",
       "      <th>hd.1</th>\n",
       "      <td>-4.815467e-06</td>\n",
       "      <td>0.000227</td>\n",
       "      <td>1.459455e-04</td>\n",
       "      <td>1.889751e-04</td>\n",
       "      <td>0.000124</td>\n",
       "      <td>0.000487</td>\n",
       "      <td>0.000487</td>\n",
       "      <td>0.000238</td>\n",
       "      <td>0.000184</td>\n",
       "      <td>0.000152</td>\n",
       "      <td>0.000191</td>\n",
       "      <td>1.773787e-04</td>\n",
       "    </tr>\n",
       "    <tr>\n",
       "      <th>hdq</th>\n",
       "      <td>-4.815467e-06</td>\n",
       "      <td>0.000227</td>\n",
       "      <td>1.459455e-04</td>\n",
       "      <td>1.889751e-04</td>\n",
       "      <td>0.000124</td>\n",
       "      <td>0.000487</td>\n",
       "      <td>0.000487</td>\n",
       "      <td>0.000238</td>\n",
       "      <td>0.000184</td>\n",
       "      <td>0.000152</td>\n",
       "      <td>0.000191</td>\n",
       "      <td>1.773787e-04</td>\n",
       "    </tr>\n",
       "    <tr>\n",
       "      <th>imax</th>\n",
       "      <td>-9.391594e-06</td>\n",
       "      <td>0.000241</td>\n",
       "      <td>1.080128e-04</td>\n",
       "      <td>1.201645e-04</td>\n",
       "      <td>0.000060</td>\n",
       "      <td>0.000238</td>\n",
       "      <td>0.000238</td>\n",
       "      <td>0.001092</td>\n",
       "      <td>0.000132</td>\n",
       "      <td>0.000149</td>\n",
       "      <td>0.000109</td>\n",
       "      <td>1.076509e-04</td>\n",
       "    </tr>\n",
       "    <tr>\n",
       "      <th>nke</th>\n",
       "      <td>-3.320632e-06</td>\n",
       "      <td>0.000263</td>\n",
       "      <td>1.271526e-04</td>\n",
       "      <td>1.559127e-04</td>\n",
       "      <td>0.000106</td>\n",
       "      <td>0.000184</td>\n",
       "      <td>0.000184</td>\n",
       "      <td>0.000132</td>\n",
       "      <td>0.000336</td>\n",
       "      <td>0.000102</td>\n",
       "      <td>0.000158</td>\n",
       "      <td>1.616099e-04</td>\n",
       "    </tr>\n",
       "    <tr>\n",
       "      <th>hsbc</th>\n",
       "      <td>-3.536306e-06</td>\n",
       "      <td>0.000184</td>\n",
       "      <td>5.699766e-05</td>\n",
       "      <td>9.792394e-05</td>\n",
       "      <td>0.000059</td>\n",
       "      <td>0.000152</td>\n",
       "      <td>0.000152</td>\n",
       "      <td>0.000149</td>\n",
       "      <td>0.000102</td>\n",
       "      <td>0.000247</td>\n",
       "      <td>0.000097</td>\n",
       "      <td>8.423852e-05</td>\n",
       "    </tr>\n",
       "    <tr>\n",
       "      <th>appl</th>\n",
       "      <td>-1.059317e-05</td>\n",
       "      <td>0.000129</td>\n",
       "      <td>2.197006e-04</td>\n",
       "      <td>1.693620e-04</td>\n",
       "      <td>0.000144</td>\n",
       "      <td>0.000191</td>\n",
       "      <td>0.000191</td>\n",
       "      <td>0.000109</td>\n",
       "      <td>0.000158</td>\n",
       "      <td>0.000097</td>\n",
       "      <td>0.000366</td>\n",
       "      <td>2.543284e-04</td>\n",
       "    </tr>\n",
       "    <tr>\n",
       "      <th>adbe</th>\n",
       "      <td>-4.085995e-07</td>\n",
       "      <td>0.000103</td>\n",
       "      <td>2.929254e-04</td>\n",
       "      <td>1.747116e-04</td>\n",
       "      <td>0.000150</td>\n",
       "      <td>0.000177</td>\n",
       "      <td>0.000177</td>\n",
       "      <td>0.000108</td>\n",
       "      <td>0.000162</td>\n",
       "      <td>0.000084</td>\n",
       "      <td>0.000254</td>\n",
       "      <td>4.237866e-04</td>\n",
       "    </tr>\n",
       "  </tbody>\n",
       "</table>\n",
       "</div>"
      ],
      "text/plain": [
       "                sp        fl          nflx            hd      ebay      hd.1  \\\n",
       "sp    1.501812e-04  0.000004 -6.373995e-07 -9.466429e-07 -0.000013 -0.000005   \n",
       "fl    3.764692e-06  0.000992  5.311666e-05  1.834455e-04  0.000114  0.000227   \n",
       "nflx -6.373995e-07  0.000053  5.786089e-04  1.349951e-04  0.000140  0.000146   \n",
       "hd   -9.466429e-07  0.000183  1.349951e-04  2.621177e-04  0.000115  0.000189   \n",
       "ebay -1.326582e-05  0.000114  1.399777e-04  1.154690e-04  0.000349  0.000124   \n",
       "hd.1 -4.815467e-06  0.000227  1.459455e-04  1.889751e-04  0.000124  0.000487   \n",
       "hdq  -4.815467e-06  0.000227  1.459455e-04  1.889751e-04  0.000124  0.000487   \n",
       "imax -9.391594e-06  0.000241  1.080128e-04  1.201645e-04  0.000060  0.000238   \n",
       "nke  -3.320632e-06  0.000263  1.271526e-04  1.559127e-04  0.000106  0.000184   \n",
       "hsbc -3.536306e-06  0.000184  5.699766e-05  9.792394e-05  0.000059  0.000152   \n",
       "appl -1.059317e-05  0.000129  2.197006e-04  1.693620e-04  0.000144  0.000191   \n",
       "adbe -4.085995e-07  0.000103  2.929254e-04  1.747116e-04  0.000150  0.000177   \n",
       "\n",
       "           hdq      imax       nke      hsbc      appl          adbe  \n",
       "sp   -0.000005 -0.000009 -0.000003 -0.000004 -0.000011 -4.085995e-07  \n",
       "fl    0.000227  0.000241  0.000263  0.000184  0.000129  1.030860e-04  \n",
       "nflx  0.000146  0.000108  0.000127  0.000057  0.000220  2.929254e-04  \n",
       "hd    0.000189  0.000120  0.000156  0.000098  0.000169  1.747116e-04  \n",
       "ebay  0.000124  0.000060  0.000106  0.000059  0.000144  1.504959e-04  \n",
       "hd.1  0.000487  0.000238  0.000184  0.000152  0.000191  1.773787e-04  \n",
       "hdq   0.000487  0.000238  0.000184  0.000152  0.000191  1.773787e-04  \n",
       "imax  0.000238  0.001092  0.000132  0.000149  0.000109  1.076509e-04  \n",
       "nke   0.000184  0.000132  0.000336  0.000102  0.000158  1.616099e-04  \n",
       "hsbc  0.000152  0.000149  0.000102  0.000247  0.000097  8.423852e-05  \n",
       "appl  0.000191  0.000109  0.000158  0.000097  0.000366  2.543284e-04  \n",
       "adbe  0.000177  0.000108  0.000162  0.000084  0.000254  4.237866e-04  "
      ]
     },
     "execution_count": 3,
     "metadata": {},
     "output_type": "execute_result"
    }
   ],
   "source": [
    "cov_matrix = rt.cov()\n",
    "cov_matrix"
   ]
  },
  {
   "cell_type": "code",
   "execution_count": 4,
   "metadata": {},
   "outputs": [
    {
     "data": {
      "text/plain": [
       "sp     -0.000510\n",
       "fl      0.000144\n",
       "nflx    0.001534\n",
       "hd      0.001090\n",
       "ebay    0.000840\n",
       "hd.1    0.001027\n",
       "hdq     0.001027\n",
       "imax    0.000033\n",
       "nke     0.001140\n",
       "hsbc    0.000025\n",
       "appl    0.001660\n",
       "adbe    0.001618\n",
       "dtype: float64"
      ]
     },
     "execution_count": 4,
     "metadata": {},
     "output_type": "execute_result"
    }
   ],
   "source": [
    "# Calculate mean returns for each stock\n",
    "avg_rets = pd.Series(rt.mean())\n",
    "avg_rets"
   ]
  },
  {
   "cell_type": "code",
   "execution_count": 5,
   "metadata": {},
   "outputs": [
    {
     "data": {
      "text/plain": [
       "270"
      ]
     },
     "execution_count": 5,
     "metadata": {},
     "output_type": "execute_result"
    }
   ],
   "source": [
    "weight = [12,10,15,16,86,17,20,5,8,12,9,60]\n",
    "b = sum(weight)\n",
    "b"
   ]
  },
  {
   "cell_type": "code",
   "execution_count": 6,
   "metadata": {},
   "outputs": [],
   "source": [
    "weights =[]\n",
    "for i in weight:\n",
    "    a = i/b\n",
    "    weights.append(a)"
   ]
  },
  {
   "cell_type": "code",
   "execution_count": 8,
   "metadata": {},
   "outputs": [],
   "source": [
    "port_mean = avg_rets.dot(weights)\n",
    "weight2 = np.array(weights)\n",
    "port_stdev = np.dot(weight2.T,np.dot(cov_matrix, weight))\n",
    "initial_investment = 1\n",
    "mean_investment = (1+port_mean) * 1\n",
    "stdev_investment = initial_investment * port_stdev"
   ]
  },
  {
   "cell_type": "code",
   "execution_count": 9,
   "metadata": {},
   "outputs": [
    {
     "name": "stdout",
     "output_type": "stream",
     "text": [
      "1 day VaR @ 95% confidence: -0.92\n",
      "5 day VaR @ 95% confidence: -2.06\n"
     ]
    }
   ],
   "source": [
    "varr_1 = norm.ppf(0.95)*stdev_investment - mean_investment\n",
    "varr_5 = varr_1*np.sqrt(5)\n",
    "print(str(1) + \" day VaR @ 95% confidence: \" + str(np.round(varr_1,2)))\n",
    "print(str(5) + \" day VaR @ 95% confidence: \" + str(np.round(varr_5,2)))"
   ]
  },
  {
   "cell_type": "code",
   "execution_count": 10,
   "metadata": {},
   "outputs": [
    {
     "name": "stdout",
     "output_type": "stream",
     "text": [
      "1 day VaR @ 99% confidence: -0.89\n",
      "5 day VaR @ 99% confidence: -2.06\n"
     ]
    }
   ],
   "source": [
    "varr_1_99 = norm.ppf(0.99)*stdev_investment - mean_investment\n",
    "varr_5_99 = varr_1*np.sqrt(5)\n",
    "print(str(1) + \" day VaR @ 99% confidence: \" + str(np.round(varr_1_99,2)))\n",
    "print(str(5) + \" day VaR @ 99% confidence: \" + str(np.round(varr_5_99,2)))"
   ]
  },
  {
   "cell_type": "code",
   "execution_count": 11,
   "metadata": {},
   "outputs": [
    {
     "name": "stdout",
     "output_type": "stream",
     "text": [
      "99% CVaR/ES is 12.71\n",
      "99% CVaR/ES is 9.81\n"
     ]
    }
   ],
   "source": [
    "alpha=0.01\n",
    "alpha_2 = 0.05\n",
    "Cvar_p1= alpha**-1 * norm.pdf(norm.ppf(alpha))*port_stdev- port_mean\n",
    "Cvar_p2= alpha_2**-1 * norm.pdf(norm.ppf(alpha_2))*port_stdev- port_mean\n",
    "print(\"99% CVaR/ES is\", round(Cvar_p1*100,2))\n",
    "print(\"99% CVaR/ES is\", round(Cvar_p2*100,2))"
   ]
  },
  {
   "cell_type": "code",
   "execution_count": 31,
   "metadata": {},
   "outputs": [
    {
     "data": {
      "text/plain": [
       "814   -0.101519\n",
       "812   -0.082679\n",
       "826   -0.061604\n",
       "809   -0.060576\n",
       "816   -0.056700\n",
       "818   -0.045867\n",
       "875   -0.045044\n",
       "456   -0.043627\n",
       "284   -0.039877\n",
       "660   -0.039859\n",
       "811   -0.039652\n",
       "934   -0.037231\n",
       "dtype: float64"
      ]
     },
     "execution_count": 31,
     "metadata": {},
     "output_type": "execute_result"
    }
   ],
   "source": [
    "p_tn = rt.multiply(weights, axis='columns', level=None, fill_value=None)\n",
    "PnL = p_tn.sum(axis=1, skipna=None, level=None, numeric_only=None, min_count=0)\n",
    "PnL_s = PnL.sort_values(axis=0, ascending=True)\n",
    "PnL_s.head(12)"
   ]
  },
  {
   "cell_type": "code",
   "execution_count": 32,
   "metadata": {},
   "outputs": [
    {
     "name": "stdout",
     "output_type": "stream",
     "text": [
      " historical VAR @ 95% confidence: -0.021785402025925923\n",
      " historical VAR @ 99% confidence: -0.03703207481851852\n"
     ]
    }
   ],
   "source": [
    "historical_Var_1 =PnL_s.iloc[12]\n",
    "historical_Var_5 =PnL_s.iloc[62]\n",
    "print(  \" historical VAR @ 95% confidence: \" + str(historical_Var_5 ))\n",
    "print(\" historical VAR @ 99% confidence: \" + str(historical_Var_1 ))"
   ]
  },
  {
   "cell_type": "code",
   "execution_count": 33,
   "metadata": {},
   "outputs": [
    {
     "name": "stdout",
     "output_type": "stream",
     "text": [
      " historical cVAR @ 95% confidence: -0.03254017953022462\n",
      " historical cVAR @ 99% confidence: -0.054519555795481484\n"
     ]
    }
   ],
   "source": [
    "Hist_cvar_1 = PnL_s.head(12).mean()\n",
    "Hist_cvar_5 = PnL_s.head(62).mean()\n",
    "print(  \" historical cVAR @ 95% confidence: \" + str(Hist_cvar_5  ))\n",
    "print(\" historical cVAR @ 99% confidence: \" + str(Hist_cvar_1  ))"
   ]
  },
  {
   "cell_type": "code",
   "execution_count": 36,
   "metadata": {},
   "outputs": [
    {
     "data": {
      "text/plain": [
       "0    27.254816\n",
       "1    27.290115\n",
       "2    27.447779\n",
       "3    27.520725\n",
       "4    27.546612\n",
       "Name: Adj Close, dtype: float64"
      ]
     },
     "execution_count": 36,
     "metadata": {},
     "output_type": "execute_result"
    }
   ],
   "source": [
    "apple=pd.read_csv('AAPL.csv')\n",
    "#apple_data =apple.iloc[:,-2].head()\n",
    "apple_data =apple['Adj Close']\n",
    "apple_data.head()"
   ]
  },
  {
   "cell_type": "code",
   "execution_count": 37,
   "metadata": {},
   "outputs": [],
   "source": [
    "#Black scholes\n",
    "def call_price(sigma, S, K, r, t):\n",
    "    d1 = np.multiply( 1. / sigma * np.divide(1., np.sqrt(t)),\n",
    "        np.log(S/K) + (r + sigma**2 / 2.) * t  )\n",
    "    d2 = d1 - sigma * np.sqrt(t)\n",
    "    \n",
    "    C = np.multiply(S, norm.cdf(d1)) - \\\n",
    "        np.multiply(norm.cdf(d2) * K, np.exp(-r * t))\n",
    "    return C\n",
    "def put_price(sigma, S, K, r, t):\n",
    "    d1 = np.multiply( 1. / sigma * np.divide(1., np.sqrt(t)),\n",
    "        np.log(S/K) + (r + sigma**2 / 2.) * t  )\n",
    "    d2 = d1 - sigma * np.sqrt(t)\n",
    "    \n",
    "    P = -np.multiply(S, norm.cdf(-d1)) + \\\n",
    "        np.multiply(norm.cdf(-d2) * K, np.exp(-r * t))\n",
    "    return P"
   ]
  },
  {
   "cell_type": "code",
   "execution_count": 38,
   "metadata": {},
   "outputs": [
    {
     "name": "stdout",
     "output_type": "stream",
     "text": [
      " the Bscholes call price is 0.04327\n",
      " the Bscholes put price is 44.32685\n"
     ]
    }
   ],
   "source": [
    "call_price(0.4, 27, 72, 0.01, 1)\n",
    "put_price(0.4, 27, 72, 0.01, 1)\n",
    "print(\" the Bscholes call price is {:.5f}\".format(call_price(0.4, 27, 72, 0.01, 1)))\n",
    "print(\" the Bscholes put price is {:.5f}\".format(put_price(0.4, 27, 72, 0.01, 1)))"
   ]
  },
  {
   "cell_type": "code",
   "execution_count": 41,
   "metadata": {},
   "outputs": [],
   "source": [
    "import math\n",
    "def binomial_call(S, K, T, r, vol, N):\n",
    "    \"\"\"\n",
    "    Implements the binomial option pricing model to price a European call option on a stock\n",
    "    S - stock price today\n",
    "    K - strike price of the option\n",
    "    T - time until expiry of the option\n",
    "    r - risk-free interest rate\n",
    "    vol - the volatility of the stock\n",
    "    N - number of steps in the model\n",
    "    \"\"\"\n",
    "    dt = T/N\n",
    "    u =  math.exp(vol * math.sqrt(dt))\n",
    "    d = 1/u\n",
    "    p = (math.exp(r * dt) - d)/(u - d)\n",
    "    C = {}\n",
    "    for m in range(0, N+1):\n",
    "            C[(N, m)] = max(S * (u ** (2*m - N)) - K, 0)\n",
    "    for k in range(N-1, -1, -1):\n",
    "        for m in range(0,k+1):\n",
    "            C[(k, m)] = math.exp(-r * dt) * (p * C[(k+1, m+1)] + (1-p) * C[(k+1, m)])\n",
    "    return C[(0,0)]\n",
    "def binomial_put(S, K, T, r, vol, N):\n",
    "    dt = T/N\n",
    "    u =  math.exp(vol * math.sqrt(dt))\n",
    "    d = 1/u\n",
    "    p = (math.exp(r * dt) - d)/(u - d)\n",
    "    C = {}\n",
    "    for m in range(0, N+1):\n",
    "            C[(N, m)] = max(K -(S * (u ** (2*m - N))) , 0)\n",
    "    for k in range(N-1, -1, -1):\n",
    "        for m in range(0,k+1):\n",
    "            C[(k, m)] = math.exp(-r * dt) * (p * C[(k+1, m+1)] + (1-p) * C[(k+1, m)])\n",
    "    return C[(0,0)]"
   ]
  },
  {
   "cell_type": "code",
   "execution_count": 42,
   "metadata": {},
   "outputs": [
    {
     "name": "stdout",
     "output_type": "stream",
     "text": [
      "With N =   1, the call price is 0.00000\n",
      "With N =  10, the call price is 0.02686\n",
      "With N = 100, the call price is 0.04178\n",
      "With N = 200, the call price is 0.04266\n",
      "With N = 300, the call price is 0.04276\n",
      "With N = 400, the call price is 0.04303\n",
      "With N = 1000, the call price is 0.04312\n"
     ]
    }
   ],
   "source": [
    "ns=[1,10,100,200,300,400,1000]\n",
    "for j in ns:\n",
    "    print(\"With N = {:3d}, the call price is {:.5f}\".format(j,binomial_call(27,72,1,0.01,0.4, j)))"
   ]
  },
  {
   "cell_type": "code",
   "execution_count": 44,
   "metadata": {},
   "outputs": [
    {
     "name": "stdout",
     "output_type": "stream",
     "text": [
      "With N =   1, the put price is 44.28359\n",
      "With N =  10, the put price is 44.31045\n",
      "With N = 100, the put price is 44.32537\n",
      "With N = 200, the put price is 44.32625\n",
      "With N = 300, the put price is 44.32634\n",
      "With N = 400, the put price is 44.32661\n",
      "With N = 1000, the put price is 44.32671\n"
     ]
    }
   ],
   "source": [
    "for j in ns:\n",
    "    print(\"With N = {:3d}, the put price is {:.5f}\".format(j,binomial_put(27,72,1,0.01,0.4, j)))"
   ]
  },
  {
   "cell_type": "code",
   "execution_count": null,
   "metadata": {},
   "outputs": [],
   "source": []
  }
 ],
 "metadata": {
  "kernelspec": {
   "display_name": "Python 3 (ipykernel)",
   "language": "python",
   "name": "python3"
  },
  "language_info": {
   "codemirror_mode": {
    "name": "ipython",
    "version": 3
   },
   "file_extension": ".py",
   "mimetype": "text/x-python",
   "name": "python",
   "nbconvert_exporter": "python",
   "pygments_lexer": "ipython3",
   "version": "3.10.4"
  }
 },
 "nbformat": 4,
 "nbformat_minor": 2
}
