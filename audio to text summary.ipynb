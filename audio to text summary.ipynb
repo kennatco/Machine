{
 "cells": [
  {
   "cell_type": "code",
   "execution_count": 25,
   "id": "3381960a",
   "metadata": {},
   "outputs": [],
   "source": [
    "from vosk import Model, KaldiRecognizer\n",
    "import os"
   ]
  },
  {
   "cell_type": "code",
   "execution_count": 26,
   "id": "c8f44f98",
   "metadata": {},
   "outputs": [],
   "source": [
    "FRAME_RATE = 16000\n",
    "CHANNELS=1\n",
    "\n",
    "model = Model(model_name=\"vosk-model-small-en-us-0.15\")\n",
    "# For a smaller download size, use model = Model(model_name=\"vosk-model-small-en-us-0.15\")\n",
    "rec = KaldiRecognizer(model, FRAME_RATE)\n",
    "rec.SetWords(True)"
   ]
  },
  {
   "cell_type": "code",
   "execution_count": 3,
   "id": "5cf009ef",
   "metadata": {},
   "outputs": [],
   "source": [
    "from pydub import AudioSegment"
   ]
  },
  {
   "cell_type": "code",
   "execution_count": 4,
   "id": "5b6a394d",
   "metadata": {},
   "outputs": [],
   "source": [
    "mp3 = AudioSegment.from_mp3(\"marketplace.mp3\")\n",
    "mp3 = mp3.set_channels(CHANNELS)\n",
    "mp3 = mp3.set_frame_rate(FRAME_RATE)"
   ]
  },
  {
   "cell_type": "code",
   "execution_count": 5,
   "id": "dbb3760e",
   "metadata": {},
   "outputs": [],
   "source": [
    "rec.AcceptWaveform(mp3.raw_data)\n",
    "result = rec.Result()"
   ]
  },
  {
   "cell_type": "code",
   "execution_count": 8,
   "id": "e4e94879",
   "metadata": {},
   "outputs": [],
   "source": [
    "import json\n",
    "text = json.loads(result)[\"text\"]"
   ]
  },
  {
   "cell_type": "code",
   "execution_count": 9,
   "id": "e185c3ce",
   "metadata": {},
   "outputs": [
    {
     "data": {
      "text/plain": [
       "\"the funny thing about the big economic news of the day the fed raising interest rates have a percentage point was that there was only really one bit of actual news in the news and the interest rate increase wasn't it you know it was common i know it was common wall street news common businesses knew it was common so on this fed day on this program something a little bit different j powell in his own words five of i'm his most used economic words from today's press conference where number one of course it's the biggie two percent inflation flesh and inflation inflation inflation place in english dealing with inflation bells big worry that thing keeping him up at night price stability is the feds whole ballgame right now pal basically said as much to day or number two\""
      ]
     },
     "execution_count": 9,
     "metadata": {},
     "output_type": "execute_result"
    }
   ],
   "source": [
    "text"
   ]
  },
  {
   "cell_type": "code",
   "execution_count": 11,
   "id": "be96127f",
   "metadata": {},
   "outputs": [],
   "source": [
    "import subprocess\n",
    "\n",
    "cased = subprocess.check_output('python recasepunc/recasepunc.py predict recasepunc/checkpoint', shell=True, text=True, input=text)"
   ]
  },
  {
   "cell_type": "code",
   "execution_count": 12,
   "id": "f25a7a38",
   "metadata": {},
   "outputs": [
    {
     "data": {
      "text/plain": [
       "\"The funny thing about the big economic news of the day, the Fed raising interest rates have a percentage point was that there was only really one bit of actual news in the news. And the interest rate increase wasn ' t it. You know, it was common. I know it was common Wall Street news. Common businesses knew it was common. So on this Fed day, on this program something a little bit different. J. Powell, in his own words, five of I ' m his most used economic words from today ' s press conference, where number one, Of course, it ' s the biggie Two percent inflation, flesh and inflation inflation inflation Place in English. Dealing with inflation bells. Big worry, that thing keeping him up at night. Price stability is the Feds whole ballgame right now, Pal, Basically said as much to day or number two.\\n\""
      ]
     },
     "execution_count": 12,
     "metadata": {},
     "output_type": "execute_result"
    }
   ],
   "source": [
    "cased"
   ]
  },
  {
   "cell_type": "code",
   "execution_count": 13,
   "id": "2690cff3",
   "metadata": {},
   "outputs": [],
   "source": [
    "def voice_recognition(filename):\n",
    "    model = Model(model_name=\"vosk-model-small-en-us-0.15\")\n",
    "    rec = KaldiRecognizer(model, FRAME_RATE)\n",
    "    rec.SetWords(True)\n",
    "    \n",
    "    mp3 = AudioSegment.from_mp3(filename)\n",
    "    mp3 = mp3.set_channels(CHANNELS)\n",
    "    mp3 = mp3.set_frame_rate(FRAME_RATE)\n",
    "    \n",
    "    step = 45000\n",
    "    transcript = \"\"\n",
    "    for i in range(0, len(mp3), step):\n",
    "        print(f\"Progress: {i/len(mp3)}\")\n",
    "        segment = mp3[i:i+step]\n",
    "        rec.AcceptWaveform(segment.raw_data)\n",
    "        result = rec.Result()\n",
    "        text = json.loads(result)[\"text\"]\n",
    "        transcript += text\n",
    "    \n",
    "    cased = subprocess.check_output('python recasepunc/recasepunc.py predict recasepunc/checkpoint', shell=True, text=True, input=transcript)\n",
    "    return cased"
   ]
  },
  {
   "cell_type": "code",
   "execution_count": 24,
   "id": "4ba83f5d",
   "metadata": {},
   "outputs": [
    {
     "ename": "SyntaxError",
     "evalue": "(unicode error) 'unicodeescape' codec can't decode bytes in position 2-3: truncated \\UXXXXXXXX escape (2279368387.py, line 1)",
     "output_type": "error",
     "traceback": [
      "\u001b[1;36m  Input \u001b[1;32mIn [24]\u001b[1;36m\u001b[0m\n\u001b[1;33m    transcript = voice_recognition(\"C:\\Users\\KENNEDY\\Downloads\\Writing and Presenting Research_4.02.22.mp4\")\u001b[0m\n\u001b[1;37m                                                                                                           ^\u001b[0m\n\u001b[1;31mSyntaxError\u001b[0m\u001b[1;31m:\u001b[0m (unicode error) 'unicodeescape' codec can't decode bytes in position 2-3: truncated \\UXXXXXXXX escape\n"
     ]
    }
   ],
   "source": [
    "transcript = voice_recognition(\"marketplace.mp3\")"
   ]
  },
  {
   "cell_type": "code",
   "execution_count": 23,
   "id": "3eccd070",
   "metadata": {},
   "outputs": [
    {
     "data": {
      "text/plain": [
       "\"Gamehaving less a by the it all the game you inoh god yeahback then and then the in his body can be made the is his name is a know whycan play with melove yet even manage the early then i ' d drink about one that gave a isn ' t it would have like zero yeah very often break it down the of and like this promises to only my baby In addition, the maybe sub or whatever it might be fully agree with that personal privacy is rolled my eyes know when loading arrive my before that came with that in a dorm travel ban the only way to the able to get held back when i say yes you enable someone they get like they prescribe nearby but brain for a moderate lists but try threethat ' s very true. Believe in yourself the rest isn ' t to be that stuff that you.\\n\""
      ]
     },
     "execution_count": 23,
     "metadata": {},
     "output_type": "execute_result"
    }
   ],
   "source": [
    "transcript"
   ]
  },
  {
   "cell_type": "code",
   "execution_count": 15,
   "id": "1bc4f830",
   "metadata": {},
   "outputs": [
    {
     "name": "stderr",
     "output_type": "stream",
     "text": [
      "C:\\Users\\KENNEDY\\AppData\\Local\\Programs\\Python\\Python310\\lib\\site-packages\\transformers\\models\\t5\\tokenization_t5_fast.py:156: FutureWarning: This tokenizer was incorrectly instantiated with a model max length of 512 which will be corrected in Transformers v5.\n",
      "For now, this behavior is kept to avoid breaking backwards compatibility when padding/encoding with `truncation is True`.\n",
      "- Be aware that you SHOULD NOT rely on t5-small automatically truncating your input to 512 when padding/encoding.\n",
      "- If you want to encode/pad to sequences longer than 512 you can either instantiate this tokenizer with `model_max_length` or pass `max_length` when encoding/padding.\n",
      "- To avoid this warning, please instantiate this tokenizer with `model_max_length` set to your preferred value.\n",
      "  warnings.warn(\n"
     ]
    }
   ],
   "source": [
    "#from transformers import pipeline\n",
    "summarizer = pipeline(\"summarization\", model=\"t5-small\")\n",
    "# For a smaller model, use: summarizer = pipeline(\"summarization\", model=\"t5-small\")"
   ]
  },
  {
   "cell_type": "code",
   "execution_count": 16,
   "id": "ed5fdd5e",
   "metadata": {},
   "outputs": [],
   "source": [
    "split_tokens = transcript.split(\" \")\n",
    "docs = []\n",
    "for i in range(0, len(split_tokens), 850):\n",
    "    selection = \" \".join(split_tokens[i:(i+850)])\n",
    "    docs.append(selection)"
   ]
  },
  {
   "cell_type": "code",
   "execution_count": 17,
   "id": "19dac92f",
   "metadata": {},
   "outputs": [
    {
     "name": "stderr",
     "output_type": "stream",
     "text": [
      "Your max_length is set to 200, but you input_length is only 192. You might consider decreasing max_length manually, e.g. summarizer('...', max_length=96)\n"
     ]
    }
   ],
   "source": [
    "summaries = summarizer(docs)"
   ]
  },
  {
   "cell_type": "code",
   "execution_count": 18,
   "id": "a3f729c2",
   "metadata": {},
   "outputs": [
    {
     "data": {
      "text/plain": [
       "[{'summary_text': \"the big economic news of the day, the Fed raising interest rates have a percentage point . there was only one bit of actual news in the news, and the interest rate increase wasn' t it . on this Fed day, on this program something a little bit different.\"}]"
      ]
     },
     "execution_count": 18,
     "metadata": {},
     "output_type": "execute_result"
    }
   ],
   "source": [
    "summaries"
   ]
  },
  {
   "cell_type": "code",
   "execution_count": 19,
   "id": "1072d34a",
   "metadata": {},
   "outputs": [],
   "source": [
    "summary = \"\\n\\n\".join([d[\"summary_text\"] for d in summaries])"
   ]
  },
  {
   "cell_type": "code",
   "execution_count": 20,
   "id": "c15573db",
   "metadata": {},
   "outputs": [
    {
     "data": {
      "text/plain": [
       "\"the big economic news of the day, the Fed raising interest rates have a percentage point . there was only one bit of actual news in the news, and the interest rate increase wasn' t it . on this Fed day, on this program something a little bit different.\""
      ]
     },
     "execution_count": 20,
     "metadata": {},
     "output_type": "execute_result"
    }
   ],
   "source": [
    "summary "
   ]
  },
  {
   "cell_type": "code",
   "execution_count": 21,
   "id": "e5ee3086",
   "metadata": {},
   "outputs": [
    {
     "name": "stdout",
     "output_type": "stream",
     "text": [
      "the big economic news of the day, the Fed raising interest rates have a percentage point . there was only one bit of actual news in the news, and the interest rate increase wasn' t it . on this Fed day, on this program something a little bit different.\n"
     ]
    }
   ],
   "source": [
    "print(summary)"
   ]
  },
  {
   "cell_type": "code",
   "execution_count": 29,
   "id": "357fd8f7",
   "metadata": {},
   "outputs": [],
   "source": [
    "#extract audio from video video \n",
    "import moviepy.editor as mp"
   ]
  },
  {
   "cell_type": "code",
   "execution_count": 30,
   "id": "bd529b96",
   "metadata": {},
   "outputs": [],
   "source": [
    "my_clip = mp.VideoFileClip(r\"C:\\Users\\KENNEDY\\Downloads\\Writing and Presenting Research_4.02.22.mp4\")"
   ]
  },
  {
   "cell_type": "code",
   "execution_count": 31,
   "id": "f2cde514",
   "metadata": {},
   "outputs": [
    {
     "name": "stdout",
     "output_type": "stream",
     "text": [
      "MoviePy - Writing audio in Writing_and_Presenting_Research.mp3\n"
     ]
    },
    {
     "name": "stderr",
     "output_type": "stream",
     "text": [
      "                                                                                                                       "
     ]
    },
    {
     "name": "stdout",
     "output_type": "stream",
     "text": [
      "MoviePy - Done.\n"
     ]
    },
    {
     "name": "stderr",
     "output_type": "stream",
     "text": [
      "\r"
     ]
    }
   ],
   "source": [
    "my_clip.audio.write_audiofile(r\"Writing_and_Presenting_Research.mp3\")"
   ]
  },
  {
   "cell_type": "code",
   "execution_count": 32,
   "id": "8bbc3379",
   "metadata": {},
   "outputs": [
    {
     "name": "stdout",
     "output_type": "stream",
     "text": [
      "Progress: 0.0\n",
      "Progress: 0.007957587825244299\n",
      "Progress: 0.015915175650488597\n",
      "Progress: 0.023872763475732892\n",
      "Progress: 0.031830351300977194\n",
      "Progress: 0.03978793912622149\n",
      "Progress: 0.047745526951465785\n",
      "Progress: 0.05570311477671008\n",
      "Progress: 0.06366070260195439\n",
      "Progress: 0.07161829042719868\n",
      "Progress: 0.07957587825244299\n",
      "Progress: 0.08753346607768728\n",
      "Progress: 0.09549105390293157\n",
      "Progress: 0.10344864172817587\n",
      "Progress: 0.11140622955342017\n",
      "Progress: 0.11936381737866447\n",
      "Progress: 0.12732140520390878\n",
      "Progress: 0.13527899302915306\n",
      "Progress: 0.14323658085439736\n",
      "Progress: 0.15119416867964167\n",
      "Progress: 0.15915175650488597\n",
      "Progress: 0.16710934433013025\n",
      "Progress: 0.17506693215537455\n",
      "Progress: 0.18302451998061886\n",
      "Progress: 0.19098210780586314\n",
      "Progress: 0.19893969563110744\n",
      "Progress: 0.20689728345635175\n",
      "Progress: 0.21485487128159605\n",
      "Progress: 0.22281245910684033\n",
      "Progress: 0.23077004693208464\n",
      "Progress: 0.23872763475732894\n",
      "Progress: 0.24668522258257325\n",
      "Progress: 0.25464281040781755\n",
      "Progress: 0.2626003982330618\n",
      "Progress: 0.2705579860583061\n",
      "Progress: 0.2785155738835504\n",
      "Progress: 0.2864731617087947\n",
      "Progress: 0.294430749534039\n",
      "Progress: 0.30238833735928333\n",
      "Progress: 0.31034592518452764\n",
      "Progress: 0.31830351300977194\n",
      "Progress: 0.3262611008350162\n",
      "Progress: 0.3342186886602605\n",
      "Progress: 0.3421762764855048\n",
      "Progress: 0.3501338643107491\n",
      "Progress: 0.3580914521359934\n",
      "Progress: 0.3660490399612377\n",
      "Progress: 0.374006627786482\n",
      "Progress: 0.3819642156117263\n",
      "Progress: 0.3899218034369706\n",
      "Progress: 0.3978793912622149\n",
      "Progress: 0.4058369790874592\n",
      "Progress: 0.4137945669127035\n",
      "Progress: 0.4217521547379478\n",
      "Progress: 0.4297097425631921\n",
      "Progress: 0.43766733038843636\n",
      "Progress: 0.44562491821368067\n",
      "Progress: 0.45358250603892497\n",
      "Progress: 0.4615400938641693\n",
      "Progress: 0.4694976816894136\n",
      "Progress: 0.4774552695146579\n",
      "Progress: 0.4854128573399022\n",
      "Progress: 0.4933704451651465\n",
      "Progress: 0.5013280329903907\n",
      "Progress: 0.5092856208156351\n",
      "Progress: 0.5172432086408794\n",
      "Progress: 0.5252007964661236\n",
      "Progress: 0.533158384291368\n",
      "Progress: 0.5411159721166122\n",
      "Progress: 0.5490735599418566\n",
      "Progress: 0.5570311477671008\n",
      "Progress: 0.5649887355923452\n",
      "Progress: 0.5729463234175894\n",
      "Progress: 0.5809039112428338\n",
      "Progress: 0.588861499068078\n",
      "Progress: 0.5968190868933223\n",
      "Progress: 0.6047766747185667\n",
      "Progress: 0.6127342625438109\n",
      "Progress: 0.6206918503690553\n",
      "Progress: 0.6286494381942995\n",
      "Progress: 0.6366070260195439\n",
      "Progress: 0.6445646138447881\n",
      "Progress: 0.6525222016700324\n",
      "Progress: 0.6604797894952767\n",
      "Progress: 0.668437377320521\n",
      "Progress: 0.6763949651457654\n",
      "Progress: 0.6843525529710096\n",
      "Progress: 0.692310140796254\n",
      "Progress: 0.7002677286214982\n",
      "Progress: 0.7082253164467425\n",
      "Progress: 0.7161829042719868\n",
      "Progress: 0.7241404920972311\n",
      "Progress: 0.7320980799224754\n",
      "Progress: 0.7400556677477197\n",
      "Progress: 0.748013255572964\n",
      "Progress: 0.7559708433982083\n",
      "Progress: 0.7639284312234526\n",
      "Progress: 0.7718860190486969\n",
      "Progress: 0.7798436068739412\n",
      "Progress: 0.7878011946991855\n",
      "Progress: 0.7957587825244298\n",
      "Progress: 0.8037163703496741\n",
      "Progress: 0.8116739581749184\n",
      "Progress: 0.8196315460001626\n",
      "Progress: 0.827589133825407\n",
      "Progress: 0.8355467216506512\n",
      "Progress: 0.8435043094758956\n",
      "Progress: 0.8514618973011399\n",
      "Progress: 0.8594194851263842\n",
      "Progress: 0.8673770729516285\n",
      "Progress: 0.8753346607768727\n",
      "Progress: 0.8832922486021171\n",
      "Progress: 0.8912498364273613\n",
      "Progress: 0.8992074242526057\n",
      "Progress: 0.9071650120778499\n",
      "Progress: 0.9151225999030943\n",
      "Progress: 0.9230801877283386\n",
      "Progress: 0.9310377755535829\n",
      "Progress: 0.9389953633788272\n",
      "Progress: 0.9469529512040714\n",
      "Progress: 0.9549105390293158\n",
      "Progress: 0.96286812685456\n",
      "Progress: 0.9708257146798044\n",
      "Progress: 0.9787833025050486\n",
      "Progress: 0.986740890330293\n",
      "Progress: 0.9946984781555372\n"
     ]
    }
   ],
   "source": [
    "research_transcript = voice_recognition(\"Writing_and_Presenting_Research.mp3\")"
   ]
  },
  {
   "cell_type": "code",
   "execution_count": 33,
   "id": "fb01462d",
   "metadata": {},
   "outputs": [
    {
     "data": {
      "text/plain": [
       "\"I ' ll start recording the class. So we ' ll stop now and I ' ll share my slaves. Okay, so basically, for today ' s session, what we will be disgusting his own writing and presenting research work. So be that two aspects are these, the writing aspects and then these the presenting aspect. So we will start with the right team aspect of that, and for that possibly covering it Now we knowno that to be a tall order in. They know that you ' ve been discussing that perhaps in your research methods class now, since I don ' t teach in your view, could I. Could someone please give me an idea ? Maybe have you done your research methods classes, or have you defended like your research proposals so good ? And give me some idea of where you are in your research. You ' re developing the literature we ' re. That ' s what of have you been prevented ? Is rickokay So the literature review ? So that means you ' ve done you ' ve gone through the. The background, the chapter one, Yes, we began last semester. Hundred said, Okay, okay, and so okay, Thanks Douglas. And while you ' re while you ' re here And so you ' ve done like god, the cost, like research methods or a course at taking you through the research process looked according to the doctor. Collins, Okay, Alright, fine. Okay then then that ' s okay. Then then that ' s great. So then then this shouldn ' t take long. Yeah, because now you ' ve gotten the idea of the writing aspect, which isimportant as well. Yeah, I ' m so now that you have that. So I wanted to ask you, now that you ' re here, you ' ve done let ' s see your research methods class that you understand him. These idea of research. So perhaps we can start with this, Why do we need to write a research proposal ? Why can ' t we just didn ' t see. Okay, Douglas, go straight to writing the research. No need for proposal. Just you know you can tell me about it. And then you start writing. Am, you know we can see the same me before graceWhy Do we need to write and research proposal ? Anyone want to share my few free you can type of the chapters ? Well, is it just because we want to make you work hard ? Why did read read me to write a research proposal ? Okay, I. I ' m no one wants to drive and one personyeah I think it gives an idea of what you intend to. Okay, Yeah, so thanks. Thanks a lot. Yeah, Thanks for that, Brian. Yeah, so that ' s true. Yeah, so gives an idea of what you do to chickens by ability. Yeah, so that ' s fantastic. So that ' s so that ' s for you. Yeah, anyone else want to add for you as a person why you think you need to write to research. Proposal the country. Yeah, think that the reason is just to tell whether you have an understanding of whatever you would want to investigate before you begin doing their research. Okay, wonderful. Wonderful. Okay, So yeah, thanks a lot for back. Storeso great. So we have from Brian. It gives an idea of what you want to do to check it ' s viability Yeah, up to perhaps to see. You know. Is it really worth researching one. Is it worth spending like may be almost a year researching on that to capture the relevance of ones work. Appraise the idea if funding is being sought. That ' s really nice. And like that a deal. Funding yes. Which means that you ' re still thinking back to his. So I ' m. And sometimes it ' s to you. Our research might also require us to get some funding and that might need that it ' s reset that I should. Quite practical. So that ' s fantastic in. Also am to seereally if these and understanding do really understand, you know what this research is about ? Yeah, so that that ' s really great. And how about for your supervisor, what do you think it allows them to do so we ' ve been thinking about. May be ourselves and which is good in terms of do you understand what you ' re doing ? Is it worth while ? I will I be able to get research funding about where your supervisor. Do you think they also benefit from you ? Writing a proposal is. Sourcesomeone might say might help. May be your supervisor also identify and ted and see if there is indeed a research gap. Yeah, otherwise is no point of you doing this research if someone else has. Does it. What is it that you want to add to the body of knowledge ? Yeah, I ' m. So maybe is your research appropriate for me ? Be the degree that you ' re doing arm. Is it appropriate given that I ' m a master ' s degree these two years ? Yeah, and maybe you have one new. Perhaps now, maybe a less than a year or may be about a year to do your research. So such things are also useful. So I ' m. And I will let me share a video that to highlight why we need to rightand research proposal. So what you ' ve saved is very accurate and also what were your proposal need to address and you ' ve already covered those aspects now, have been going through the background. Now you ' re doing the literal view. Soon you ' ll be doing the methodology yom And then you present your final proposal with all those aspects, I imagine. Yeah. And then also to also help you prepare for your final a defense the. Our way. You present your dissertation from your introduction, your background, your all the aspects, your literature review methodology, your findings, your conclusionsrecommendations discussions, and so we ' ll will highlight that. So, but let me share a video of at will allow and then that will allow us to to to see this idea and beach retrace share my sound as well. So it ' s just something for us to keep in mind. This video am. I got it from this university, University of Western Australia, so we can. I can play the whole video when it can guide you in green for some of the things that you know. Since two days session was spot on, right writingyes You already know that, but it ' s always good to like a from a and confirm what you already know and then we can also have a chat about the presentation and what you need to keep in mind. Yeah, I ' m. So this one would guide us through about the research proposal. What you need to keep in mind as you prepare for that game. So you may add volume on your end if maybe it ' s too long running. A research proposal is an integral part of during research. Students submit a proposal in order to get their research project approved. However writing your proposal is not just aboveshe have to take. It helps you clarify refine your topic, which will be invaluable when deciding how best to proceed. He may have first feel the doing research has like delving into the unknown. If you do you not alone this quote attributed to Einstein. If we knew what it was we were doing, he would not be called research would. It captures the uncertainty most of us feel at the beginning of a new research project. M, I think why do I need to write a proposal ? What kind of just get on with my research. Whether a number of good reasons for both you and your supervisor. Primarily writing your proposal will help you get clear about what you ' re actually going to research. It will help you gaugeif your project is worthwhile doing hand if it ' s possible to complete within the time and other constrained she have animal give you the opportunity to think about. How are you going to collect your data for your supervisors. You proposal will help them decide a number of things, for example, whether your project is innovative enough for your degree, talk, whether you ' ll have enough time to complete your project within the constraints of your particular. Would limit whether you ' re methodology, a suitable, and whether the resources you need are available. An important thing to remember while writing your proposal is the. You need to persuade whoever is reading at the your research proposal. He ' s worthwhile and doable So make sure yourso clearly explains what your research question is, why you researchers important or significant, how you intend to address your research question, what your proposed methodology is and how your research can be completed within the time frame of your degree. Remember, riding a research proposal is a process. You will accumulate knowledge gradually as you read and discuss the topic with fellow students and your supervisor. If you can choose an area that interests you, this may not be an option for you because many students, particularly in the sciences, a given a topic to research, but if you do, you have a chance to choose your own race such topic. Find some assbake the interests you and then upgrade widely about that topic. Has you raid Identify a specific topic or problem the other researchers have mentioned needs further investigation. What we call a gap in the research. Discuss your idea with friends and new supervisor Cape Raining as you read. Keep refining or nehring your topic. Finally, make a decision about your research focus and stick with it. Try not to chop and change even when things get a bit tough. Haven ' t decided on your main focus. Have a go at constructing an aim and a hypothesis. It ' s useful to distinguish between the two. As you can say here we have two statements, Oneis a name says what you want of basically find out and the second one is a hypothesis Spain further refined. So looking at these two examples, the first one to investigate the relationship between national development and the availability of household energy, and the second mom, which says development in x country depends on the adequate provision of household energy supplies. Now there ' s a difference between these two. The second one is a hypothesis. It ' s a proposition to be tested by your research. Where ' s the first one ? Is just more of a general aim, but some disciplines work more with a research question than a herb hypothesisi say Again, it ' s useful to distinguish between the two here. In this example, the aim to find out if the amount of study students to effects they ' re adamant academic performance. If you ' re gonna turn that into of research question, it might look like this, How does the amount of study students do affect their academic performance ? The same research topic could have the following hypothesis, if you wanted to make up hypothesis here we take hypothesis to domain a statement suggesting a causal relationship between concepts and ideas. He you got the amount of study plus academic performance. So the hypothesis here is, the more students studies, the better the students ' academicperformance to find out more visible will stop with that. So I hope you ' ve gotten some insights from that to us. So we will. The first questions I ask is why we write a research proposal and want your research proposal needs to address. Yeah. And right now you in the process of that. Yeah, what you ' ve been working from the background, you know, to your literary view, etc. So we can start with looking at what you had mentioned. Why, right to research proposal. So I ' ll just go through what the video was saying. Yeah. So to clarifywhat you ' re going to research on, Is that research worthwhile Yeah, you know, is it possible to even do that ? What you ' re proposing to do ? Yeah. So right now is you ' re collecting and may be as you ' re looking for information, Is it even possible ? Am in also as you ' re now you ' re doing, you ' re literally view and it ' s a nice time. Fleet. Also see the thoughts that those other authors have used and if you can borrow something from them. Yeah, so you may even be coming up with a new methodology. A, or you may be using a methodology used for. Either way it ' s a good time for you to find out what methods have been used before and therefore whatnew method could I use ? I come up with something new or could I use a similar method ? Am, however me be my research is slightly different certain way, and then of course, now be said that for your supervisor and for people listening to you when you defend your proposal, then they can help to guide you. Is there really a research got out of all these studies that have been written on this topic ? Yeah, I ' m. What is missing from your research ? What do we need to know more about ? And also definitely if your research is appropriate for your degree. So if you ' re doing maybe mathematical financing, you bring something in history then like, Okay, it ' san. Interesting topic, but well, your degree, the magical finance, for example. Yeah, so I ' m. And then of course, would be said about the AMD A using an appropriate methodology. Why do you want to use ? These are the type of methodology. Watch resources. Do you need you have access to the software that you need ? Yeah, I ' m. So all those things will be important. And now that you listen to that am short video, what, what would you think your proposal would need to address ? And given what you ' ve done ? Also, if I ' m doctor Collins took you through research methods, may be one in one centersince What do you think your proposal would need to address ? As you ' re writing, Know anyone want to share ? What do you think your proposal would need to address ? Even one weren ' t. That ' s okay. Yeah, an existing knowledge gap. Yeah, that ' s excellent. Yeah, that ' s a key thing. Yeah, like expressing your problem statement. What is it ? What is missing ? Yeah, what do I am in the body of knowledge what we need to know more about ? Yeah, So ahand and really the video highlighted more, isn ' t it ? When we ' re talking about what were your proposal need to address ? So, of course I ' m like what Brian brought their an existing knowledge gap sort. The idea of persuading persuading that people listening to your research. Yeah, persuading your. The examiners persuading the other panelists that your research is worthwhile Why is it worth while ? Because these. This gap ? Yeah, other people have done this, but I ' m going to do this. So remember, you have to always think. What is it that my research will add ? What did it that my research ? What problem is my researchaddress the. Yeah, If someone at all what to ask you. Either way, what ' s your research about ? Am you should be able to explain it ' s. Yeah, even in a few sentences, what your research is about. So think about it, what to be. What would your research be added ? Is it worthwhile Is it worth while you taking so many months reading so many papers to do this research ? And is it the. What will is it feasible in. Of course, why is your research important ? Yeah, why is it important for us to know more about. You know this certain topic that you ' re researching on AM and also a. Is also the idea, of course ofsignificance Ah, who will benefit to. Will benefit from reading your work from reading this research and that ' s what ' s important. And of course now you can then go into. How would you address your research questions you have. What is your proposed methodology, or you could even highlight Rob. Some people even have a timeline. Know how long you know how do how the complete the research and time, and in fact, this the way your been guy did like. Maybe you present your background this week, present you literature review this other time. Present your methodology the other week. It also helps you complete your research in time. But of course these a formatto that I ' ll share for your proposal and hopefully you ' ve also seen the master ' s guide lines, but are also am share them with few and also what the. With you also addressed his batch of course, the research proposal or writing. You ' ve cited your proposal. You been writing your whole research project, your whole dissertation is a process. Yeah, it ' s a process and it. I know you ' ve already started on these. You read the. I didn ' t you fight an area that you ' re interested in everyday. Identified a topic. Yeah, I ' m I ' m. Perhaps you ' ve made a decision about what you want to focus on. You ' ve probably also when you havepresenting last week or when you presented your chapter. One included something about a research question. Yeah, or maybe you had to. Hypothesis and which is very good. But also I encourage you if you ' ve not discussed your research with your friends or with someone in this class, take the time to do so. Yeah, it ' s a really good. We all have disgusting. Yeah, so yes with your supervisor, but don ' t rely on your. On your supervisor. Go out, talk to someone, maybe might even be a colleague at work because your research may be relevant where you ' re working the industry. Talk to them. Tell them this is what you want to do when youpraised what bill ask you can buy black. Geez why do you want to that or why couldn ' t use this methodology ? Why country include is valuable. Why did you include this valuable, so it even helps you in a. Since we ' ve been practicing for your defense. Yeah, for your proposal presentation. Because people have asked you these questions, you ' ve thought about it. So so out of this slider would say was I know you were to started on this process, consider am discussing with your friends. Yeah, or with your colleagues. Yeah, and it explain you will watch your research is about. So of course now when youwriting your proposal, yeah they are those bed. We know that we need to have our background or our job to one which is our introductory chalked up. Now we know we need to have when we know the literature review. So allow me to share the proposal guidelines and I hope you have them. So they have these. Have you seen these guidelines before anyone ? You can just say yes or no. Not yet. Okay. Fine so I can share a view. Yeah I can share them with use of these are guide to research themNC for post graduate thesis. This additions and projects. So these ones were revised last year. I perhaps some of you may have a copy of older ones, but I ' ll share this brief Rachel ritual a catch and then she can forward to you for you to see. Yeah, so list so base. So when you ' re writing your proposal, one thing you examine as want to see is that you for lot of a format. It ' s like someone sending you they ' re see v they might come he am and they might say you know maybe more nick him in or douglas kids my CV please have a look and then maybe theyif give if they have just written things haphazardly you know, maybe instead of writing within, maybe starting with their name it it is first started writing in their work experience. Or maybe you know, you know, maybe we just have things jumbled up the are in and they should be. May be a fool much that a CV should take to look presentable So these guidelines will help you. And when someone is great in your work looking at your proposal document, they will want you to follow some guidelines and it ' s very irritating to an exam. Me now when they see been like ah, is this person really serious ? You don ' t even have page numbers. You don ' t youeven have not the. If not for my tip the their work. Your font is so time me, I have to strain reading and I have five other proposals to read, you know, so make it easier for the examiner. Let them not give you comments like you should have page numbers. Have this paragraph, let them give you a substantial feedback on your work, like about your methodology or about me. Beat the literature you should read or about your objectives. Yeah, so the minis it ' s scroll to allow me to scroll to the page that presents your. The format of the proposal soi ' ll make this a bit bigger. We ' re was expanding it rate is that large enough ? Okay, that think that larger now ? Okay, so here we have. So you ' ll get these guidelines. But these a format of the proposal. Yeah, I ' m usually about me be though the pages how much they shouldn ' t out not long on average, your proposal should be. And so we. The content of your proposal. How you go about it is you have a declaration pageeach Yeah, I ' m. And so you ' ll be given that you should be given that the standard format for declaration page and gosh see, I think I ' ll just presented in this normal weight so that I couldn ' t move down slowly. Yeah, I ' m. So then you can have the abstract and then the chapter one. What you ' ve already presented your introduction to the study which has your background. Am, what ' s your problem ? Is the problem state meant your research objectives and questions. A lot of the times. If you have research questions, you might not need to. Hypothesis is acould choose between one or the outline can be guided by your supervisor. What the scope of the study is, down the significance and then also you will have the literature review which you have now and then you can see that, Of course, when you ' ll be looking at the literature, does it help to address the research objectives ? Yeah, So of course you will start to read them right now. As you bring your literature review. I know you will start with if you read to code review. In other words, what other theories. What are the key concepts that underpin the area that you ' re researching on ? So usually they. Some theory to guide am that area you ' re you ' re you ' re interested inyou might find the theories in text books. You might find the theories in con didn ' t you ' ve been learning in class ? Yeah, so that will help to build up on Now what the empirical, the actual research that you ' re going to find. So you ' ll start, of course, with presenting the. The theories, the theoretical review. And then now you can then discuss what are the current studies that have been done in the topic. Usually no more than ten me his old. Unless of course it ' s a key paper that you have to cite. Yeah, there ' s some papers that even if they ' re all, don ' t bit like ground breaking papacy would them. And so then they are many asaspects of literature review. So I won ' t go into that now cause you covered fat And then of course now you will need to address things like of course your research methodology and so did you will need sub had these that address each of that. So the same way you had sub headings in your chapter one where you were discussing about introduction you had like the background, the problem statement, research objectives. I ' m your literature review should also have some sub headings Maybe what ' s the theoretical review or what ' s the empirical review ? Yeah, so the a theoreticalis that what other theories a key concepts that underpin this study ' s be on the impunity could have you Now then you start disgusting about the office, what has been done, and then you will find a way of grouping your work. Yeah, it ' s very boring When you start. See, you know, Karaoke Twenty nine team this Did this research research on, you know, mean reversion of you know, let ' s see stock prices and then you say Douglas, you know twenty fifty kind of this research looking at testing be efficient market hypothesis him, you know in Kenya, and then you say, and more neat did this research so it tends tobe boring. Yeah, when you just stating So look at ways off of grouping your research. Commit follow a certain theme and compared their studies with each other. Young and then now. Oh, of course. Now you have your research methodology and then get this sub headings that you should address. Some may not be relevant, may be for us. It might not be a name. They may not be mindy ethical considerations, but you never know. Yeah, you might have a few ethical considerations you need to keep in mind. Am and I know you probably don ' t need to get some clearance for that as well. So and then ofcourse Now, make sure if you have any appendices that they ' re. They ' re. Yeah, make sure that you have your list of references. Yeah, so here the list of references. That ' s very important. Make sure you follow. But it be a style at the Appendix and men now I don ' t. Well, I ' m not dwelling so much on chapter one, two or three, cause I know you ' ve gone through that. I ' m. But ensure presentation very important and very important. Your content is important, definitely. But also the presentation is also important. Make sure that maybe your muchjune ' s I ' m. Are you using the correct margins as recommended here ? Why are we doing this ? Because when you bind your work, you don ' t want some of the words to be lost after. Let ' s. Are you buying your document ? Yeah, I ' m. So as you ' re typing, are you typing one one site ? Are you using one and a half space thing ? I want. What font size are you using a using font size eight ? Geez that would be too small. Yeah, I ' m numbering of pages, so make sure that you have all that. And so these guidelines will take you through the. The format yet to meet your work. Present to ball. Even with the person reading your worklike Wow is what looks nice. This person looks like they was still yes in what they ' re doing. And now let them know. Take the time to give you comment on the meat of your work out that just of the matter saw, so that ' s of those are the. That ' s really the. The format and so here now I could see this is summarized here in how your proposal should be. From your title page to your declaration to your table of contents of list to feed good as list of tables, list of abbreviations the body of your work and then references and appendices Yeah, so this is the formatt it should follow him. Any questions with this in the Christian family ? Yeah, I go home for I have one. Okay, but it ' s under literature review. Okay, yes, and much a much I got you read. But you said we should not call to a study that was done more than ten years back. I didn ' t get that trade. Okay to add okay, sure, sure. Some. Normally I ' m. Well, I ' m not sure maybe what you discussed in your be such methods class, but normally you will see a site. Work. That is all that that is thewas back wards and ten years ago, so me before us we might see it will. If you ' re citing studies that were done earlier in the mid see at around. Let ' s see twenty that been twenty twelve via that maybe that is the. Maybe that is true old. Yeah, because really. What we ' re saying is let ' s see. If you do our work today you ' re going to see a build up on reset. It has been done by those other people. So therefore what I should do is Ideally I should try and site the most current person because hopefully they ' ve also looked at what has been done before. And it ' s helped to build up on the webtoday So it ' s like we want to keep on moving with the times. And so that ' s the idea. But of course they can be. A study that was done in nineteen fifty eight. Said really key a research in this area. You know, a really key paper. I ' m at anchors. You know this this area, this field. So yes, you can go ahead and fight it. But for most of your studies, try and see what has been done more recently. Why ? Because as as people have been doing these studies, of course they ' ve also been looking back at the past. So therefore, when you look at their studies in the sense, it ' s like you alsogetting an idea of what has been done before. So where are you can try and use current literature. Yeah, I ' m alright. Sure i ' ll be limited to late take for type. Said team. Ah, we gonna be sent the lead take template. Okay, that ' s a good. That ' s very a good point indeed. Have seen that most of the proposals for the past as especially our masters programs, it seems, tend to be said set with late tech and I believe it ' s good for you guys. Dorsal practice using late tick and yes, you should be sent a tip template, I will find out. I will find out Tim Tam requestsfor that if not yet been sent the template. Yeah, so I will find out about the electric template. Came. Anything else someone might want to ask about literature review or about this ? The reason I wasn ' t dwelling so much is because they also know perhaps you touched. Don ' t need to when you were when you were doing this research methods class. But maybe as your have your to presented you literature review, I believe you have raped her for us them as much goes by menthe group who does. Some of us were said to present tomorrow. So we are tomorrow. Okay, fine, or right. Okay, fine alright, fine. Yeah, I ' m. I ' m. I suppose we will go on what you need to keep in mind. Not when you ' re making the present day shown and then ah, people who have presented like may be Brian, yeah, they can also give some insights based on what the. Understood what what they got from the defense. Yeah, so know we could wouldn ' t want to the actual presentation, yes, of the actual presentation, but so I will share these guidelines and I believe that would really be helpful for you in terms of format your word, knowing what to readclued in also other aspects of research at the masters level. Yeah, so I ' ll share that view. I ' ll share with Rachel was I don ' t have all your email addresses and I ' ll share with Rachel a catch. And then she would share with you. So now we can go to to asking this question or her to asking this question. What do you think you ' d keep in mind when presenting your work when presenting your actual work ? Now, when you go to pay a defense, for example your proposal defense, what do you think you need to keep in mind as you ' re makingthat presentation ? Yeah, cause this is now were also a lot of us may be. Might might not like you know the work, but maybe you might not give your best a wonderful Brian. Great, The audience of us will be audience. Yeah, anyone else want to try. Would you think you need to keep in mind the audience ? You know we could have from a de grace way more. You like to say somethingokay more. Nick, Alright anyone anyone else ? I ' ll keep the flow of the content. Yeah, thank you. Thank you for that And Louis, sir, I hope of produce present pronounced it correctly, me as pets allowed a kid thinks, Yeah, someone meek the language. Yeah, so true the language because it ' s a formal presentation. You probably can ' t start saying Hey, what ' s up ? I ' m presenting onyeah on different that. Yeah, so the language cause the formal presentation to. That ' s true. Yeah, saw, suppose I think the. Out to keep in mind. Yeah, someone is the audience, and also probably something else that maybe were missing out is really. What ' s the presentation about a my presenting a, my defending my. Yeah, my defending. Let ' s see my my proposal or my present. Prevent presenting my dissertation, or have I been and perhaps gotten a chance to present in a conference ? Yeah, solo. Usually we have the. Our mathematical conference that ' s held every two years. Soand students can participate in that. To the think the Strathmore International Mathematics Conference. The next one will be next year. So we had one last year, so you might. Your paper could be selected to present their. So we have to think what is a presentation about and therefore, if you ' re defending, let ' s say, for your proposal or your dissertation video, then ideally you want to present successfully. Yeah, I ' m if you ' re maybe in a conference in your present in your work, of course you want to present. The people will want to be successful and you also want to get feedback or comments on your research and is also a great time for you to build networks to know who else isin this area that I ' m interested in the time researching in. Could we collaborate ? So so think about what the presentation is about young. And then what Brand was saying is of course, now with. Think about our audience. So, for you, perhaps your next presentation might be most likely your proposal or maybe be your final. A dissertation. So then you ' re thinking, Okay, who is the audience ? Yeah, why will they be fair ? Ah, what would be the needs of this audience that I ' m presenting to ? What is their knowledge ? Yeah, I ' m in. What is the size of the audiencehow many of the. Yeah, so if it ' s a conference may be too many people in a room. Yeah, maybe they could be twenty people, you know. Room, it could be thirty. TP could be more. It ' s a large conference for. Yeah, but he puts your dissertation. Maybe it could be it be for people, perhaps to examiners and to members, our faculty. Yeah, so we need to keep that in mind. So, for example, if you ' re defending your proposal or your dissertation young then have to think a. Who is the audience ? Yeah, And of course now your audience is likely to be your examiners or other faculty members who have been asked to be present there, but most of them would actually existsin one way or the other. Saw some examiners will examine you on the document itself. Cause will have read your proposal or your final AM thesis or dissertation, and then the other group will not be examined. You on your oral presentation. So that ' s also important. Remember your being graded on. Also your oral presentation. Part of it is content. Part of it is your delivery. How are went to deliver ? How do your slides look like so such things matter. And of course, why would they be there so they want to listen to your work ? Yeah, so they ' ve been requested to be bear. Yup perhaps elected by the school They ' ve alsowant to be to hear about your topic. Yeah, there needs drops. They want to be convinced that your research mix up contribution I ' m to to the body of knowledge. Yeah. So your proposal or your final dissertation that it makes a contribution. What is the. And knowledge of your topic will usually go. Examiner ' s will know quite a bit, but I dare say you will actually no more in this topic. You ' re likely to know more why you ' ve spent so many months we ' ve been research research by this person. Research by that person in checking the internet you can youyou know journal articles you may be. Listen to other presentations. Saw you actually will have the most knowledge in the room. Yeah, so unless your topic is spot on may be exactly very similar to what your. Examine. That perhaps as research on the past, you actually likely to know more than the. To so be confident was you ' ve spent a lot of time researching. Want this ? Yeah, and also the size of the audience saw his. Agreed to be one person with a to be to keep the good to be ten people thirty. Ah yes, to keep that in mind. So that ' s important in. Of course, if you ' re presenting in a cuntfriends again, you can go through this sequence of thinking about who is your audience and by the wheel why of even hear what the even bothering to come. Yeah, what are the a needs would they want to hear from me ? A how much to the know about this topic ? Yeah, except try. So that ' s one thing to keep in mind and mother think so. First we started reef out what is your presentation about ? Yeah, so of course if you are presenting something at work, you might tabs other things you might need to keep in mind. M l the outcome would be different and men who is your audience in all these other things with. Seat. And then you can also think about how long will the prieststitian be now ? I wrote twenty minutes. Yeah, I will pump it out. We have you been told her mom, your defense digs usually between fifteen to twenty minutes, I believe. Young, but nonetheless I am going with this. Approximately twenty minutes and then you ' ll be given beds the ten minutes for presentation. Ten minutes before questions from the panel. Him you might have, let ' s see, of might be told you know what your present in fifteen minutes and then you ' ll have either perhaps ten more minutes to get questions from the Paddockno soul. So you ' ll be told. So this can be the total amount of time. Lexi, about approximately twenty twenty five minutes and then you ' ll be toward. Ah, would you have ? Usually it ' s about. I would say ten to fifteen minutes. Yeah, so probably at your level, you can be given fifteen minutes to present your work and then ten minutes from the panel. But make sure you asked that before you get it ready for the presentation so that you can have that in mind. Because you would need to practice. So therefore have at most maybe twelve slights Am, or even if you can have twelve or twoten see how many is suitable for you. Yeah, so you. You can try to aim for twelve, or maybe fifteen if you. If it ' s your food proposal, but ensure that your. Within that time live limit. So if you ' re given, let ' s say fifty minutes for presentation, then make sure that your slides you. People to come with them in that fifteen minutes. The reason for the time you meet. You saw that of course you ' re able to finish on time and you ' re not rushing, rushing, rushing through. Yup So so this is important, but so figure it ' ll get clarity on how long the presentation will be. I usually at the masters really ? He asked. Have written fiftyusually It ' s fifteen minutes for presentation, and then after that you have questions from the panel and then you have to think. Where will I be presenting ? Will it be online like we ' ve been doing recently, or will you be told ? Hey, this time it ' s a physical presentation. Have to come to let the. A meeting a boardroom So you need to figure out in your mind and of course what equipment will I have a I meet. So all those things to keep in mind young. So they important. Sometimes we rushed through them, but be important and so now we can go to the actual presentation. So let ' s seeyou ' re presenting your proposal. Yeah, I ' m So, of course now you will start with one the background of the research. So here you discuss what are the key ideas ? What is it that is motivating that relationship that you a study ? Yeah, well, you could even highlight what relationship are you studying ? What are the key ideas ? So you don ' t need to spend time on definitions, especially if you know your audience. You know your audience is. Let ' s see people in academia. So before you don ' t need to spend a lot of time may be elaborating on some definitions. Yum So you could you couldyou could skip through that. And because you don ' t need to explain some of these definitions, it ' s assumed knowledge. And of course where you can. You can include some graphs or charts that allows you not to read wed for went yup so he can include the graphic and speak about that. Yeah, so you have your background or sorry and then you moved your problem statement and that ' s really where you highlight the problem being addressed by the study is. So you bring that out and bring out the idea. You could also mention what ? What do we need to know more about what is missing ? Sothe problem statement is like repeat the and be knocking unlocking What is it about your reset that is unique ? And why should you spend six month, eight months researching on this ? Yeah, why spend so much time researching on this why it ' s important and you could also briefly mentioned me be who will benefit yam And then of course, you can have your research objectives or research questions. You don ' t need both. If you have your objectives and fine, you can leave the research questions if you put your research question is no need to state your objectives. Yeah, that ' s fine. I ' m just ensure that your researchobjectives while your research questions capture what your problem is. Yeah, what big gap is in your research ? In other words, you wanted to flow from your problem statement. So you objectives can just be quite random compared. Get your problem statement media you wanted to floor from there. So so those are some of the things to highlight. Yeah, in your slides and and once you know how much time you have. So let ' s work fifteen minutes. That ' s usually how much on average were given at the masters level to present our work. So you will need to see what area do I need to spend more or it ' s really freakssample your research objectives. Research questions doesn ' t need to take long, right ? Cause you ' re you ' re simply stating your objectives so you do need to see dwell on that yam You could spend may be a bit of time discussing the background. Yeah, just the key ideas. Key ideas and and perhaps something that will help to bring out. I ' m like explain what the your research is about. Yup on. And then of course now the problem statement. You can try and spend some time here explaining what ' s really York study sticks to address and what the gap is in the board. Youof knowledge and why. Why is it important to examine this year or two research on this ? I ' m. And then of course now, like you ' re doing now is your literature review. So you can highlight some of the main studies. Not many may be utmost for studies and then you can highlight the meth thought that was used in the findings. Yeah, what was the meat methods that were used in their findings ? And you can also use this area if in your problem statement. Maybe if you were not able to. Yeah, so you ' ll have to synchronize so that you ' re not repeating. Yeah, but you can use this area to highlight what is yoursgreen to contribute to the body of knowledge. So after you reviewed the literature, it could be a nice place for you to see all these studies have used methodology x. However my research will use methodology. Why ? Because of a, B, C, and D. So you green out the research or most of be studies you know, you know, looked at a certain relationship and they did not consider this variable. My research will now add and include this variable and look at how important it is now saw. So, for example, that could be something that you highlighting am. I suppose I ' m I ' m I ' m cause I ' m might my backromney ' s economics. I was afraid if I use an example we might not make. Well, I suppose I could use an example. Yeah, but as a disgusting. A bit further and done so those are the main things. And then know. Of course, now you ' re. Methodology. So, again, here you would want to spend some time on this. So ideally, you ' ve created a background. Briefly, you ' ve explained the background of the study. So let ' s see, you ' re researching about foreign direct investment in how that affects productivity. Let ' s see in East Africa sweet, the background you ' ve given a background of what foreign direct investment is a. Perhaps given some iddeal of what has been but trend in East Africa, you know, and you build a case around that. And then now you move into explaining what is the problem statement, What is the gap ? You could see that perhaps no one has exam meet at the effect of foreign direct investment on productivity growth in East Africa. Taking into account, let ' s see the. The human capital or taking into account at the governance in this country ' s. Yup So you can bring out the gap. And then of course now you can move on to what we ' re seeing to discuss the objectives, the literatureview what has been done, and then knob the methodology. So for he had. Now you need to explain to us again. Make sure that your methodology flaws with your objectives. So I dearly from you methodology we need to see, but you can answer your objectives young. So we can see the rush. Or now where you taking this methodology because it ' ll help to address this objectives. In fact, it ' s even better if you can see objective one will be addressed this week and this is how I will address it using this. May be using this model using this analysis and to first you will needto defined. Maybe what ' s your population a be Are you looking at countries for example, may be in in eastern Africa so maybe you can see my sample is can Uganda, Tanzania, Why ? Perhaps I was not able to get data for the other countries like deep south Sudan, Wanda for example. Yeah, population could be may be companies that are listed on be in the manufacturing sector on the Nairobi securities exchange. A sample. It might be a reason why you ' ve selected a few of them. So you need to be able to defend why you ' ve chosen set examples and perhaps whyalso you could have been mentioned the years, but you ' re working with a. Or if it ' s cross sectional date told me be a certain cross section and so you need to defend. You need to defend perhaps why you ' ve chosen a set to sample. Why you ' ve chosen may be a certain time period. Why you ' ve chosen indeed, as I ' m seeing me be. Both companies are. Be the manufacturing sector when the banking sector may be why you ' ve chosen those countries. Yeah, wife to wasn ' t certain counties in Kenya, for example, So you need to be able to defend that and explain it. And of course, perhaps it might be interested rebuke towards a certain time period because there were certain key Vince thatoccurred in this time, so take the time to think about it. Yup And then of course now you highlight the variables that use the. You could have a table at may be. Highlights the variables how they ' re defined in the source of data. Yeah, you could have a table simply explaining that just with that information and you can also mention it be when in in just in one word, am, that perhaps you using time series data, are using cross sectional data, etc. Yo. Whatever type of data you ' re using AM, and then now you go to the analysis. So this is where now explainyou know that you show us the model. Yeah, you highlight what the model I ' ll eat is a. By the way, you can even speak to the model. Yeah, you be able to explain his outlets in my. My mean variable is on my control variables and then now you can discuss the analysis. Them he that you agree to use and why it is appropriate if you can link it to the objectives. That ' s even better. Objective one. Be addressed like this. Objective to be addressed like this. So this is a lot I know, but you don ' t need to write a lot of information. Yeah, I ' m. In fact it ' s better when you speak to this light. Yeah, yeahcan have a section on population example. A great a bit of information and then to speak or neat. Yeah, speak on. Need your data collection. Can have a table highlighting the variables. How did you find and the source and then you speak to that table. You can write the more. Don ' t specify it up and then you. From that specification, you don ' t need money to write. He ' s at the control variables. This is the dependent variable. You ' re just tell us our. Why valuable present to chill factor productivity. Yeah, one of the independent variables a be the key or the main independent variable. It ' s foreign direct investment. Other control variables. Your that wayincluded are you know you think of other things that you might include. May be interest rates are up, maybe for example, or anything else that you ' d be that needs to be captured. Would with think it will be economic growth. May be the the infrastructure level in the country except try yup soul. So then you can include that. And then now. Finally, if this was a final a may be defense for your dissertation. He says you can then include information on of course your analysis and finding so you can highlight the main findings. Yeah, soul matebe the main diagnostic tests that too deep am the results from your models are usually that key out the results from your model and than and up in a bit of that maybe I should have used were here interpretation, yeah, the interpretation of the findings. And actually you can do that by speaking, you don ' t need to really write it down. Yeah, because if we see the more do you can maybe right a few words in a slight, not crowded just to give an interpretation that from the model we find that you know when ft I increases in a country with good governance then you know thethese a higher effect on total factor productivity. Yeah, so maybe these better productivity growth countries with better governance. And you would you could speak to that showing us your results or you could find a way of writing it in in a nice sweet. Yeah, I ' m I ' m. But people like seeing the results, especially in academia and damn, if you want to. You can have some descript teams if you ' re telling the story. Know just for the sequel feet down, been telling us the. To tell a story about your data, make it interesting. AM, and you can also highlights that. Yes, I was a good some diagnostic test to check that my model is validyou know that I used variables that see that was stationary, etc. Can highlight that as well. And then of course now you can have. Briefly may be some of your conclusions. Maybe not so much of a discussion in your presentation, but your key conclusions and recommendations young. You feel really perhaps if there were major limitations you can highlight that. Yeah, but we could leave the areas will further research me before more they ' re written proposal. Yeah, remember you don ' t have fifteen minutes. We just need to highlight the key things. Let ' s say be conclusions recommendations. And if there was a. May be a big limitationfeel free. You can also mention it as will am in your presentation saw him have talked a lot of talked a lot about making the actual presentation, but I also want you to share share we thus anyone would to highlight some fiend I know perhaps maybe you order it. You were a D and even from what you ' ve learned from presenting your background. Yeah, I ' m from presenting your literature review. Perhaps Riven even presented some research before a be presented at your undergrad level. Anything anyone wanted to add that you feel cause heit ' s really to help us make better presentations. So he was highlighting the mean things to present when you ' re thinking of your proposal or when you ' re thinking of your final dissertation presentation. Anyone want to add something to this ? A slight with key references ? Okay, yeah, sure you could include that just in case you ' re asked for that, but you wouldn ' t need to present it as you want me to present that. Ah, but you can have it just incase someone requests to ask to see your references up. Why would you be asked that ? Because a lot of the time remembered of or examining your work up. Have your document ? Yeah, so you examiners will have your research proposal or to have your research dissertation and so Bill have that information. Ah, for other members who are president who may not have read your work, assure you can have a slight with the references, but you won ' t need to present that. Yeah, unless the ask you to. But either some of the things to keep in mind. Now I believe mebecause if we know our. If I go back to. Sorry, I actually wanted to continue sharing, but he fight if we go back to the guidelines. It already tells us the gist of what we need to present. I ' m so probably I didn ' t need will. Even if I didn ' t mention it, could probably have guessed. Wouldn ' t need to go into each. However, when you know presenting, remember, you can ' t put all the information. Yeah, eat too much to seen fifteen minutes and you wantto be able to talkeetna with. That doesn ' t sound like you ' re in a rush. Like you ' re being chased. Yeah, and you want to be confident and new. You know you into presentation to go will so just might the main themes and so therefore this leads us to something else. I ' m in. I ' ll ask for your input as well. So when you ' re preparing for this presentation, what would be some tips you would give someone ? What tips would you give someone as they are preparing to present their research ? So for example may be have been seeing don ' t crowd was slight. Don ' t put too much information on your slate young. What other tips you think youcould give someone as they ' re presenting their work ? If not, you can see what what to would you give someone and I ' m sure you had a chance to make a presentation before it may have been at work. It may have been. Am you know somewhere else may be in a conference. It may have been even. It may have been even something informal may be written in your home setting. You were asked to discuss something in front of the family and all these are presentpatients isn ' t due to just a bit different types of presentations. What do you think you would need to keep in mind because you ' re also being examined on your roll skills. What you think we need to keep in mind. Ruth, you want if I ' m sorry, I ' m just joking of it. Yeah, so make use of visualizations as those resonates more. We the audience. Wonderful. Okay, thanks Brian. So if you ' re good in making mice slavea visualization that can even help you explain something. Why not ? Why not go ahead. Go ahead. So here ' s our same perhaps may be in your. In your background. Yeah, you could include some shots or graphs. Yeah, I ' m so maybe bits event in. You know, you could think of any other section or maybe your literature review. The. Might be a way you can present it. He. Now we have. That ' s maybe not just in written format. It might be a way you can present to keep them in the. My staple. It might be. Way you can draw a diagram that is that he ' s showing how you ' re moving. And from one author what what the main findings or rather watch was they metthe dollar jeep mean findings So you can be creative in how you present your work. Eight calls from for some odd but sure why not ? Am anyone else ? Yeah, so speak or deeply thinks the are great actress speak or deeply yards so so speak or deeply you know, speaking a way that is showing you ' re confident about your work. Because by the way, as I seen before, remember you ' re the one who knows a lot, if not the most about your work. Yeah, I ' m so you know a lot of course be examiners because of examiningmindy project many dissertation. We also know a lot maybe cause of the a work experience, but don ' t doubt your knowledge as well. You also know a lot why ? Because you ' ve been spending time on this. Yeah, so also have confidence that I know I know my work. I ' ve done my best of us. Looked at the beep as you know ah of of. I ' ve read all these Ah, I ' ve discussed with my friends. Remember what I said before. Discuss your ideas. Discuss them with your classmates here. Discuss with your friends. You when you for your friend does anthropology. Discuss with them. Who knows the my trip you from a breakyou ' re interested you ' ve never thought of. Yeah, so just discuss it and that if in fact it ' s already be making you practice one more. One more tip. The men, I can share mine some of the things which already what you ' ve said. Any tip from anyone. One deal and key. Any tip l kid real ? Am I to keep that ? We ' re all here. Yup Levi. Any tip you wantokay So I contact he also. Especially. Yeah, especially when he said in Let ' s see them face to face. Yeah, so online, I suppose when we ' re looking at the camera it looks like we ' re making eye contact, but was usually when we ' re looking at the scream the person can, you know, can see us. Yeah, so but if it ' s in our room, it ' s in a room with an audience, then of course I contacted even more important. But for example, if I turn on my video and as I ' m reading my work, you can see me. I ' m at least so online. It ' s like received at from the eye contact because it looks likewe ' re looking for. Of course. Now maybe if I ' m just reading from here maybe that would look so so good. Yeah, so it ' s true. So I contact look at the camera. Make sure the camera is working. Yeah, so that that really helped as well. Yeah, if online keep time, am so so live like pigs. Actually when he beats physical. Yeah, we have to keep time whether it ' s online or physical. Yup So all those are great. Yeah, I ' m so I ' ll highlight some some tips for the US to keep in mind. So exactly as Levi, he saying, I ' m yeah. So arrive early at the venueso even would be for the venue is physical, arrive early ? Yeah, if the venue is online, make sure you log into your zoom early. Yeah, so you might assume you ' re zombies working. Maybe it ' s not even wacky Yeah I ' m. So you want to arrive early ? You want to make sure that your microphone is where keep me want to make sure your camera is working. Not the beauty with zoom is you can test that before we are. You could probably create a month, a zoo meeting and a be meet someone and test your microphone. Test your camera. Make sure it ' s Keaton young. So arrive early. That ' s important. It also removes that you know when you ' re late your it be tensed up so I rightearly am so again, if it ' s a physical group to check out the room, make sure that let ' s see if you needed a computer to present on repeat. It ' s fair that you have a projector accent trump. Maybe if it ' s a microphone you need that you have it so arrive early. That really helps. And also even taking a deep breath before you begin your presentation. Yeah, so that will help you calm down because sometimes, especially if you ' re not used to making presented. Showed you might become nervous. And it ' s natural. Even people make presentations a lot when it ' s that time, you might get a bit nervous and that ' s totally normal. So you can takedeep breaths and try and calm down. I ' m. And then also I would say before all this it ' s in my next light of. Make sure that you practice, practice, practice your presentation. Yeah, I ' m so practice with your friends. So why not ? I can say that. Hey, you know you know Brian, one be quite. You know, can I meet you and me ? You know I present my research to you and you give me some comments and then we can sit. Next time you present and you give me and am and will give you our comments. So present your research and then you will know you will know where youneed to slow down and explain. Yam And so it will help you with this idea of don ' t rush the presentation. So if you ' re rushing it, especially when you ' re like oh my gosh I was given fifteen minutes, read, you spend ten minutes and I ' m still discussing the literature review I should have been already at, you know be be discussing you both. The methodology and then proceeding to the findings you know. So so don ' t don ' t rush. And how you won ' t rush is when you ' ve practiced AM and and usually they see a live presentation somehow tends to be shorter. Yeah, maybe be practicing, but then when you cometo present you might feel like what that was Fifteen minutes. It feels like it was just five minutes. So so so practice the present. Dish on and don ' t rush and don ' t crowd a slides. This is very important. Add speak to this lions, don ' t crowd the slides and don ' t read word for word right now. Fine. I might be reading some of these things word for word, but you can imagine if I was reading word for word and then I had a whole paragraph here, You would just tell me, Carolina, you ' ve just killed it like this is not workingyeah So don ' t read word for word instead you can. You can of course includes sentences and maybe some bullet points. But where you can try and speak to the slides. The I ' m I ' m and also use a font size that is friendly. So don ' t use like font plays eight got a people be struggling to read your slides, don ' t crowd that, use a small font, young and dumb, and then also be can see practice your Chris additions or would you say that ? And also anticipates the question. So he a brand see a became to respond to the questions precisely and limits oneself to what you ' ve been asked.It ' s okay, great. Yup So so be keen to respond to questions in other words. And. And the only way he can be keen is if you read the anticipated them. Yeah, other ways you probably want to be keen to. I ' m pretty cent or to answer these questions. So anticipate the questions you probably know your questions might be around. It may be the objectives at the. Might be around the that gap in the research that most likely to be around and betsy the methodology that you ' re using. Let ' s it the data type that you ' re using. So anticipate the questions, be ready to answer them and of coursethat to flow from practicing. So if you practice I present in front of you, you ' ll all ask me questions to be like, oh, and how come you only focusing on East Africa ? Why don ' t you just open up your studies to sub Saharan Africa ? You know why you only collecting data you know from from twenty fifteen to twenty twenty one about the years before what happened. I can to even start from nineteen sixty three when we gained independence. Look get all the. What has been happening since been and so been I can start anticipating some of the questions that I ' m likely to be assed and saw. Also. Of coursethe panelists will give you feedback. It ' s natural. When I present my work to you, you will want to say something. It ' s natural. And some of these comments are really useful so make sure you have like may be a pen and paper to write down the comments. Trade down the suggestions so that you can incorporate them any. Prove your work and even when you ' re ask questions don ' t feel you need to know all the answers. You can even see that to. Will look more into that you can. Thank you. Examine our. For the suggestion that you will look more it to wheat and he will consider incorporating that. Yeah, so so don ' t feel bad that you don ' t knowthe answers but. But you can find a way of answering it young and thing that you know, you know. Thanks for sharing that recommendation or that consideration. I hadn ' t considered it, but I will now. Who prefer the. To read, you know, and use it to improve on my work or something. Yeah, so you can find words to see that will help you and not to feel that you need to know everything the same way. Even lecture us when we ' re teaching. You ask, ask a question. We don ' t have all the answers and we might see that it will. That ' s a great question and allow me to get back to you onthat next week when we eat during class. Saw the same way you can. You know you can also feel free to see that you had you hadn ' t considered a. Said Tim, I ' m a. Be a certain variable if you hadn ' t considered the set to methodology, but you will look morning. Tweet young and dumb, and also even if they ' re difficult questions. But then you feel about. Actually, I think I could know how to answer this. Don ' t be afraid to. To pause to take a pause and just think about it. Yum And then onset. Don ' t be afraid to have a short break, em and and for their to be some silence. Itso keep the same way when we ' re teaching and someone asks a question. Usually, sometimes the lecture might take a pause and think about this question. Even when we see other people presenting work or making presentations, even at work, you could even be a politician speaking and they have been asked a question. He might take a pause and think about it and then answer. So the same way for you. You can take a pause and think about it. And even if you don ' t have the answer, you could even see that you know you will think about that, and you would look more into that. Or you will see. You will also seek guidance from your supervisor as well.This Yeah, so you ' re free to do that and you ' re free to see that are. But of course, now for other things like why this sample, why this time period ? Why did you use this methodology. Some of those you should already be ready to answer because it ' s your work. You ' re the one who knows it young. So give us some things to keep in mind. So based on what tough shed here in on what you ' ve presented before anything anyone else wanted to add as we come to an end, anything and anyone wants to out of the come to an endokay So them or tell do now is I ' ll just share one. What we do, and then we ' ll. We ' ll end up. But before I share that, I also wanted to tell you that these guidelines, okay, something on grooming Okay, Yeah, thank you, Brian. Yeah, thank you. And in fact, that ' s true. So that ' s important. Yeah, I ' m so. Thanks. Thanks for writing that. So if we go back in fact what you ' re saying is true. Yeah, so even grooming really help. So of course indeed, the bits a face to face presentationso make sure that your well presented. I ' m so. Let ' s say you can ' t come with shorts and sleep. As to the. To make your presentation people will start wondering. Okay, a noise be you know is he or she going up, going to the beach or I be coming up to make a presentation. Yup So make sure that your present to. Will make sure you ' re wearing clothes that you ' re comfortable eating so you know who can try and were something that may be. You ' re used to also wearing something that is comfortable. Yeah, you ' re not nervous. You know if I stretch what will happen and even if it ' s online. Yeah, so Brian, thanks for that. Too many bits online By the way, even after you ' veyou know you ' ve. Am you freshened up you dressing well. I. She ' d even helps in your presentation. Yeah, I ' m. It even helps boost your confidence. And even when we turn on the camera. When you turn on the camera and we could even say even where you ' re presenting from. Yeah, so perhaps a. It may not be appropriate. Let ' s see if you ' re presenting a. Perhaps from your bedroom and we can see your bed now even if you to your house is small, why not ? Why not turn your machine for you to face the wall ? Yeah, so that we don ' t need to see it. See your bed and there was keep tournament everything and everything else that ' s in the room. Yeah, so you can find some way inthose that ' s appropriate. At least you should be the easiest might be may be a wall that displayed. Okay, like right now I ' m presenting in my office and damn, there ' s some curtains behind. I would say that still. Okay, Yeah, as long as it looks at present double that ' s fine. Em. Saw at least choose somewhere in your house that is present a book that to have wouldn ' t have noise. You beef you have like a family are more people running up and down. You could tell them you ' re presenting or you could tell them to give you this. I ' m thirty minutes for you to make your presentation. Yeah, so keep those in mind as well. So thanks a lotright for that. Anyone else wants to add some be about your presentation what you need to keep in mind ? Okay alright. Fine. So so let me share of the video and then basically after that we will really call it a day and and then you ' re free to ask any questions. Yep. So I ' ll share and we first mixture of shit shit my soundright So this is something on someone had shed on how to give a great oral presentation. Young out to give a great oral presentation so let ' s listen to what they have to see and feel free to also add the volume on your end. Em can let me know if you can ' t hear it and about. Say your as far as been accepted and you ' re about to given all presentation at your first a conference. Here are some toto help you present your research and the best way possible. Step one funny your usually any given a few minutes for an off at all presentation, so make sure to pick one key message and use your slides to get that course. It can be tempting to try to fit in all your research but that can really muddy the message. Try to think about he will be in the audience so that you can picture presentation at the right level of. Avoid facing slides. Make sure your slides a clear and concise so that the audience can concentrate on year and not be distracted by lots of text. A good rule of thumb is one while for diagram pass lied. This allows the word to take center stage, helps to drive your message and provides a prompt for the next part of your story.Don ' t forget about the story. A good presentation will have a logical flow. Set the same clearly but don ' t spend too much time on the background. Step to practicing. Timing is really king. Make sure you plan your presentation as you can for everything in without finishing too early or rushing at the end. Practicing should also helped to make sure that you don ' t speak to quickly or almond are too much. The presentation is not just about your sides. I ' m also be time to interact with your audience. Leave time for questions. Try not to be nervous about questions. They can need to. Really useful feedback on your work. One not practice your presentation in front ofsome colleagues to get their feedback. This will help you refine your told. And they might come up with some questions you haven ' t thought of. If you can practice in a room similar to the one you ' ll be presented in, this will get used to gaming or talk. Step three delivery on the day. You ' ll probably be a bit nervous. That ' s normal and the nose will disappear once you get started. Make eye contact with your audience and smile. Speak as clearly as you can so that everyone understands you. Remember, you know more about the research than anyone else in the room. You have a expert. Any questions or from people who are interested in your work and once in a. More. This is. Did make the most of the opportunity to show off your researchand enjoy it. Good luck. That aren ' t so great. So that was that I ' m about how to give a great oral presentation and dumb. And also I wanted to highlight that on this document you will also have they also guidelines on how your your dissertation or your thesis, how we should floor. Yeah, I ' m sor so from the covered page young so to all the way to the that title pageyeah So the declaration page I ' m not. This is what the written document. They also wanted to highlight that So the abstract table of contents, list of figures acknowledgments how the body of the pieces will look like. So all this is included their. Yeah, he references appendices and they give guidance on how to label but tables, how to label the figures. So so these will really will really help. Yeah, so yeah, these because some information to shed the guide so I ' ll share it with a ritual. A catch who helps tooi ' m you know to help like for example, she had she hoped to set up this meeting today, so I ' ll share it with her and also request if these also and late tick template and wins. Once you get that template you can then build. Don ' t need to are you can build your need to add in some things that you. You may be missing from that template as will. Yup So I ' ll. I ' ll share these. So so great. So now really, we ' ve. We ' ve come to the end of the. Today ' s session and what I really wanted to highlight was. Of course, what was discussed is this idea of. Well, one of theright t your research work, but I know you discussed a lot about that when you were doing your research methods, and these guides would also help you. The. The research guide at the masters level will help you for your proposal. End for your final research as well. Will your arm for your dissertation ? Yeah, I ' m. So that will also help you as well. And then not for the presentation. We ' ve already discussed what needs to be included in the presentation and then now some practical tips. The are like about you know what like what in this last beyou make sure that you plan. Yeah, you plan ahead of time, what you want to do, who your audience is, what you want to present, run that you practice and also in terms of the delivery. Yeah, make sure that will. That you, for example, have eye contact and that you ' re confident you ' re speaking or deeply like some people. Seed, Yeah, your slides don ' t have too much information, you anticipate the questions. So old that is on presentation. So these two aspects Remember when you ' re presenting your work, we also want to see your delivery. How are you doing it ? And thesewill also help you even at work when you asked to present something and then you present something great the be like wow, you last really awesome saw, so use it to also build you up as well as you prepare to present things at work. If you read you working or when you start working young. So I ' ll end there. And any question that someone wanted to ask as we. Before we leave feel free. So I ' ll share the slides in. I can share the videos if you want them as well. I ' m. And them the documentand yet the research Great. Okay, Alright, fine, sure you ' re welcome then you ' re welcome. End certainly I. I wish you all the best job as you prepare for your presentations. I ' m as your defend your work. Sorry you ' re most welcome and sure I will share. Be reporting as will. Yeah, so thank you all. Have a nice evening. I ' m. And you ' re welcome to send me an email if likeso I ' ve shared my email. Bear on the chat. You ' re free to send me an email and I ' ll respond. Okay, so thank you all. Think you okay. Thanks. See, you know, Kobe by in or.\\n\""
      ]
     },
     "execution_count": 33,
     "metadata": {},
     "output_type": "execute_result"
    }
   ],
   "source": [
    "research_transcript "
   ]
  },
  {
   "cell_type": "code",
   "execution_count": 34,
   "id": "42884353",
   "metadata": {},
   "outputs": [],
   "source": [
    "split_tokens_2 = research_transcript.split(\" \")\n",
    "docs_2 = []\n",
    "for i in range(0, len(split_tokens_2), 850):\n",
    "    selection_2 = \" \".join(split_tokens_2[i:(i+850)])\n",
    "    docs_2.append(selection_2)"
   ]
  },
  {
   "cell_type": "code",
   "execution_count": 35,
   "id": "7866d646",
   "metadata": {},
   "outputs": [
    {
     "name": "stderr",
     "output_type": "stream",
     "text": [
      "Token indices sequence length is longer than the specified maximum sequence length for this model (1110 > 512). Running this sequence through the model will result in indexing errors\n"
     ]
    }
   ],
   "source": [
    "summaries = summarizer(docs_2)"
   ]
  },
  {
   "cell_type": "code",
   "execution_count": 36,
   "id": "8de4c611",
   "metadata": {},
   "outputs": [
    {
     "data": {
      "text/plain": [
       "[{'summary_text': \"you ' ve done like god, the cost, like research methods or a course at taking you through the research process looked according to the doctor . rickokay So the literature review, yes, we began last semester . I'm no one wants to drive and one personyeah I think it gives an idea of what you want to investigate before you begin doing their research .\"},\n",
       " {'summary_text': \"you present your dissertation from your introduction, your background, your literature review methodology, your findings, your conclusions, and so we ' ll highlight that . a research proposal is an integral part of during research . it helps you clarify your topic, which will be invaluable when deciding how best to proceed .\"},\n",
       " {'summary_text': \"a hypothesis is a proposition to be tested by your research . the first question is why we write a research proposal and want it to address . if you ' re doing maybe mathematical financing, you bring something in history then like, Okay, it' san .\"},\n",
       " {'summary_text': \"you know this certain topic that you ' re researching on AM and also a . you could even highlight Rob. Some people even have a timeline . how would you address your research questions you have .\"},\n",
       " {'summary_text': \"if you're writing your proposal, you'll need to follow some guidelines . it' s like someone sending you they ' re see v they might come he am and they might say you know maybe more nick him in or douglas kids my CV please have a look .\"},\n",
       " {'summary_text': \"' s of those are the . the format of your proposal should be summarized here in how you should be . you should have a list of references . make sure that you have any appendices that are . they re .\"},\n",
       " {'summary_text': \"a study that was done in nineteen fifty eight . it' s like you alsogetting an idea of what has been done before . you can go ahead and fight it, but for most of your studies, try and use current literature .\"},\n",
       " {'summary_text': \"if you ' re defending your proposal or your dissertation video, then you want to present successfully . think about what the presentation is about young, and then what Brand was saying is of course, now with. Think about our audience . if it's a conference may be too many people in a room, it could be thirty .\"},\n",
       " {'summary_text': \"you can be given fifteen minutes to present your work and then ten minutes from the panel . if it ' s your food proposal, then make sure that your slides you . you could even highlight what relationship are you studying .\"},\n",
       " {'summary_text': 'you can explain what is yoursgreen to contribute to the body of knowledge . you can use this area to highlight some of the main studies . it could be a nice place to see all these studies have used methodology x .'},\n",
       " {'summary_text': \"you need to defend perhaps why you ' ve chosen a set to sample . you could have a table at may be. Highlights the variables how they' re defined in the source of data . this is where now explain you know that you show us the model .\"},\n",
       " {'summary_text': \"you can have some descript teams if you ' re telling a story about your data, make it interesting. Know just for the sequel feet down, and you can also highlights that. You feel really perhaps if there were major limitations you can highlight that . you can mention it as will am in your presentation saw him have talked a lot of talked about making the actual presentation .\"},\n",
       " {'summary_text': \"if you ' re good in making mice slavea visualization that can even help you explain something, go ahead . you could include some shots or graphs. You could think of any other section or maybe your literature review . it might be a way you can present to keep them in the. My staple. It might be. You can be creative in how you present your work .\"},\n",
       " {'summary_text': \"if you practice I present in front of you, you ' ll all ask me questions to be like, oh, and how come you only focusing on East Africa . you know why you only collecting data you know from twenty fifteen to twenty one about the years before what happened . I can even start from nineteen sixty three when we gained independence .\"},\n",
       " {'summary_text': \"you can find words to see that will help you and not feel that you need to know everything the same way . if you don ' t have the answers, you can even see that it will . you can also see that you will see that they will be able to answer .\"},\n",
       " {'summary_text': \"you know if I stretch what will happen and even if it ' s online. Am you freshened up you dressing well . even when we turn on the camera and we could even say even where you 're presenting from . it may not be appropriate. let's see your bed and there was keep tournament everything and everything else in the room .\"},\n",
       " {'summary_text': \"the research guide at the masters level will help you for your proposal . you can build your need to add in some things that you may be missing from that template as will . if you read you working or when you start working young, you ' re welcome .\"}]"
      ]
     },
     "execution_count": 36,
     "metadata": {},
     "output_type": "execute_result"
    }
   ],
   "source": [
    "summaries"
   ]
  },
  {
   "cell_type": "code",
   "execution_count": 37,
   "id": "49ffc8b3",
   "metadata": {},
   "outputs": [],
   "source": [
    "summary_2 = \"\\n\\n\".join([d[\"summary_text\"] for d in summaries])"
   ]
  },
  {
   "cell_type": "code",
   "execution_count": 38,
   "id": "81960da3",
   "metadata": {},
   "outputs": [
    {
     "data": {
      "text/plain": [
       "\"you ' ve done like god, the cost, like research methods or a course at taking you through the research process looked according to the doctor . rickokay So the literature review, yes, we began last semester . I'm no one wants to drive and one personyeah I think it gives an idea of what you want to investigate before you begin doing their research .\\n\\nyou present your dissertation from your introduction, your background, your literature review methodology, your findings, your conclusions, and so we ' ll highlight that . a research proposal is an integral part of during research . it helps you clarify your topic, which will be invaluable when deciding how best to proceed .\\n\\na hypothesis is a proposition to be tested by your research . the first question is why we write a research proposal and want it to address . if you ' re doing maybe mathematical financing, you bring something in history then like, Okay, it' san .\\n\\nyou know this certain topic that you ' re researching on AM and also a . you could even highlight Rob. Some people even have a timeline . how would you address your research questions you have .\\n\\nif you're writing your proposal, you'll need to follow some guidelines . it' s like someone sending you they ' re see v they might come he am and they might say you know maybe more nick him in or douglas kids my CV please have a look .\\n\\n' s of those are the . the format of your proposal should be summarized here in how you should be . you should have a list of references . make sure that you have any appendices that are . they re .\\n\\na study that was done in nineteen fifty eight . it' s like you alsogetting an idea of what has been done before . you can go ahead and fight it, but for most of your studies, try and use current literature .\\n\\nif you ' re defending your proposal or your dissertation video, then you want to present successfully . think about what the presentation is about young, and then what Brand was saying is of course, now with. Think about our audience . if it's a conference may be too many people in a room, it could be thirty .\\n\\nyou can be given fifteen minutes to present your work and then ten minutes from the panel . if it ' s your food proposal, then make sure that your slides you . you could even highlight what relationship are you studying .\\n\\nyou can explain what is yoursgreen to contribute to the body of knowledge . you can use this area to highlight some of the main studies . it could be a nice place to see all these studies have used methodology x .\\n\\nyou need to defend perhaps why you ' ve chosen a set to sample . you could have a table at may be. Highlights the variables how they' re defined in the source of data . this is where now explain you know that you show us the model .\\n\\nyou can have some descript teams if you ' re telling a story about your data, make it interesting. Know just for the sequel feet down, and you can also highlights that. You feel really perhaps if there were major limitations you can highlight that . you can mention it as will am in your presentation saw him have talked a lot of talked about making the actual presentation .\\n\\nif you ' re good in making mice slavea visualization that can even help you explain something, go ahead . you could include some shots or graphs. You could think of any other section or maybe your literature review . it might be a way you can present to keep them in the. My staple. It might be. You can be creative in how you present your work .\\n\\nif you practice I present in front of you, you ' ll all ask me questions to be like, oh, and how come you only focusing on East Africa . you know why you only collecting data you know from twenty fifteen to twenty one about the years before what happened . I can even start from nineteen sixty three when we gained independence .\\n\\nyou can find words to see that will help you and not feel that you need to know everything the same way . if you don ' t have the answers, you can even see that it will . you can also see that you will see that they will be able to answer .\\n\\nyou know if I stretch what will happen and even if it ' s online. Am you freshened up you dressing well . even when we turn on the camera and we could even say even where you 're presenting from . it may not be appropriate. let's see your bed and there was keep tournament everything and everything else in the room .\\n\\nthe research guide at the masters level will help you for your proposal . you can build your need to add in some things that you may be missing from that template as will . if you read you working or when you start working young, you ' re welcome .\""
      ]
     },
     "execution_count": 38,
     "metadata": {},
     "output_type": "execute_result"
    }
   ],
   "source": [
    "summary_2"
   ]
  },
  {
   "cell_type": "code",
   "execution_count": null,
   "id": "ad7f5721",
   "metadata": {},
   "outputs": [],
   "source": []
  }
 ],
 "metadata": {
  "kernelspec": {
   "display_name": "Python 3 (ipykernel)",
   "language": "python",
   "name": "python3"
  },
  "language_info": {
   "codemirror_mode": {
    "name": "ipython",
    "version": 3
   },
   "file_extension": ".py",
   "mimetype": "text/x-python",
   "name": "python",
   "nbconvert_exporter": "python",
   "pygments_lexer": "ipython3",
   "version": "3.10.4"
  }
 },
 "nbformat": 4,
 "nbformat_minor": 5
}
