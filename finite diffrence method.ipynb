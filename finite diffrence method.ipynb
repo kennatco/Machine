{
 "cells": [
  {
   "cell_type": "code",
   "execution_count": 2,
   "metadata": {},
   "outputs": [],
   "source": [
    "import numpy as np\n",
    "class FiniteDifferences(object):\n",
    "    def __init__(self, S0, K, r, T, sigma, Smax, M, N,is_call=True):\n",
    "\n",
    "        self.S0 = S0\n",
    "        self.K = K\n",
    "        self.r = r\n",
    "        self.T = T\n",
    "        self.sigma = sigma\n",
    "        self.Smax = Smax\n",
    "        self.M, self.N = int(M), int(N) # Ensure M&N are integers\n",
    "        self.is_call = is_call\n",
    "        self.dS = Smax / float(self.M)\n",
    "        self.dt = T / float(self.N)\n",
    "        self.i_values = np.arange(self.M)\n",
    "        self.j_values = np.arange(self.N)\n",
    "        self.grid = np.zeros(shape=(self.M+1, self.N+1))\n",
    "        self.boundary_conds = np.linspace(0, Smax, self.M+1)\n",
    "    def _setup_boundary_conditions_(self):\n",
    "        pass\n",
    "    def _setup_coefficients_(self):\n",
    "        pass\n",
    "    def _traverse_grid_(self):\n",
    "        \"\"\" Iterate the grid backwards in time \"\"\"\n",
    "        pass\n",
    "    def _interpolate_(self):\n",
    "        \"\"\"\n",
    "        Use piecewise linear interpolation on the initial\n",
    "        grid column to get the closest price at S0.\n",
    "        \"\"\"\n",
    "        return np.interp(self.S0,self.boundary_conds,self.grid[:, 0])\n",
    "    def price(self):\n",
    "            self._setup_boundary_conditions_()\n",
    "            self._setup_coefficients_()\n",
    "            self._traverse_grid_()\n",
    "            return self._interpolate_()"
   ]
  },
  {
   "cell_type": "code",
   "execution_count": 3,
   "metadata": {},
   "outputs": [],
   "source": [
    "\"\"\" Explicit method of Finite Differences \"\"\"\n",
    "class FDExplicitEu(FiniteDifferences):\n",
    "    def _setup_boundary_conditions_(self):\n",
    "        if self.is_call:\n",
    "            self.grid[:, -1] = np.maximum(self.boundary_conds - self.K, 0)\n",
    "            self.grid[-1, :-1] = (self.Smax - self.K) * \\\n",
    "                                    np.exp(-self.r *\n",
    "                                           self.dt *\n",
    "                                           (self.N-self.j_values))\n",
    "        else:\n",
    "            self.grid[:, -1] = \\\n",
    "                np.maximum(self.K-self.boundary_conds, 0)\n",
    "            self.grid[0, :-1] = (self.K - self.Smax) * \\\n",
    "                                    np.exp(-self.r *\n",
    "                                            self.dt *\n",
    "                                            (self.N-self.j_values))\n",
    "    def _setup_coefficients_(self):\n",
    "        self.a = 0.5*self.dt*((self.sigma**2) *\n",
    "                        (self.i_values**2) -\n",
    "                        self.r*self.i_values)\n",
    "        self.b = 1 - self.dt*((self.sigma**2) *(self.i_values**2) +\n",
    "                                    self.r)\n",
    "        self.c = 0.5*self.dt*((self.sigma**2) *\n",
    "                                    (self.i_values**2) +\n",
    "                                    self.r*self.i_values)\n",
    "    def _traverse_grid_(self):\n",
    "          for j in reversed(self.j_values):\n",
    "            for i in range(self.M)[2:]:\n",
    "                self.grid[i,j] = self.a[i]*self.grid[i-1,j+1] +\\\n",
    "                                 self.b[i]*self.grid[i,j+1] + \\\n",
    "                                 self.c[i]*self.grid[i+1,j+1]"
   ]
  },
  {
   "cell_type": "code",
   "execution_count": 115,
   "metadata": {},
   "outputs": [
    {
     "name": "stdout",
     "output_type": "stream",
     "text": [
      "[[0. 0. 0. ... 0. 0. 0.]\n",
      " [0. 0. 0. ... 0. 0. 0.]\n",
      " [0. 0. 0. ... 0. 0. 0.]\n",
      " ...\n",
      " [0. 0. 0. ... 0. 0. 0.]\n",
      " [0. 0. 0. ... 0. 0. 0.]\n",
      " [0. 0. 0. ... 0. 0. 0.]]\n"
     ]
    }
   ],
   "source": [
    "option = FDExplicitEu(50, 50, 0.1, 5./12., 0.4, 100, 100, 1000, False)\n",
    "print(option.grid)"
   ]
  },
  {
   "cell_type": "code",
   "execution_count": 48,
   "metadata": {},
   "outputs": [
    {
     "name": "stdout",
     "output_type": "stream",
     "text": [
      "[42.15945023 42.16465101 42.16985292 42.17505597 42.18026016 42.18546549\n",
      " 42.19067195 42.19587956 42.2010883  42.20629819 42.21150921 42.21672138\n",
      " 42.22193468 42.22714913 42.23236472 42.23758145 42.24279933 42.24801835\n",
      " 42.25323851 42.25845981 42.26368227 42.26890586 42.2741306  42.27935649\n",
      " 42.28458352 42.2898117  42.29504102 42.3002715  42.30550312 42.31073588\n",
      " 42.3159698  42.32120487 42.32644108 42.33167845 42.33691696 42.34215663\n",
      " 42.34739744 42.35263941 42.35788253 42.3631268  42.36837223 42.3736188\n",
      " 42.37886654 42.38411542 42.38936546 42.39461665 42.399869   42.4051225\n",
      " 42.41037716 42.41563298 42.42088995 42.42614808 42.43140737 42.43666781\n",
      " 42.44192942 42.44719218 42.4524561  42.45772118 42.46298742 42.46825482\n",
      " 42.47352338 42.47879311 42.48406399 42.48933604 42.49460925 42.49988362\n",
      " 42.50515916 42.51043585 42.51571372 42.52099275 42.52627294 42.5315543\n",
      " 42.53683682 42.54212051 42.54740537 42.55269139 42.55797858 42.56326694\n",
      " 42.56855647 42.57384717 42.57913903 42.58443207 42.58972627 42.59502165\n",
      " 42.60031819 42.60561591 42.6109148  42.61621486 42.62151609 42.6268185\n",
      " 42.63212208 42.63742683 42.64273276 42.64803986 42.65334814 42.65865759\n",
      " 42.66396822 42.66928002 42.674593   42.67990716 42.6852225  42.69053901\n",
      " 42.6958567  42.70117557 42.70649562 42.71181685 42.71713926 42.72246285\n",
      " 42.72778762 42.73311358 42.73844071 42.74376903 42.74909853 42.75442921\n",
      " 42.75976107 42.76509412 42.77042836 42.77576378 42.78110038 42.78643817\n",
      " 42.79177714 42.79711731 42.80245865 42.80780119 42.81314491 42.81848983\n",
      " 42.82383593 42.82918321 42.83453169 42.83988136 42.84523222 42.85058427\n",
      " 42.85593751 42.86129194 42.86664757 42.87200438 42.87736239 42.8827216\n",
      " 42.88808199 42.89344358 42.89880637 42.90417035 42.90953553 42.9149019\n",
      " 42.92026947 42.92563823 42.93100819 42.93637935 42.94175171 42.94712527\n",
      " 42.95250002 42.95787597 42.96325313 42.96863148 42.97401104 42.97939179\n",
      " 42.98477375 42.99015691 42.99554127 43.00092684 43.0063136  43.01170158\n",
      " 43.01709075 43.02248113 43.02787272 43.03326551 43.0386595  43.04405471\n",
      " 43.04945112 43.05484873 43.06024756 43.06564759 43.07104883 43.07645128\n",
      " 43.08185494 43.08725981 43.09266589 43.09807318 43.10348168 43.10889139\n",
      " 43.11430231 43.11971445 43.1251278  43.13054236 43.13595814 43.14137513\n",
      " 43.14679334 43.15221276 43.15763339 43.16305525 43.16847831 43.1739026\n",
      " 43.1793281  43.18475482 43.19018276 43.19561192 43.20104229 43.20647389\n",
      " 43.21190671 43.21734074 43.222776   43.22821248 43.23365018 43.2390891\n",
      " 43.24452924 43.24997061 43.2554132  43.26085702 43.26630206 43.27174832\n",
      " 43.27719581 43.28264452 43.28809447 43.29354563 43.29899803 43.30445165\n",
      " 43.3099065  43.31536258 43.32081989 43.32627843 43.33173819 43.33719919\n",
      " 43.34266142 43.34812488 43.35358957 43.35905549 43.36452264 43.36999103\n",
      " 43.37546065 43.38093151 43.3864036  43.39187692 43.39735148 43.40282728\n",
      " 43.40830431 43.41378257 43.41926208 43.42474282 43.4302248  43.43570802\n",
      " 43.44119247 43.44667817 43.4521651  43.45765328 43.46314269 43.46863335\n",
      " 43.47412525 43.47961839 43.48511277 43.4906084  43.49610527 43.50160338\n",
      " 43.50710274 43.51260334 43.51810519 43.52360828 43.52911262 43.5346182\n",
      " 43.54012504 43.54563312 43.55114244 43.55665302 43.56216484 43.56767792\n",
      " 43.57319224 43.57870781 43.58422464 43.58974271 43.59526204 43.60078262\n",
      " 43.60630445 43.61182754 43.61735187 43.62287746 43.62840431 43.63393241\n",
      " 43.63946177 43.64499238 43.65052425 43.65605737 43.66159175 43.66712739\n",
      " 43.67266429 43.67820244 43.68374186 43.68928253 43.69482447 43.70036766\n",
      " 43.70591211 43.71145783 43.71700481 43.72255305 43.72810255 43.73365332\n",
      " 43.73920535 43.74475864 43.7503132  43.75586902 43.76142611 43.76698446\n",
      " 43.77254408 43.77810497 43.78366712 43.78923055 43.79479524 43.8003612\n",
      " 43.80592843 43.81149692 43.81706669 43.82263773 43.82821004 43.83378362\n",
      " 43.83935848 43.8449346  43.850512   43.85609068 43.86167062 43.86725184\n",
      " 43.87283434 43.87841811 43.88400316 43.88958948 43.89517708 43.90076596\n",
      " 43.90635611 43.91194754 43.91754026 43.92313425 43.92872952 43.93432607\n",
      " 43.9399239  43.94552301 43.9511234  43.95672508 43.96232803 43.96793227\n",
      " 43.9735378  43.9791446  43.9847527  43.99036207 43.99597273 44.00158468\n",
      " 44.00719792 44.01281244 44.01842824 44.02404534 44.02966372 44.0352834\n",
      " 44.04090436 44.04652661 44.05215015 44.05777498 44.0634011  44.06902852\n",
      " 44.07465722 44.08028722 44.08591851 44.0915511  44.09718497 44.10282015\n",
      " 44.10845662 44.11409438 44.11973344 44.12537379 44.13101544 44.13665839\n",
      " 44.14230264 44.14794819 44.15359503 44.15924317 44.16489262 44.17054336\n",
      " 44.1761954  44.18184875 44.1875034  44.19315934 44.1988166  44.20447515\n",
      " 44.21013501 44.21579617 44.22145864 44.22712241 44.23278749 44.23845387\n",
      " 44.24412156 44.24979056 44.25546086 44.26113247 44.26680539 44.27247962\n",
      " 44.27815516 44.28383201 44.28951017 44.29518964 44.30087042 44.30655252\n",
      " 44.31223592 44.31792064 44.32360667 44.32929402 44.33498268 44.34067266\n",
      " 44.34636395 44.35205655 44.35775048 44.36344571 44.36914227 44.37484015\n",
      " 44.38053934 44.38623985 44.39194168 44.39764483 44.4033493  44.4090551\n",
      " 44.41476221 44.42047064 44.4261804  44.43189148 44.43760389 44.44331761\n",
      " 44.44903266 44.45474904 44.46046674 44.46618577 44.47190612 44.4776278\n",
      " 44.48335081 44.48907514 44.49480081 44.5005278  44.50625612 44.51198577\n",
      " 44.51771675 44.52344906 44.52918271 44.53491768 44.54065399 44.54639163\n",
      " 44.5521306  44.55787091 44.56361255 44.56935552 44.57509984 44.58084548\n",
      " 44.58659247 44.59234078 44.59809044 44.60384144 44.60959377 44.61534744\n",
      " 44.62110245 44.6268588  44.6326165  44.63837553 44.6441359  44.64989762\n",
      " 44.65566067 44.66142507 44.66719082 44.67295791 44.67872634 44.68449611\n",
      " 44.69026724 44.69603971 44.70181352 44.70758868 44.71336519 44.71914305\n",
      " 44.72492225 44.73070281 44.73648471 44.74226796 44.74805257 44.75383852\n",
      " 44.75962583 44.76541449 44.7712045  44.77699586 44.78278858 44.78858265\n",
      " 44.79437808 44.80017486 44.805973   44.81177249 44.81757334 44.82337554\n",
      " 44.82917911 44.83498403 44.84079031 44.84659795 44.85240695 44.85821731\n",
      " 44.86402904 44.86984212 44.87565656 44.88147237 44.88728954 44.89310807\n",
      " 44.89892797 44.90474923 44.91057185 44.91639585 44.9222212  44.92804793\n",
      " 44.93387602 44.93970548 44.9455363  44.9513685  44.95720206 44.96303699\n",
      " 44.9688733  44.97471097 44.98055002 44.98639043 44.99223222 44.99807538\n",
      " 45.00391992 45.00976583 45.01561311 45.02146177 45.0273118  45.03316321\n",
      " 45.039016   45.04487016 45.0507257  45.05658262 45.06244091 45.06830059\n",
      " 45.07416164 45.08002408 45.08588789 45.09175309 45.09761967 45.10348763\n",
      " 45.10935697 45.1152277  45.12109981 45.1269733  45.13284818 45.13872444\n",
      " 45.14460209 45.15048113 45.15636155 45.16224337 45.16812657 45.17401115\n",
      " 45.17989713 45.1857845  45.19167325 45.1975634  45.20345494 45.20934787\n",
      " 45.21524219 45.22113791 45.22703501 45.23293352 45.23883341 45.2447347\n",
      " 45.25063739 45.25654147 45.26244695 45.26835383 45.27426211 45.28017178\n",
      " 45.28608285 45.29199532 45.29790919 45.30382446 45.30974113 45.3156592\n",
      " 45.32157868 45.32749955 45.33342183 45.33934552 45.34527061 45.3511971\n",
      " 45.357125   45.3630543  45.36898501 45.37491712 45.38085065 45.38678558\n",
      " 45.39272192 45.39865967 45.40459882 45.41053939 45.41648137 45.42242476\n",
      " 45.42836956 45.43431578 45.4402634  45.44621244 45.45216289 45.45811476\n",
      " 45.46406805 45.47002274 45.47597886 45.48193639 45.48789534 45.4938557\n",
      " 45.49981749 45.50578069 45.51174531 45.51771135 45.52367881 45.5296477\n",
      " 45.535618   45.54158973 45.54756288 45.55353745 45.55951344 45.56549086\n",
      " 45.57146971 45.57744998 45.58343168 45.5894148  45.59539935 45.60138533\n",
      " 45.60737273 45.61336157 45.61935183 45.62534352 45.63133664 45.6373312\n",
      " 45.64332718 45.6493246  45.65532345 45.66132374 45.66732545 45.6733286\n",
      " 45.67933319 45.68533921 45.69134667 45.69735556 45.70336589 45.70937766\n",
      " 45.71539087 45.72140551 45.72742159 45.73343912 45.73945808 45.74547849\n",
      " 45.75150033 45.75752362 45.76354835 45.76957453 45.77560215 45.78163121\n",
      " 45.78766172 45.79369367 45.79972707 45.80576191 45.8117982  45.81783594\n",
      " 45.82387513 45.82991577 45.83595785 45.84200139 45.84804638 45.85409281\n",
      " 45.8601407  45.86619004 45.87224084 45.87829308 45.88434679 45.89040194\n",
      " 45.89645855 45.90251662 45.90857614 45.91463712 45.92069955 45.92676345\n",
      " 45.9328288  45.93889561 45.94496388 45.95103361 45.95710481 45.96317746\n",
      " 45.96925157 45.97532715 45.98140419 45.98748269 45.99356266 45.99964409\n",
      " 46.00572699 46.01181136 46.01789719 46.02398448 46.03007325 46.03616348\n",
      " 46.04225518 46.04834835 46.05444299 46.0605391  46.06663669 46.07273574\n",
      " 46.07883626 46.08493826 46.09104173 46.09714668 46.1032531  46.109361\n",
      " 46.11547037 46.12158121 46.12769354 46.13380734 46.13992262 46.14603937\n",
      " 46.15215761 46.15827733 46.16439852 46.1705212  46.17664536 46.182771\n",
      " 46.18889813 46.19502673 46.20115682 46.2072884  46.21342146 46.219556\n",
      " 46.22569203 46.23182955 46.23796856 46.24410905 46.25025103 46.2563945\n",
      " 46.26253946 46.26868591 46.27483386 46.28098329 46.28713421 46.29328663\n",
      " 46.29944054 46.30559594 46.31175284 46.31791124 46.32407113 46.33023251\n",
      " 46.33639539 46.34255977 46.34872565 46.35489302 46.3610619  46.36723227\n",
      " 46.37340414 46.37957752 46.3857524  46.39192877 46.39810665 46.40428604\n",
      " 46.41046693 46.41664932 46.42283322 46.42901862 46.43520553 46.44139394\n",
      " 46.44758387 46.4537753  46.45996824 46.46616268 46.47235864 46.47855611\n",
      " 46.48475509 46.49095558 46.49715759 46.5033611  46.50956613 46.51577267\n",
      " 46.52198073 46.52819031 46.53440139 46.540614   46.54682812 46.55304376\n",
      " 46.55926092 46.5654796  46.57169979 46.57792151 46.58414474 46.5903695\n",
      " 46.59659578 46.60282358 46.60905291 46.61528375 46.62151613 46.62775002\n",
      " 46.63398545 46.6402224  46.64646087 46.65270087 46.6589424  46.66518546\n",
      " 46.67143005 46.67767617 46.68392381 46.69017299 46.6964237  46.70267594\n",
      " 46.70892972 46.71518503 46.72144187 46.72770025 46.73396016 46.7402216\n",
      " 46.74648459 46.75274911 46.75901517 46.76528276 46.7715519  46.77782257\n",
      " 46.78409479 46.79036854 46.79664384 46.80292068 46.80919906 46.81547898\n",
      " 46.82176045 46.82804347 46.83432802 46.84061413 46.84690177 46.85319097\n",
      " 46.85948171 46.86577401 46.87206785 46.87836323 46.88466017 46.89095866\n",
      " 46.89725871 46.9035603  46.90986344 46.91616814 46.92247439 46.9287822\n",
      " 46.93509156 46.94140248 46.94771495 46.95402898 46.96034457 46.96666171\n",
      " 46.97298042 46.97930068 46.9856225  46.99194588 46.99827083 47.00459734\n",
      " 47.0109254  47.01725504 47.02358623 47.02991899 47.03625331 47.0425892\n",
      " 47.04892666 47.05526568 47.06160627 47.06794843 47.07429216 47.08063746\n",
      " 47.08698432 47.09333276 47.09968277 47.10603435 47.1123875  47.11874223\n",
      " 47.12509853 47.1314564  47.13781585 47.14417687 47.15053947 47.15690365\n",
      " 47.16326941 47.16963674 47.17600565 47.18237614 47.18874821 47.19512187\n",
      " 47.2014971  47.20787392 47.21425231 47.2206323  47.22701386 47.23339701\n",
      " 47.23978175 47.24616807 47.25255598 47.25894547 47.26533655 47.27172922\n",
      " 47.27812348 47.28451933 47.29091677 47.29731581 47.30371643 47.31011864\n",
      " 47.31652245 47.32292785 47.32933485 47.33574344 47.34215362 47.34856541\n",
      " 47.35497879 47.36139376 47.36781034 47.37422851 47.38064828 47.38706965\n",
      " 47.39349263 47.3999172  47.40634338 47.41277116 47.41920054 47.42563153\n",
      " 47.43206412 47.43849831 47.44493411 47.45137152 47.45781054 47.46425116\n",
      " 47.47069339 47.47713723 47.48358269 47.49002975 47.49647842 47.5029287\n",
      " 47.5093806  47.51583411 47.52228923 47.52874597 47.53520432 47.54166429\n",
      " 47.54812588 47.55458908 47.5610539  47.56752033 47.57398839 47.58045807\n",
      " 47.58692936 47.59340228 47.59987682 47.60635298 47.61283077 47.61931018\n",
      " 47.62579121 47.63227386 47.63875815 47.64524406 47.65173159 47.65822076\n",
      " 47.66471155 47.67120397 47.67769802 47.6841937  47.69069101 47.69718995\n",
      " 47.70369053 47.71019274 47.71669658 47.72320205 47.72970917 47.73621791\n",
      " 47.74272829 47.74924031 47.75575397 47.76226927 47.7687862  47.77530478\n",
      " 47.78182499 47.78834684 47.79487034 47.80139548 47.80792226 47.81445069\n",
      " 47.82098076 47.82751247 47.83404583 47.84058084 47.84711749 47.8536558\n",
      " 47.86019575 47.86673735 47.87328059 47.87982549 47.88637204 47.89292025\n",
      " 47.8994701  47.90602161 47.91257477 47.91912958 47.92568605 47.93224418\n",
      " 47.93880396 47.9453654  47.9519285  47.95849326 47.96505968 47.97162775\n",
      " 47.97819749 47.98476888 47.99134194 47.99791667]\n"
     ]
    }
   ],
   "source": [
    " print(option.grid[2, :-1])"
   ]
  },
  {
   "cell_type": "code",
   "execution_count": 39,
   "metadata": {},
   "outputs": [
    {
     "data": {
      "text/plain": [
       "0.9084640160687062"
      ]
     },
     "execution_count": 39,
     "metadata": {},
     "output_type": "execute_result"
    }
   ],
   "source": [
    "np.exp(-0.1*0.01*96)"
   ]
  },
  {
   "cell_type": "code",
   "execution_count": null,
   "metadata": {},
   "outputs": [],
   "source": [
    " S0, K, r, T, sigma, Smax, M, N,is_call=True"
   ]
  },
  {
   "cell_type": "code",
   "execution_count": 28,
   "metadata": {},
   "outputs": [
    {
     "data": {
      "text/plain": [
       "0.0020833299999978294"
      ]
     },
     "execution_count": 28,
     "metadata": {},
     "output_type": "execute_result"
    }
   ],
   "source": [
    "48-47.99791667"
   ]
  },
  {
   "cell_type": "code",
   "execution_count": 29,
   "metadata": {},
   "outputs": [
    {
     "data": {
      "text/plain": [
       "1.0000434045922102"
      ]
     },
     "execution_count": 29,
     "metadata": {},
     "output_type": "execute_result"
    }
   ],
   "source": [
    "48/47.99791667"
   ]
  },
  {
   "cell_type": "code",
   "execution_count": 52,
   "metadata": {},
   "outputs": [
    {
     "data": {
      "text/plain": [
       "0.004308333333333335"
      ]
     },
     "execution_count": 52,
     "metadata": {},
     "output_type": "execute_result"
    }
   ],
   "source": [
    "option.a[2]*47"
   ]
  },
  {
   "cell_type": "code",
   "execution_count": 54,
   "metadata": {},
   "outputs": [
    {
     "data": {
      "text/plain": [
       "47.9852"
      ]
     },
     "execution_count": 54,
     "metadata": {},
     "output_type": "execute_result"
    }
   ],
   "source": [
    "option.b[2]*48"
   ]
  },
  {
   "cell_type": "code",
   "execution_count": 55,
   "metadata": {},
   "outputs": [
    {
     "data": {
      "text/plain": [
       "0.008225000000000001"
      ]
     },
     "execution_count": 55,
     "metadata": {},
     "output_type": "execute_result"
    }
   ],
   "source": [
    "option.c[2]*47"
   ]
  },
  {
   "cell_type": "code",
   "execution_count": 56,
   "metadata": {},
   "outputs": [
    {
     "data": {
      "text/plain": [
       "47.997733333333336"
      ]
     },
     "execution_count": 56,
     "metadata": {},
     "output_type": "execute_result"
    }
   ],
   "source": [
    "0.004308333333333335+47.9852+0.008225000000000001\n"
   ]
  },
  {
   "cell_type": "code",
   "execution_count": 59,
   "metadata": {},
   "outputs": [],
   "source": [
    "S=np.linspace(5,15,100)"
   ]
  },
  {
   "cell_type": "code",
   "execution_count": 62,
   "metadata": {},
   "outputs": [
    {
     "name": "stdout",
     "output_type": "stream",
     "text": [
      "(100,)\n"
     ]
    }
   ],
   "source": [
    "\n",
    "option1 = FDExplicitEu(S, 10, 0.05, 6./12., 0.2, 15, 100, 30, False)\n",
    "print(option1.price())"
   ]
  },
  {
   "cell_type": "code",
   "execution_count": 73,
   "metadata": {},
   "outputs": [],
   "source": [
    "import scipy.stats as si\n",
    "import sympy as sy\n",
    "from sympy.stats import Normal, cdf\n",
    "from sympy import init_printing\n",
    "init_printing()\n",
    "from pandas import read_csv\n",
    "from matplotlib import pyplot\n",
    "pyplot.style.use('seaborn-whitegrid')"
   ]
  },
  {
   "cell_type": "code",
   "execution_count": 65,
   "metadata": {},
   "outputs": [],
   "source": [
    "def euro_vanilla_put(S, K, T, r, sigma):\n",
    "    \n",
    "    #S: spot price\n",
    "    #K: strike price\n",
    "    #T: time to maturity\n",
    "    #r: interest rate\n",
    "    #sigma: volatility of underlying asset\n",
    "    \n",
    "    d1 = (np.log(S / K) + (r + 0.5 * sigma ** 2) * T) / (sigma * np.sqrt(T))\n",
    "    d2 = (np.log(S / K) + (r - 0.5 * sigma ** 2) * T) / (sigma * np.sqrt(T))\n",
    "    \n",
    "    put = (K * np.exp(-r * T) * si.norm.cdf(-d2) - S * si.norm.cdf(-d1))\n",
    "    \n",
    "    return put"
   ]
  },
  {
   "cell_type": "code",
   "execution_count": 66,
   "metadata": {},
   "outputs": [],
   "source": [
    "putprices=euro_vanilla_put(S, 10, 0.5, 0.05, 0.2)"
   ]
  },
  {
   "cell_type": "code",
   "execution_count": 67,
   "metadata": {},
   "outputs": [],
   "source": [
    "error1=np.subtract(option1.price(),putprices)\n",
    "        \n",
    "    "
   ]
  },
  {
   "cell_type": "code",
   "execution_count": 88,
   "metadata": {},
   "outputs": [],
   "source": [
    "#  import seaborn as sns"
   ]
  },
  {
   "cell_type": "code",
   "execution_count": 114,
   "metadata": {},
   "outputs": [
    {
     "data": {
      "text/plain": [
       "<matplotlib.axes._subplots.AxesSubplot at 0x15bd1958>"
      ]
     },
     "execution_count": 114,
     "metadata": {},
     "output_type": "execute_result"
    },
    {
     "data": {
      "image/png": "[encoded data removed]",
      "text/plain": [
       "<Figure size 432x288 with 1 Axes>"
      ]
     },
     "metadata": {},
     "output_type": "display_data"
    }
   ],
   "source": [
    "# sns.distplot(error3, hist=False, kde=True, \n",
    "#               bins=int(10/0.1), color = 'darkblue',\n",
    "#               hist_kws={'edgecolor':'black'})"
   ]
  },
  {
   "cell_type": "code",
   "execution_count": 84,
   "metadata": {},
   "outputs": [],
   "source": [
    "import pandas as pd"
   ]
  },
  {
   "cell_type": "code",
   "execution_count": 86,
   "metadata": {},
   "outputs": [],
   "source": [
    "error_kde=pd.Series(error1)"
   ]
  },
  {
   "cell_type": "code",
   "execution_count": 87,
   "metadata": {},
   "outputs": [
    {
     "data": {
      "image/png": "[encoded data removed]",
      "text/plain": [
       "<Figure size 432x288 with 1 Axes>"
      ]
     },
     "metadata": {},
     "output_type": "display_data"
    }
   ],
   "source": [
    "#ax = error_kde.plot.kde()"
   ]
  },
  {
   "cell_type": "code",
   "execution_count": 90,
   "metadata": {},
   "outputs": [],
   "source": [
    "\"\"\"\n",
    "Price a European option by the implicit method\n",
    "of finite differences.\n",
    "\"\"\"\n",
    "import numpy as np\n",
    "import scipy.linalg as linalg\n",
    "\n",
    "class FDImplicitEu(FDExplicitEu):\n",
    "    \n",
    "    def _setup_coefficients_(self): \n",
    "        self.a = 0.5*(self.r*self.dt*self.i_values -\n",
    "                (self.sigma**2)*self.dt*(self.i_values**2))\n",
    "        self.b = 1 + \\\n",
    "                (self.sigma**2)*self.dt*(self.i_values**2) + \\\n",
    "                    self.r*self.dt\n",
    "        self.c = -0.5*(self.r * self.dt*self.i_values +\n",
    "                (self.sigma**2)*self.dt*(self.i_values**2))\n",
    "        self.coeffs = np.diag(self.a[2:self.M], -1) + \\\n",
    "                    np.diag(self.b[1:self.M]) + \\\n",
    "                    np.diag(self.c[1:self.M-1], 1)\n",
    "    def _traverse_grid_(self):\n",
    "    #\"\"\" Solve using linear systems of equations \"\"\"\n",
    "        P, L, U = linalg.lu(self.coeffs)\n",
    "        aux = np.zeros(self.M-1)\n",
    "        for j in reversed(range(self.N)):\n",
    "            aux[0] = np.dot(-self.a[1], self.grid[0, j])\n",
    "            x1 = linalg.solve(L, self.grid[1:self.M, j+1]+aux)\n",
    "            x2 = linalg.solve(U, x1)\n",
    "            self.grid[1:self.M, j] = x2"
   ]
  },
  {
   "cell_type": "code",
   "execution_count": 91,
   "metadata": {},
   "outputs": [],
   "source": [
    "option_im = FDImplicitEu(S, 10, 0.05, 6./12., 0.2, 15, 100, 30, False)\n",
    "error2=np.subtract(option_im.price(),putprices)"
   ]
  },
  {
   "cell_type": "code",
   "execution_count": 93,
   "metadata": {},
   "outputs": [],
   "source": [
    "error2_kde=pd.Series(error2)"
   ]
  },
  {
   "cell_type": "code",
   "execution_count": 94,
   "metadata": {},
   "outputs": [
    {
     "data": {
      "image/png": "[encoded data removed]",
      "text/plain": [
       "<Figure size 432x288 with 1 Axes>"
      ]
     },
     "metadata": {},
     "output_type": "display_data"
    }
   ],
   "source": [
    "ax = error2_kde.plot.kde()"
   ]
  },
  {
   "cell_type": "code",
   "execution_count": 95,
   "metadata": {},
   "outputs": [],
   "source": [
    "\"\"\" Crank-Nicolson method of Finite Differences \"\"\"\n",
    "class FDCnEu(FDExplicitEu):\n",
    "    def _setup_coefficients_(self):\n",
    "        self.alpha = 0.25*self.dt*(\n",
    "            (self.sigma**2)*(self.i_values**2) -\n",
    "            self.r*self.i_values)\n",
    "        self.beta = -self.dt*0.5*(\n",
    "                    (self.sigma**2)*(self.i_values**2) +\n",
    "                        self.r)\n",
    "        self.gamma = 0.25*self.dt*(\n",
    "            (self.sigma**2)*(self.i_values**2) +\n",
    "                self.r*self.i_values)\n",
    "        self.M1 = -np.diag(self.alpha[2:self.M], -1) + \\\n",
    "                np.diag(1-self.beta[1:self.M]) - \\\n",
    "                np.diag(self.gamma[1:self.M-1], 1)\n",
    "        self.M2 = np.diag(self.alpha[2:self.M], -1) + \\\n",
    "                np.diag(1+self.beta[1:self.M]) + \\\n",
    "                np.diag(self.gamma[1:self.M-1], 1)\n",
    "    def _traverse_grid_(self):\n",
    "        \n",
    "        \"\"\" Solve using linear systems of equations \"\"\"\n",
    "        P, L, U = linalg.lu(self.M1)\n",
    "        for j in reversed(range(self.N)):\n",
    "            x1 = linalg.solve(L,\n",
    "                np.dot(self.M2,\n",
    "                self.grid[1:self.M, j+1]))\n",
    "            x2 = linalg.solve(U, x1)\n",
    "            self.grid[1:self.M, j] = x2"
   ]
  },
  {
   "cell_type": "code",
   "execution_count": 99,
   "metadata": {},
   "outputs": [
    {
     "data": {
      "text/plain": [
       "array([4.75309956e+00, 4.65208979e+00, 4.55108048e+00, 4.45007171e+00,\n",
       "       4.34906351e+00, 4.24805739e+00, 4.14705368e+00, 4.04605249e+00,\n",
       "       3.94505906e+00, 3.84407458e+00, 3.74309917e+00, 3.64214803e+00,\n",
       "       3.54122498e+00, 3.44032918e+00, 3.33949811e+00, 3.23874246e+00,\n",
       "       3.13805673e+00, 3.03752013e+00, 2.93715964e+00, 2.83695454e+00,\n",
       "       2.73705044e+00, 2.63750863e+00, 2.53827042e+00, 2.43957111e+00,\n",
       "       2.34153653e+00, 2.24403017e+00, 2.14738944e+00, 2.05184864e+00,\n",
       "       1.95713588e+00, 1.86368351e+00, 1.77188897e+00, 1.68127622e+00,\n",
       "       1.59234240e+00, 1.50570519e+00, 1.42061791e+00, 1.33759364e+00,\n",
       "       1.25751726e+00, 1.17932431e+00, 1.10348702e+00, 1.03118111e+00,\n",
       "       9.61011406e-01, 8.93357697e-01, 8.29677632e-01, 7.68273902e-01,\n",
       "       7.09398319e-01, 6.54747029e-01, 6.02387937e-01, 5.52431070e-01,\n",
       "       5.06738816e-01, 4.63239080e-01, 4.21927972e-01, 3.84683447e-01,\n",
       "       3.49460680e-01, 3.16232314e-01, 2.86537552e-01, 2.58721488e-01,\n",
       "       2.32647768e-01, 2.09526157e-01, 1.88082468e-01, 1.68103546e-01,\n",
       "       1.50503533e-01, 1.34348839e-01, 1.19383124e-01, 1.06271859e-01,\n",
       "       9.43649939e-02, 8.33927913e-02, 7.38226772e-02, 6.52261936e-02,\n",
       "       5.73431889e-02, 5.04907384e-02, 4.44037309e-02, 3.88468717e-02,\n",
       "       3.40279176e-02, 2.97954849e-02, 2.59473102e-02, 2.26147708e-02,\n",
       "       1.97210940e-02, 1.70995779e-02, 1.48302074e-02, 1.28819645e-02,\n",
       "       1.11223214e-02, 9.59792241e-03, 8.30347136e-03, 7.13691872e-03,\n",
       "       6.12405460e-03, 5.27218234e-03, 4.50502105e-03, 3.83580744e-03,\n",
       "       3.27632213e-03, 2.77124784e-03, 2.32659404e-03, 1.95384089e-03,\n",
       "       1.61431158e-03, 1.31011131e-03, 1.04968132e-03, 8.07451955e-04,\n",
       "       5.83676863e-04, 3.82100428e-04, 1.87637805e-04, 0.00000000e+00])"
      ]
     },
     "execution_count": 99,
     "metadata": {},
     "output_type": "execute_result"
    }
   ],
   "source": [
    "option_cn = FDCnEu(S, 10, 0.05, 6./12., 0.2, 15, 100, 30, False)\n",
    "error3=np.subtract(option_cn.price(),putprices)\n",
    "option_cn.price()"
   ]
  },
  {
   "cell_type": "code",
   "execution_count": 100,
   "metadata": {},
   "outputs": [
    {
     "data": {
      "text/plain": [
       "array([4.75309934e+00, 4.65208948e+00, 4.55107983e+00, 4.45007059e+00,\n",
       "       4.34906204e+00, 4.24805469e+00, 4.14704932e+00, 4.04604717e+00,\n",
       "       3.94505011e+00, 3.84406091e+00, 3.74308357e+00, 3.64212376e+00,\n",
       "       3.54118934e+00, 3.44029100e+00, 3.33944292e+00, 3.23866368e+00,\n",
       "       3.13797709e+00, 3.03741317e+00, 2.93700912e+00, 2.83681030e+00,\n",
       "       2.73687115e+00, 2.63725600e+00, 2.53803971e+00, 2.43930819e+00,\n",
       "       2.34115857e+00, 2.24369919e+00, 2.14704919e+00, 2.05133788e+00,\n",
       "       1.95670369e+00, 1.86329286e+00, 1.77125781e+00, 1.68075528e+00,\n",
       "       1.59194426e+00, 1.50498372e+00, 1.42003032e+00, 1.33723605e+00,\n",
       "       1.25674595e+00, 1.17869587e+00, 1.10321051e+00, 1.03040157e+00,\n",
       "       9.60366209e-01, 8.93185805e-01, 8.28925024e-01, 7.67631209e-01,\n",
       "       7.09334111e-01, 6.54045929e-01, 6.01761658e-01, 5.52459710e-01,\n",
       "       5.06102782e-01, 4.62638931e-01, 4.22002820e-01, 3.84117091e-01,\n",
       "       3.48893845e-01, 3.16236153e-01, 2.86039608e-01, 2.58193848e-01,\n",
       "       2.32584044e-01, 2.09092321e-01, 1.87599092e-01, 1.67984286e-01,\n",
       "       1.50128471e-01, 1.33913850e-01, 1.19225135e-01, 1.05950292e-01,\n",
       "       9.39811667e-02, 8.32139938e-02, 7.35497869e-02, 6.48946299e-02,\n",
       "       5.71598712e-02, 5.02622319e-02, 4.41238373e-02, 3.86721835e-02,\n",
       "       3.38400461e-02, 2.95653424e-02, 2.57909551e-02, 2.24645249e-02,\n",
       "       1.95382215e-02, 1.69684969e-02, 1.47158294e-02, 1.27444614e-02,\n",
       "       1.10221376e-02, 9.51984462e-03, 8.21155720e-03, 7.07399284e-03,\n",
       "       6.08637609e-03, 5.23021468e-03, 4.48908815e-03, 3.84844956e-03,\n",
       "       3.29544073e-03, 2.81872091e-03, 2.40830878e-03, 2.05543744e-03,\n",
       "       1.75242189e-03, 1.49253845e-03, 1.26991543e-03, 1.07943448e-03,\n",
       "       9.16641680e-04, 7.77667951e-04, 6.59157760e-04, 5.58205638e-04])"
      ]
     },
     "execution_count": 100,
     "metadata": {},
     "output_type": "execute_result"
    }
   ],
   "source": [
    "putprices"
   ]
  },
  {
   "cell_type": "code",
   "execution_count": 97,
   "metadata": {},
   "outputs": [
    {
     "data": {
      "image/png": "[encoded data removed]",
      "text/plain": [
       "<Figure size 432x288 with 1 Axes>"
      ]
     },
     "metadata": {},
     "output_type": "display_data"
    }
   ],
   "source": [
    "error3_kde=pd.Series(error3)\n",
    "ax = error3_kde.plot.kde()"
   ]
  },
  {
   "cell_type": "code",
   "execution_count": 111,
   "metadata": {},
   "outputs": [
    {
     "data": {
      "text/plain": [
       "array([ 4.75299747e+00,  4.65198737e+00,  4.55097727e+00,  4.44996717e+00,\n",
       "        4.34898643e+00,  4.24871053e+00,  4.12986822e+00,  4.05441942e+00,\n",
       "        4.75326329e+00, -3.05648301e+00,  2.70034920e+00,  1.84880464e+02,\n",
       "       -9.44045261e+02, -4.12258117e+02,  1.67263998e+04, -5.68872245e+04,\n",
       "       -4.79986595e+04,  6.56258285e+05, -9.57190556e+05, -3.05194200e+06,\n",
       "       -2.44116637e+06,  7.56971779e+07, -1.22748136e+08, -1.41682496e+09,\n",
       "        5.83068517e+09, -3.28352904e+09, -7.07217756e+10,  2.05594854e+11,\n",
       "       -5.89546713e+10, -1.98584034e+12,  4.60985858e+12, -6.83062965e+11,\n",
       "       -3.73292908e+13,  7.20806293e+13, -4.16525247e+12, -5.00942576e+14,\n",
       "        8.20242749e+14,  8.49472133e+12, -4.95996403e+15,  6.95860928e+15,\n",
       "        4.62185074e+14, -3.69482756e+16,  4.46664673e+16,  5.14295442e+15,\n",
       "       -2.09616112e+17,  2.18926551e+17,  3.48107307e+16, -9.12465165e+17,\n",
       "        8.23653886e+17,  1.64270241e+17, -3.01688084e+18,  2.38369222e+18,\n",
       "        5.65730522e+17, -7.18166567e+18,  5.30363422e+18,  1.44942270e+18,\n",
       "       -1.32076430e+19,  9.04386895e+18,  2.78331562e+18, -1.86770638e+19,\n",
       "        1.17508929e+19,  4.00844943e+18, -2.01583941e+19,  1.15321463e+19,\n",
       "        4.30997652e+18, -1.64326350e+19,  8.44361935e+18,  3.42816052e+18,\n",
       "       -9.97414603e+18,  4.53591590e+18,  1.98866066e+18, -4.42280059e+18,\n",
       "        1.74791085e+18,  8.24474603e+17, -1.39674459e+18,  4.68527328e+17,\n",
       "        2.37497072e+17, -3.03474516e+17,  8.36826284e+16,  4.56898941e+16,\n",
       "       -4.32244065e+16,  9.35180477e+15,  5.54440014e+15, -3.76016397e+15,\n",
       "        5.92052986e+14,  3.89009179e+14, -1.78689381e+14,  1.77254639e+13,\n",
       "        1.36452309e+13, -3.80040986e+12,  1.58436147e+11,  1.79422743e+11,\n",
       "       -2.28734221e+10, -3.43423243e+08,  3.70077639e+08,  0.00000000e+00,\n",
       "        0.00000000e+00,  0.00000000e+00,  0.00000000e+00,  0.00000000e+00])"
      ]
     },
     "execution_count": 111,
     "metadata": {},
     "output_type": "execute_result"
    }
   ],
   "source": [
    "option1.price()"
   ]
  },
  {
   "cell_type": "code",
   "execution_count": 98,
   "metadata": {},
   "outputs": [
    {
     "data": {
      "image/png": "[encoded data removed]",
      "text/plain": [
       "<Figure size 432x288 with 1 Axes>"
      ]
     },
     "metadata": {},
     "output_type": "display_data"
    }
   ],
   "source": [
    "ax = error3_kde.plot.kde()\n",
    "ax = error2_kde.plot.kde()\n",
    "ax = error_kde.plot.kde()\n"
   ]
  },
  {
   "cell_type": "code",
   "execution_count": 122,
   "metadata": {},
   "outputs": [
    {
     "data": {
      "text/plain": [
       "<function matplotlib.pyplot.show(*args, **kw)>"
      ]
     },
     "execution_count": 122,
     "metadata": {},
     "output_type": "execute_result"
    },
    {
     "data": {
      "image/png": "[encoded data removed]",
      "text/plain": [
       "<Figure size 432x288 with 1 Axes>"
      ]
     },
     "metadata": {},
     "output_type": "display_data"
    }
   ],
   "source": [
    "pyplot.plot(error1,label='ex')\n",
    "pyplot.plot(error2,label='im')\n",
    "pyplot.plot(error3,label='cn')\n",
    "pyplot.legend()\n",
    "pyplot.show\n"
   ]
  },
  {
   "cell_type": "code",
   "execution_count": null,
   "metadata": {},
   "outputs": [],
   "source": []
  }
 ],
 "metadata": {
  "kernelspec": {
   "display_name": "Python 3 (ipykernel)",
   "language": "python",
   "name": "python3"
  },
  "language_info": {
   "codemirror_mode": {
    "name": "ipython",
    "version": 3
   },
   "file_extension": ".py",
   "mimetype": "text/x-python",
   "name": "python",
   "nbconvert_exporter": "python",
   "pygments_lexer": "ipython3",
   "version": "3.10.4"
  }
 },
 "nbformat": 4,
 "nbformat_minor": 2
}
